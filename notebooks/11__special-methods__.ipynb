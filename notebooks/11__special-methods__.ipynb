{
 "cells": [
  {
   "cell_type": "markdown",
   "metadata": {},
   "source": [
    "### What are special methods?\n",
    "- Special methods are magical methods that are used to engineer and customize classes. They're UTH 'Under the Hood' components of any class."
   ]
  },
  {
   "cell_type": "code",
   "execution_count": 1,
   "metadata": {},
   "outputs": [
    {
     "name": "stdout",
     "output_type": "stream",
     "text": [
      "['__class__', '__delattr__', '__dict__', '__dir__', '__doc__', '__eq__', '__format__', '__ge__', '__getattribute__', '__gt__', '__hash__', '__init__', '__init_subclass__', '__le__', '__lt__', '__module__', '__ne__', '__new__', '__reduce__', '__reduce_ex__', '__repr__', '__setattr__', '__sizeof__', '__str__', '__subclasshook__', '__weakref__']\n"
     ]
    }
   ],
   "source": [
    "# Take a gander at this plethora [list] of special methods under the hood of your empty class\n",
    "class Climate:\n",
    "    pass\n",
    "winter = Climate()\n",
    "print(dir(winter))\n"
   ]
  },
  {
   "cell_type": "code",
   "execution_count": 2,
   "metadata": {},
   "outputs": [
    {
     "name": "stdout",
     "output_type": "stream",
     "text": [
      "<class '__main__.Climate'>\n",
      "{}\n"
     ]
    }
   ],
   "source": [
    "# deeper dive into a special method\n",
    "print(winter.__class__)\n",
    "print(winter.__dict__) # empty"
   ]
  },
  {
   "cell_type": "code",
   "execution_count": 3,
   "metadata": {},
   "outputs": [],
   "source": [
    "# Let's give winter a name\n",
    "winter.first_name = 'Chilly'\n",
    "winter.last_name = 'Snow'"
   ]
  },
  {
   "cell_type": "code",
   "execution_count": 4,
   "metadata": {},
   "outputs": [
    {
     "name": "stdout",
     "output_type": "stream",
     "text": [
      "{'first_name': 'Chilly', 'last_name': 'Snow'}\n"
     ]
    }
   ],
   "source": [
    "# Let's find the purpose of the dict special method - to store object attributes\n",
    "print(winter.__dict__) # not empty"
   ]
  },
  {
   "cell_type": "code",
   "execution_count": 5,
   "metadata": {},
   "outputs": [
    {
     "name": "stdout",
     "output_type": "stream",
     "text": [
      "A fundamental character of planet earth\n"
     ]
    }
   ],
   "source": [
    "# Let's add some code to this class\n",
    "class Climate:\n",
    "    '''A fundamental character of planet earth''' # this is stored in special method __doc__\n",
    "    def __init__(self, fn, ln): # __init__ is a constructor special method\n",
    "        self.fn = fn \n",
    "        self.ln = ln \n",
    "print(Climate.__doc__) # see"
   ]
  },
  {
   "cell_type": "code",
   "execution_count": 6,
   "metadata": {},
   "outputs": [
    {
     "name": "stdout",
     "output_type": "stream",
     "text": [
      "{'fn': 'Desert', 'ln': 'Heat'}\n"
     ]
    }
   ],
   "source": [
    "summer = Climate('Desert', 'Heat')\n",
    "print(summer.__dict__) # See how the fn and ln are stored in that dictionary"
   ]
  },
  {
   "cell_type": "code",
   "execution_count": 7,
   "metadata": {},
   "outputs": [],
   "source": [
    "# Add more attributes to the object summer\n",
    "summer.max_temp = 110\n",
    "summer.min_temp = 70"
   ]
  },
  {
   "cell_type": "code",
   "execution_count": 8,
   "metadata": {},
   "outputs": [
    {
     "name": "stdout",
     "output_type": "stream",
     "text": [
      "{'fn': 'Desert', 'ln': 'Heat', 'max_temp': 110, 'min_temp': 70}\n"
     ]
    }
   ],
   "source": [
    "print(summer.__dict__)"
   ]
  },
  {
   "cell_type": "markdown",
   "metadata": {},
   "source": [
    "#### Let's explore set and get attributes special method"
   ]
  },
  {
   "cell_type": "code",
   "execution_count": 16,
   "metadata": {},
   "outputs": [],
   "source": [
    "class Climate:\n",
    "    '''A fundamental character of planet earth''' # this is stored in special method __doc__\n",
    "    def __init__(self, fn, ln): # __init__ is a constructor special method\n",
    "        self.first_name = fn \n",
    "        self.last_name = ln \n",
    "    def __setattr__(self, name, value):\n",
    "        print(f\"you set{name} = {value}\")"
   ]
  },
  {
   "cell_type": "code",
   "execution_count": 17,
   "metadata": {},
   "outputs": [
    {
     "name": "stdout",
     "output_type": "stream",
     "text": [
      "you setfirst_name = Leaves\n",
      "you setlast_name = Fall\n",
      "{}\n"
     ]
    }
   ],
   "source": [
    "autumn = Climate('Leaves', 'Fall')\n",
    "print(autumn.__dict__)"
   ]
  },
  {
   "cell_type": "code",
   "execution_count": 18,
   "metadata": {},
   "outputs": [],
   "source": [
    "# We're now responsible for storing attributes\n",
    "class Climate:\n",
    "    '''A fundamental character of planet earth''' # this is stored in special method __doc__\n",
    "    def __init__(self, fn, ln): # __init__ is a constructor special method\n",
    "        self.first_name = fn \n",
    "        self.last_name = ln \n",
    "    def __setattr__(self, name, value):\n",
    "        print(f\"you set{name} = {value}\")\n",
    "        self.__dict__[name] = value\n"
   ]
  },
  {
   "cell_type": "code",
   "execution_count": 19,
   "metadata": {},
   "outputs": [
    {
     "name": "stdout",
     "output_type": "stream",
     "text": [
      "you setfirst_name = Leaves\n",
      "you setlast_name = Fall\n",
      "{'first_name': 'Leaves', 'last_name': 'Fall'}\n"
     ]
    }
   ],
   "source": [
    "autumn = Climate('Leaves', 'Fall')\n",
    "print(autumn.__dict__)"
   ]
  },
  {
   "cell_type": "code",
   "execution_count": 33,
   "metadata": {},
   "outputs": [],
   "source": [
    "# Add our own get attribute\n",
    "class Climate:\n",
    "    '''A fundamental character of planet earth''' # this is stored in special method __doc__\n",
    "    def __init__(self, fn, ln): # __init__ is a constructor special method\n",
    "        self.first_name = fn \n",
    "        self.last_name = ln \n",
    "\n",
    "    def __setattr__(self, name, value):\n",
    "        print(f\"you set{name} = {value}\")\n",
    "        self.__dict__[name] = value # you must set your own dict here\n",
    "\n",
    "    def __getattr__(self, name):\n",
    "        print(f\"Get the {name} attribute\")"
   ]
  },
  {
   "cell_type": "code",
   "execution_count": 34,
   "metadata": {},
   "outputs": [
    {
     "name": "stdout",
     "output_type": "stream",
     "text": [
      "you setfirst_name = Amazing\n",
      "you setlast_name = Weather\n",
      "First name = Amazing\n",
      "Last name = Weather\n"
     ]
    }
   ],
   "source": [
    "spring = Climate('Amazing', 'Weather')\n",
    "print(f\"First name = {spring.first_name}\")\n",
    "print(f\"Last name = {spring.last_name}\")"
   ]
  },
  {
   "cell_type": "code",
   "execution_count": 35,
   "metadata": {},
   "outputs": [
    {
     "data": {
      "text/plain": [
       "'Weather'"
      ]
     },
     "execution_count": 35,
     "metadata": {},
     "output_type": "execute_result"
    }
   ],
   "source": [
    "spring.last_name"
   ]
  },
  {
   "cell_type": "code",
   "execution_count": 43,
   "metadata": {},
   "outputs": [],
   "source": [
    "# Add our own get attribute\n",
    "class Climate:\n",
    "    '''A fundamental character of planet earth''' # this is stored in special method __doc__\n",
    "    def __init__(self, fn, ln): # __init__ is a constructor special method\n",
    "        self.first_name = fn \n",
    "        self.last_name = ln \n",
    "\n",
    "    def __setattr__(self, name, value):\n",
    "        print(f\"you set{name} = {value}\")\n",
    "        self.__dict__[name] = value # you must set your own dict here\n",
    "\n",
    "    def __getattr__(self, name):\n",
    "        print(f\"Get the {name} attribute\")\n",
    "        if name == 'full_name':\n",
    "          return f\"{self.first_name} {self.last_name}\"\n",
    "        else:\n",
    "          raise AttributeError(f\"No attribute named {name}.\")"
   ]
  },
  {
   "cell_type": "code",
   "execution_count": 44,
   "metadata": {},
   "outputs": [
    {
     "name": "stdout",
     "output_type": "stream",
     "text": [
      "you setfirst_name = Dangerous\n",
      "you setlast_name = Thing\n",
      "First name = Dangerous\n",
      "Last name = Thing\n"
     ]
    }
   ],
   "source": [
    "tornado = Climate('Dangerous', 'Thing')\n",
    "print(f\"First name = {tornado.first_name}\")\n",
    "print(f\"Last name = {tornado.last_name}\")"
   ]
  },
  {
   "cell_type": "code",
   "execution_count": null,
   "metadata": {},
   "outputs": [],
   "source": []
  }
 ],
 "metadata": {
  "kernelspec": {
   "display_name": "venv-pe",
   "language": "python",
   "name": "python3"
  },
  "language_info": {
   "codemirror_mode": {
    "name": "ipython",
    "version": 3
   },
   "file_extension": ".py",
   "mimetype": "text/x-python",
   "name": "python",
   "nbconvert_exporter": "python",
   "pygments_lexer": "ipython3",
   "version": "3.10.11"
  }
 },
 "nbformat": 4,
 "nbformat_minor": 2
}
