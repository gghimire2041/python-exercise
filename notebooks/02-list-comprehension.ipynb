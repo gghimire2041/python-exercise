{
 "cells": [
  {
   "cell_type": "markdown",
   "metadata": {},
   "source": [
    "## List Comprehension\n",
    "List comprehension in Python is a concise way to create lists. It's a powerful construct \n",
    "that allows you to generate lists based on existing iterables (such as lists, tuples, or strings) \n",
    "using a compact and readable syntax. It's commonly used to replace loops and conditional statements \n",
    "when creating lists."
   ]
  },
  {
   "cell_type": "markdown",
   "metadata": {},
   "source": [
    "#### Basic Syntax:\n",
    "\n",
    "The general syntax for list comprehension is [expression for item in iterable if condition].\n",
    "\n",
    "#### Here's a breakdown:\n",
    "\n",
    "    expression: The expression to evaluate and include in the new list.\n",
    "    item: The variable representing each element in the iterable.\n",
    "    iterable: The existing iterable (list, tuple, string, etc.) you're iterating over.\n",
    "    condition (optional): A condition to filter elements."
   ]
  },
  {
   "cell_type": "markdown",
   "metadata": {},
   "source": [
    "### [ (operation) for (item) in (list-name) if (condition) ]"
   ]
  },
  {
   "cell_type": "code",
   "execution_count": 2,
   "metadata": {},
   "outputs": [
    {
     "name": "stdout",
     "output_type": "stream",
     "text": [
      "[1, 4, 9, 16, 25]\n",
      "[1, 4, 9, 16, 25]\n"
     ]
    }
   ],
   "source": [
    "# Using a for loop\n",
    "squares = []\n",
    "for i in range(1, 6):\n",
    "    squares.append(i ** 2)\n",
    "print(squares)  # Output: [1, 4, 9, 16, 25]\n",
    "\n",
    "# Using list comprehension\n",
    "squares = [i ** 2 for i in range(1, 6)]\n",
    "print(squares)  # Output: [1, 4, 9, 16, 25]\n"
   ]
  },
  {
   "cell_type": "code",
   "execution_count": 3,
   "metadata": {},
   "outputs": [
    {
     "name": "stdout",
     "output_type": "stream",
     "text": [
      "[1, 3, 5, 7, 9]\n",
      "[1, 3, 5, 7, 9]\n"
     ]
    }
   ],
   "source": [
    "# Using a for loop\n",
    "numbers = [1, 2, 3, 4, 5, 6, 7, 8, 9]\n",
    "odd_numbers = []\n",
    "for num in numbers:\n",
    "    if num % 2 != 0:\n",
    "        odd_numbers.append(num)\n",
    "print(odd_numbers)  # Output: [1, 3, 5, 7, 9]\n",
    "\n",
    "# Using list comprehension with a condition\n",
    "odd_numbers = [num for num in numbers if num % 2 != 0]\n",
    "print(odd_numbers)  # Output: [1, 3, 5, 7, 9]"
   ]
  },
  {
   "cell_type": "code",
   "execution_count": 4,
   "metadata": {},
   "outputs": [
    {
     "name": "stdout",
     "output_type": "stream",
     "text": [
      "[(0, 0), (0, 1), (0, 2), (1, 0), (1, 1), (1, 2), (2, 0), (2, 1), (2, 2)]\n",
      "[(0, 0), (0, 1), (0, 2), (1, 0), (1, 1), (1, 2), (2, 0), (2, 1), (2, 2)]\n"
     ]
    }
   ],
   "source": [
    "# Using a for loop\n",
    "pairs = []\n",
    "for x in range(3):\n",
    "    for y in range(3):\n",
    "        pairs.append((x, y))\n",
    "print(pairs)  # Output: [(0, 0), (0, 1), (0, 2), (1, 0), (1, 1), (1, 2), (2, 0), (2, 1), (2, 2)]\n",
    "\n",
    "# Using list comprehension with nested loops\n",
    "pairs = [(x, y) for x in range(3) for y in range(3)]\n",
    "print(pairs)  # Output: [(0, 0), (0, 1), (0, 2), (1, 0), (1, 1), (1, 2), (2, 0), (2, 1), (2, 2)]\n"
   ]
  },
  {
   "cell_type": "code",
   "execution_count": 5,
   "metadata": {},
   "outputs": [
    {
     "name": "stdout",
     "output_type": "stream",
     "text": [
      "['h', 'e', 'l', 'l', 'o']\n",
      "['h', 'e', 'l', 'l', 'o']\n"
     ]
    }
   ],
   "source": [
    "# Using a for loop\n",
    "word = 'hello'\n",
    "letters = []\n",
    "for letter in word:\n",
    "    letters.append(letter)\n",
    "print(letters)  # Output: ['h', 'e', 'l', 'l', 'o']\n",
    "\n",
    "# Using list comprehension with strings\n",
    "letters = [letter for letter in word]\n",
    "print(letters)  # Output: ['h', 'e', 'l', 'l', 'o']\n"
   ]
  },
  {
   "cell_type": "code",
   "execution_count": 6,
   "metadata": {},
   "outputs": [
    {
     "name": "stdout",
     "output_type": "stream",
     "text": [
      "[2, 4, 6, 8, 10]\n",
      "['HELLO', 'WORLD']\n"
     ]
    }
   ],
   "source": [
    "# Doubling each element in a list\n",
    "numbers = [1, 2, 3, 4, 5]\n",
    "doubled = [num * 2 for num in numbers]\n",
    "print(doubled)  # Output: [2, 4, 6, 8, 10]\n",
    "\n",
    "# Converting elements to uppercase\n",
    "words = ['hello', 'world']\n",
    "uppercase = [word.upper() for word in words]\n",
    "print(uppercase)  # Output: ['HELLO', 'WORLD']"
   ]
  },
  {
   "cell_type": "code",
   "execution_count": 7,
   "metadata": {},
   "outputs": [
    {
     "name": "stdout",
     "output_type": "stream",
     "text": [
      "[1, 2, 3, 4, 5, 6, 7, 8, 9]\n"
     ]
    }
   ],
   "source": [
    "matrix = [[1, 2, 3], [4, 5, 6], [7, 8, 9]]\n",
    "\n",
    "# Using list comprehension with nested loops\n",
    "flattened = [num for row in matrix for num in row]\n",
    "print(flattened)  # Output: [1, 2, 3, 4, 5, 6, 7, 8, 9]"
   ]
  },
  {
   "cell_type": "code",
   "execution_count": 9,
   "metadata": {},
   "outputs": [
    {
     "name": "stdout",
     "output_type": "stream",
     "text": [
      "[[1, 2, 3], [4, 5, 6], [7, 8, 9]]\n"
     ]
    }
   ],
   "source": [
    "# Filter lists of lists to only contain sublists with even numbers\n",
    "matrix = [[1, 2, 3], [4, 5, 6], [7, 8, 9]]\n",
    "filtered = [row for row in matrix if any(num % 2 == 0 for num in row)]\n",
    "print(filtered)  # Output: [[1, 2, 3], [4, 5, 6]]"
   ]
  },
  {
   "cell_type": "code",
   "execution_count": 10,
   "metadata": {},
   "outputs": [
    {
     "name": "stdout",
     "output_type": "stream",
     "text": [
      "[0, 0, 0, 0, 1, 2, 3]\n"
     ]
    }
   ],
   "source": [
    "# Replace negative numbers with 0, leave positive numbers as is\n",
    "numbers = [-3, -2, -1, 0, 1, 2, 3]\n",
    "modified = [num if num >= 0 else 0 for num in numbers]\n",
    "print(modified)  # Output: [0, 0, 0, 0, 1, 2, 3]\n"
   ]
  },
  {
   "cell_type": "markdown",
   "metadata": {},
   "source": [
    "## The End "
   ]
  },
  {
   "cell_type": "code",
   "execution_count": null,
   "metadata": {},
   "outputs": [],
   "source": []
  }
 ],
 "metadata": {
  "kernelspec": {
   "display_name": "venv-pe",
   "language": "python",
   "name": "python3"
  },
  "language_info": {
   "codemirror_mode": {
    "name": "ipython",
    "version": 3
   },
   "file_extension": ".py",
   "mimetype": "text/x-python",
   "name": "python",
   "nbconvert_exporter": "python",
   "pygments_lexer": "ipython3",
   "version": "3.10.11"
  }
 },
 "nbformat": 4,
 "nbformat_minor": 2
}
