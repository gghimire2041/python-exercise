{
 "cells": [
  {
   "cell_type": "markdown",
   "metadata": {},
   "source": [
    "## Object-Oriented Programming (OOP)\n",
    "\n",
    "Object-oriented programming (OOP) is a programming paradigm centered around the concept of \"objects.\" These objects are instances of classes and serve as the fundamental building blocks of OOP. Here are some core principles:\n",
    "\n",
    "### Objects:\n",
    "Objects in OOP represent real-world entities and consist of both data (attributes/properties) and behaviors (methods/functions) that operate on that data.\n",
    "\n",
    "### Classes:\n",
    "Classes act as blueprints or templates that define the structure and behavior of objects. They specify the attributes and methods an object will possess but are not the objects themselves.\n",
    "\n",
    "### Encapsulation:\n",
    "Encapsulation involves bundling data and related methods within a single unit (an object). It hides the internal state and mandates interaction with an object only through its defined methods.\n",
    "\n",
    "### Inheritance:\n",
    "Inheritance allows a class (subclass/derived class) to inherit properties and behavior from another class (superclass/base class). It promotes code reuse and hierarchy creation.\n",
    "\n",
    "### Polymorphism:\n",
    "Polymorphism enables objects of different classes to be treated as objects of a common superclass. It allows a single interface for entities of various types and facilitates implementing different functionalities through a uniform interface.\n",
    "\n",
    "#### How OOP Works:\n",
    "- **Objects**: They possess states (attributes) and behaviors (methods/functions).\n",
    "- **Classes**: They define blueprints/templates for creating objects.\n",
    "- **Abstraction**: Focuses on essential attributes and behaviors while hiding unnecessary details.\n",
    "- **Modularity**: OOP divides complex systems into smaller, manageable parts (objects/classes).\n",
    "\n",
    "Languages such as Python, Java, C++, among others, support object-oriented programming. OOP organizes code, making it more structured, reusable, and easier to maintain and expand as software evolves.\n"
   ]
  },
  {
   "cell_type": "markdown",
   "metadata": {},
   "source": [
    "#### Class: \n",
    "A class is like a blueprint or a template for creating objects. It defines the attributes and methods that objects of that class will have. Here's a simple example of a class definition:"
   ]
  },
  {
   "cell_type": "code",
   "execution_count": 1,
   "metadata": {},
   "outputs": [],
   "source": [
    "class Dog: #always starts with a capital letter\n",
    "    def __init__(self, name, breed): #two attributes\n",
    "        self.name = name\n",
    "        self.breed = breed\n",
    "\n",
    "    def bark(self):\n",
    "        print(f\"{self.name} barks!\")"
   ]
  },
  {
   "cell_type": "markdown",
   "metadata": {},
   "source": [
    "#### Object: \n",
    "An object is an instance of a class. You can create multiple objects based on the same class, each with its own unique attributes and methods. Here's how you create objects:"
   ]
  },
  {
   "cell_type": "code",
   "execution_count": 2,
   "metadata": {},
   "outputs": [],
   "source": [
    "dog1 = Dog(\"Buddy\", \"Golden Retriever\") #instance \n",
    "dog2 = Dog(\"Max\", \"Labrador\") #instance"
   ]
  },
  {
   "cell_type": "code",
   "execution_count": 3,
   "metadata": {},
   "outputs": [
    {
     "data": {
      "text/plain": [
       "'Golden Retriever'"
      ]
     },
     "execution_count": 3,
     "metadata": {},
     "output_type": "execute_result"
    }
   ],
   "source": [
    "dog1.breed"
   ]
  },
  {
   "cell_type": "code",
   "execution_count": 4,
   "metadata": {},
   "outputs": [
    {
     "data": {
      "text/plain": [
       "'Buddy'"
      ]
     },
     "execution_count": 4,
     "metadata": {},
     "output_type": "execute_result"
    }
   ],
   "source": [
    "dog1.name"
   ]
  },
  {
   "cell_type": "markdown",
   "metadata": {},
   "source": [
    "#### Methods"
   ]
  },
  {
   "cell_type": "code",
   "execution_count": 5,
   "metadata": {},
   "outputs": [
    {
     "name": "stdout",
     "output_type": "stream",
     "text": [
      "Radius is:  1\n",
      "Area is:  3.14\n",
      "Circumference is:  6.28\n"
     ]
    }
   ],
   "source": [
    "class Circle:\n",
    "    pi = 3.14 # Global variable\n",
    "\n",
    "    # Circle gets instantiated with a radius (default is 1)\n",
    "    def __init__(self, radius=1):\n",
    "        self.radius = radius \n",
    "        self.area = radius * radius * Circle.pi\n",
    "\n",
    "    # Method for resetting Radius\n",
    "    def setRadius(self, new_radius):\n",
    "        self.radius = new_radius\n",
    "        self.area = new_radius * new_radius * self.pi\n",
    "\n",
    "    # Method for getting Circumference\n",
    "    def getCircumference(self):\n",
    "        return self.radius * self.pi * 2\n",
    "\n",
    "\n",
    "c = Circle() # an instance of Circle\n",
    "\n",
    "print('Radius is: ',c.radius)\n",
    "print('Area is: ',c.area)\n",
    "print('Circumference is: ',c.getCircumference())\n"
   ]
  },
  {
   "cell_type": "markdown",
   "metadata": {},
   "source": [
    "#### Inheritance\n"
   ]
  },
  {
   "cell_type": "markdown",
   "metadata": {},
   "source": [
    "Inheritance is a way to form new classes using classes that have already been defined. The newly formed classes are called derived classes, the classes that we derive from are called base classes. Important benefits of inheritance are code reuse and reduction of complexity of a program. The derived classes (descendants) override or extend the functionality of base classes (ancestors).\n",
    "\n",
    "Let's see an example:"
   ]
  },
  {
   "cell_type": "code",
   "execution_count": 7,
   "metadata": {},
   "outputs": [
    {
     "name": "stdout",
     "output_type": "stream",
     "text": [
      "Buddy is a Dog of breed Labrador. Sound: Woof!\n",
      "Whiskers is a Cat of breed Siamese. Sound: Meow!\n"
     ]
    }
   ],
   "source": [
    "# Defining a base class (superclass)\n",
    "class Animal:\n",
    "    def __init__(self, species):\n",
    "        self.species = species\n",
    "\n",
    "    def make_sound(self):\n",
    "        pass  # Placeholder for the sound method\n",
    "\n",
    "\n",
    "# Creating a subclass (derived class) that inherits from Animal\n",
    "class Dog(Animal):\n",
    "    def __init__(self, name, breed):\n",
    "        super().__init__('Dog')\n",
    "        self.name = name\n",
    "        self.breed = breed\n",
    "\n",
    "    def make_sound(self):\n",
    "        return \"Woof!\"\n",
    "\n",
    "\n",
    "# Creating another subclass (derived class) that inherits from Animal\n",
    "class Cat(Animal):\n",
    "    def __init__(self, name, breed):\n",
    "        super().__init__('Cat')\n",
    "        self.name = name\n",
    "        self.breed = breed\n",
    "\n",
    "    def make_sound(self):\n",
    "        return \"Meow!\"\n",
    "\n",
    "\n",
    "# Creating instances of the subclasses\n",
    "my_dog = Dog(\"Buddy\", \"Labrador\")\n",
    "my_cat = Cat(\"Whiskers\", \"Siamese\")\n",
    "\n",
    "# Accessing attributes and methods of the subclasses\n",
    "print(f\"{my_dog.name} is a {my_dog.species} of breed {my_dog.breed}. Sound: {my_dog.make_sound()}\")\n",
    "print(f\"{my_cat.name} is a {my_cat.species} of breed {my_cat.breed}. Sound: {my_cat.make_sound()}\")\n"
   ]
  },
  {
   "cell_type": "markdown",
   "metadata": {},
   "source": [
    "#### Polymorphism\n",
    "We've learned that while functions can take in different arguments, methods belong to the objects they act on. In Python, polymorphism refers to the way in which different object classes can share the same method name, and those methods can be called from the same place even though a variety of different objects might be passed in. The best way to explain this is by example:"
   ]
  },
  {
   "cell_type": "code",
   "execution_count": 9,
   "metadata": {},
   "outputs": [
    {
     "name": "stdout",
     "output_type": "stream",
     "text": [
      "Woof!\n",
      "Meow!\n"
     ]
    }
   ],
   "source": [
    "# Base class\n",
    "class Animal:\n",
    "    def sound(self):\n",
    "        pass\n",
    "\n",
    "\n",
    "# Subclass 1\n",
    "class Dog(Animal):\n",
    "    def sound(self):\n",
    "        return \"Woof!\"\n",
    "\n",
    "\n",
    "# Subclass 2\n",
    "class Cat(Animal):\n",
    "    def sound(self):\n",
    "        return \"Meow!\"\n",
    "\n",
    "\n",
    "# Function demonstrating polymorphism\n",
    "def make_sound(animal):\n",
    "    return animal.sound()\n",
    "\n",
    "\n",
    "# Creating instances of the subclasses\n",
    "my_dog = Dog()\n",
    "my_cat = Cat()\n",
    "\n",
    "# Using the function with different objects\n",
    "print(make_sound(my_dog))  # Outputs: Woof!\n",
    "print(make_sound(my_cat))  # Outputs: Meow!\n"
   ]
  },
  {
   "cell_type": "markdown",
   "metadata": {},
   "source": [
    "#### Special Methods\n",
    "Finally let's go over special methods. Classes in Python can implement certain operations with special method names. These methods are not actually called directly but by Python specific language syntax.\n",
    "\n",
    "\n",
    "In Python, special methods (also called magic methods or dunder methods) are denoted by double underscores at the beginning and end of their names, such as `__init__`, `__str__`, `__add__`, etc. These methods allow customization of how objects behave in various scenarios and enable classes to emulate built-in behavior.\n",
    "\n",
    "### Initialization and Representation:\n",
    "- `__init__(self, ...)`: Initializes an object's attributes when the object is created.\n",
    "- `__str__(self)`: Returns a string representation of an object when using `str(object)` or `print(object)`.\n",
    "- `__repr__(self)`: Returns a string representation of the object for debugging and development. Used by `repr()` and in the interpreter.\n",
    "\n",
    "### Comparison:\n",
    "- `__eq__(self, other)`: Defines the behavior of the equality operator (`==`).\n",
    "- `__lt__(self, other)`, `__le__(self, other)`, `__gt__(self, other)`, `__ge__(self, other)`: Define comparison operators `<`, `<=`, `>`, `>=`.\n",
    "\n",
    "### Arithmetic Operations:\n",
    "- `__add__(self, other)`, `__sub__(self, other)`, `__mul__(self, other)`, `__truediv__(self, other)`: Define behavior for arithmetic operators `+`, `-`, `*`, `/`.\n",
    "\n",
    "### Container Types:\n",
    "- `__len__(self)`: Returns the length of the object when using `len(object)`.\n",
    "- `__getitem__(self, key)`, `__setitem__(self, key, value)`: Define behavior for accessing items using index or key.\n",
    "\n",
    "### Miscellaneous:\n",
    "- `__call__(self, ...)`: Allows instances of a class to be called as functions.\n",
    "- `__enter__(self)`, `__exit__(self, exc_type, exc_value, traceback)`: Context manager methods used in a `with` statement.\n",
    "\n",
    "### Example (using `__str__` and `__add__`):\n"
   ]
  },
  {
   "cell_type": "code",
   "execution_count": 10,
   "metadata": {},
   "outputs": [
    {
     "name": "stdout",
     "output_type": "stream",
     "text": [
      "Point(1, 2)\n",
      "Point(4, 6)\n"
     ]
    }
   ],
   "source": [
    "class Point:\n",
    "    def __init__(self, x, y):\n",
    "        self.x = x\n",
    "        self.y = y\n",
    "\n",
    "    def __str__(self):\n",
    "        return f\"Point({self.x}, {self.y})\"\n",
    "\n",
    "    def __add__(self, other):\n",
    "        if isinstance(other, Point):\n",
    "            return Point(self.x + other.x, self.y + other.y)\n",
    "        raise ValueError(\"Addition is supported only between Point objects.\")\n",
    "\n",
    "# Using special methods\n",
    "p1 = Point(1, 2)\n",
    "p2 = Point(3, 4)\n",
    "\n",
    "print(p1)  # Outputs: Point(1, 2)\n",
    "print(p1 + p2)  # Outputs: Point(4, 6)\n"
   ]
  },
  {
   "cell_type": "markdown",
   "metadata": {},
   "source": [
    "## Some Challenges"
   ]
  },
  {
   "cell_type": "markdown",
   "metadata": {},
   "source": [
    "## Challenges in Python OOP and Solutions\n",
    "\n",
    "### 1. Designing Effective Class Hierarchies:\n",
    "**Challenge:** Creating well-structured class hierarchies without excessive coupling.\n",
    "**Solution:** Utilize SOLID principles for guidance. Avoid deep hierarchies and favor composition over inheritance when suitable.\n",
    "\n",
    "### 2. Managing Inheritance and Composition:\n",
    "**Challenge:** Choosing between inheritance and composition for code reuse and managing class relationships.\n",
    "**Solution:** Prefer composition over inheritance to avoid deep hierarchies. Use inheritance for \"is-a\" relationships and composition for \"has-a\" relationships.\n",
    "\n",
    "### 3. Understanding and Implementing Polymorphism:\n",
    "**Challenge:** Grasping polymorphism and implementing it effectively.\n",
    "**Solution:** Practice method overriding in subclasses, ensuring a common interface with different behavior.\n",
    "\n",
    "### 4. Dealing with Method Overriding:\n",
    "**Challenge:** Ensuring correct method overriding without altering base class behavior unintentionally.\n",
    "**Solution:** Document base class methods clearly, design subclasses with explicit intentions, and maintain expected behavior.\n",
    "\n",
    "### 5. Handling Mutable Default Arguments in Methods:\n",
    "**Challenge:** Unexpected behavior due to mutable default arguments in methods.\n",
    "**Solution:** Use immutable defaults or create new instances of mutable objects within methods.\n",
    "\n",
    "### 6. Managing Object Lifecycle with Destructors:\n",
    "**Challenge:** Understanding object lifecycle and resource cleanup using destructors.\n",
    "**Solution:** Prefer context managers (`with` statements) for resource cleanup instead of relying on destructors.\n",
    "\n",
    "### 7. Avoiding Attribute Name Clashes in Inheritance:\n",
    "**Challenge:** Preventing attribute name clashes when inheriting from multiple classes or dealing with naming conflicts.\n",
    "**Solution:** Employ proper naming conventions, namespaces, and name mangling to minimize clashes.\n",
    "\n",
    "By understanding these challenges and applying best practices and design principles, you can navigate through the complexities of object-oriented programming effectively. Regular practice and exposure to various scenarios will enhance your proficiency in utilizing OOP concepts efficiently.\n"
   ]
  },
  {
   "cell_type": "code",
   "execution_count": null,
   "metadata": {},
   "outputs": [],
   "source": []
  }
 ],
 "metadata": {
  "kernelspec": {
   "display_name": "Python 3",
   "language": "python",
   "name": "python3"
  },
  "language_info": {
   "codemirror_mode": {
    "name": "ipython",
    "version": 3
   },
   "file_extension": ".py",
   "mimetype": "text/x-python",
   "name": "python",
   "nbconvert_exporter": "python",
   "pygments_lexer": "ipython3",
   "version": "3.10.11"
  },
  "orig_nbformat": 4
 },
 "nbformat": 4,
 "nbformat_minor": 2
}
