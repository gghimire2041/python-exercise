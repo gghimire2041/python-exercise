{
 "cells": [
  {
   "cell_type": "markdown",
   "metadata": {},
   "source": [
    "## Object-Oriented Programming (OOP)\n",
    "\n",
    "Object-oriented programming (OOP) is a programming paradigm centered around the concept of \"objects.\" These objects are instances of classes and serve as the fundamental building blocks of OOP. Here are some core principles:\n",
    "\n",
    "### Objects:\n",
    "Objects in OOP represent real-world entities and consist of both data (attributes/properties) and behaviors (methods/functions) that operate on that data.\n",
    "\n",
    "### Classes:\n",
    "Classes act as blueprints or templates that define the structure and behavior of objects. They specify the attributes and methods an object will possess but are not the objects themselves.\n",
    "\n",
    "### Encapsulation:\n",
    "Encapsulation involves bundling data and related methods within a single unit (an object). It hides the internal state and mandates interaction with an object only through its defined methods.\n",
    "\n",
    "### Inheritance:\n",
    "Inheritance allows a class (subclass/derived class) to inherit properties and behavior from another class (superclass/base class). It promotes code reuse and hierarchy creation.\n",
    "\n",
    "### Polymorphism:\n",
    "Polymorphism enables objects of different classes to be treated as objects of a common superclass. It allows a single interface for entities of various types and facilitates implementing different functionalities through a uniform interface.\n",
    "\n",
    "#### How OOP Works:\n",
    "- **Objects**: They possess states (attributes) and behaviors (methods/functions).\n",
    "- **Classes**: They define blueprints/templates for creating objects.\n",
    "- **Abstraction**: Focuses on essential attributes and behaviors while hiding unnecessary details.\n",
    "- **Modularity**: OOP divides complex systems into smaller, manageable parts (objects/classes).\n",
    "\n",
    "Languages such as Python, Java, C++, among others, support object-oriented programming. OOP organizes code, making it more structured, reusable, and easier to maintain and expand as software evolves.\n"
   ]
  },
  {
   "cell_type": "markdown",
   "metadata": {},
   "source": [
    "#### Class: \n",
    "A class is like a blueprint or a template for creating objects. It defines the attributes and methods that objects of that class will have. Here's a simple example of a class definition:"
   ]
  },
  {
   "cell_type": "code",
   "execution_count": 1,
   "metadata": {},
   "outputs": [],
   "source": [
    "class Dog: #always starts with a capital letter\n",
    "    def __init__(self, name, breed): #two attributes\n",
    "        self.name = name\n",
    "        self.breed = breed\n",
    "\n",
    "    def bark(self):\n",
    "        print(f\"{self.name} barks!\")"
   ]
  },
  {
   "cell_type": "markdown",
   "metadata": {},
   "source": [
    "#### Object: \n",
    "An object is an instance of a class. You can create multiple objects based on the same class, each with its own unique attributes and methods. Here's how you create objects:"
   ]
  },
  {
   "cell_type": "code",
   "execution_count": 2,
   "metadata": {},
   "outputs": [],
   "source": [
    "dog1 = Dog(\"Buddy\", \"Golden Retriever\") #instance \n",
    "dog2 = Dog(\"Max\", \"Labrador\") #instance"
   ]
  },
  {
   "cell_type": "code",
   "execution_count": 3,
   "metadata": {},
   "outputs": [
    {
     "data": {
      "text/plain": [
       "'Golden Retriever'"
      ]
     },
     "execution_count": 3,
     "metadata": {},
     "output_type": "execute_result"
    }
   ],
   "source": [
    "dog1.breed"
   ]
  },
  {
   "cell_type": "code",
   "execution_count": 4,
   "metadata": {},
   "outputs": [
    {
     "data": {
      "text/plain": [
       "'Buddy'"
      ]
     },
     "execution_count": 4,
     "metadata": {},
     "output_type": "execute_result"
    }
   ],
   "source": [
    "dog1.name"
   ]
  },
  {
   "cell_type": "markdown",
   "metadata": {},
   "source": [
    "#### Methods"
   ]
  },
  {
   "cell_type": "code",
   "execution_count": 6,
   "metadata": {},
   "outputs": [
    {
     "name": "stdout",
     "output_type": "stream",
     "text": [
      "Radius is:  1\n",
      "Area is:  3.14\n",
      "Circumference is:  6.28\n"
     ]
    }
   ],
   "source": [
    "class Circle:\n",
    "    pi = 3.14\n",
    "\n",
    "    # Circle gets instantiated with a radius (default is 1)\n",
    "    def __init__(self, radius=1):\n",
    "        self.radius = radius \n",
    "        self.area = radius * radius * Circle.pi\n",
    "\n",
    "    # Method for resetting Radius\n",
    "    def setRadius(self, new_radius):\n",
    "        self.radius = new_radius\n",
    "        self.area = new_radius * new_radius * self.pi\n",
    "\n",
    "    # Method for getting Circumference\n",
    "    def getCircumference(self):\n",
    "        return self.radius * self.pi * 2\n",
    "\n",
    "\n",
    "c = Circle()\n",
    "\n",
    "print('Radius is: ',c.radius)\n",
    "print('Area is: ',c.area)\n",
    "print('Circumference is: ',c.getCircumference())\n"
   ]
  },
  {
   "cell_type": "markdown",
   "metadata": {},
   "source": [
    "#### Info from Angela Yu"
   ]
  },
  {
   "cell_type": "code",
   "execution_count": null,
   "metadata": {},
   "outputs": [],
   "source": []
  }
 ],
 "metadata": {
  "kernelspec": {
   "display_name": "Python 3",
   "language": "python",
   "name": "python3"
  },
  "language_info": {
   "codemirror_mode": {
    "name": "ipython",
    "version": 3
   },
   "file_extension": ".py",
   "mimetype": "text/x-python",
   "name": "python",
   "nbconvert_exporter": "python",
   "pygments_lexer": "ipython3",
   "version": "3.10.11"
  },
  "orig_nbformat": 4
 },
 "nbformat": 4,
 "nbformat_minor": 2
}
