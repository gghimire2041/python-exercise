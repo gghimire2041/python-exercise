{
 "cells": [
  {
   "cell_type": "markdown",
   "metadata": {},
   "source": [
    "#### Different coding challenges asked in interviews according to chatGPT and others"
   ]
  },
  {
   "cell_type": "markdown",
   "metadata": {},
   "source": [
    "#### Easy Problems"
   ]
  },
  {
   "cell_type": "code",
   "execution_count": 1,
   "metadata": {},
   "outputs": [
    {
     "data": {
      "text/plain": [
       "'edcba'"
      ]
     },
     "execution_count": 1,
     "metadata": {},
     "output_type": "execute_result"
    }
   ],
   "source": [
    "'''Write a function to reverse a string.'''\n",
    "a = 'abcde'\n",
    "a[::-1]"
   ]
  },
  {
   "cell_type": "code",
   "execution_count": 2,
   "metadata": {},
   "outputs": [
    {
     "name": "stdout",
     "output_type": "stream",
     "text": [
      "The average height is 5.55\n"
     ]
    }
   ],
   "source": [
    "'''calculate average height from a list of heights'''\n",
    "a = [4.8, 5.5, 6.2, 4.9, 6.1, 5.9, 6, 5]\n",
    "total_sum = 0\n",
    "total = 0\n",
    "for heights in a:\n",
    "    total_sum = total_sum + heights\n",
    "    total = total + 1\n",
    "print(f'The average height is {total_sum / total}')\n"
   ]
  },
  {
   "cell_type": "code",
   "execution_count": 3,
   "metadata": {},
   "outputs": [
    {
     "name": "stdout",
     "output_type": "stream",
     "text": [
      "The highest scire is 6.2\n"
     ]
    }
   ],
   "source": [
    "#the max\n",
    "a = [4.8, 5.5, 6.2, 4.9, 6.1, 5.9, 6, 5]\n",
    "max = 0\n",
    "for heights in a:\n",
    "    if heights > max:\n",
    "        max = heights\n",
    "print(f'The highest scire is {max}')"
   ]
  },
  {
   "cell_type": "code",
   "execution_count": 4,
   "metadata": {},
   "outputs": [
    {
     "name": "stdout",
     "output_type": "stream",
     "text": [
      "5050\n"
     ]
    }
   ],
   "source": [
    "#sum from 1 to 100\n",
    "total = 0\n",
    "for i in range(0,101):\n",
    "    total = total + i\n",
    "print(total)"
   ]
  },
  {
   "cell_type": "code",
   "execution_count": 1,
   "metadata": {},
   "outputs": [
    {
     "name": "stdout",
     "output_type": "stream",
     "text": [
      "Sum of evens is 30\n"
     ]
    }
   ],
   "source": [
    "#adding only even numbers\n",
    "nums = list(range(0,11))\n",
    "sum = 0\n",
    "for i in nums:\n",
    "    if i % 2 == 0:\n",
    "        sum += i\n",
    "print(f'Sum of evens is {sum}')"
   ]
  },
  {
   "cell_type": "code",
   "execution_count": 6,
   "metadata": {},
   "outputs": [
    {
     "name": "stdout",
     "output_type": "stream",
     "text": [
      "1\n",
      "2\n",
      "Fizz\n",
      "4\n",
      "Buzz\n",
      "Fizz\n",
      "7\n",
      "8\n",
      "Fizz\n",
      "Buzz\n",
      "11\n",
      "Fizz\n",
      "13\n",
      "14\n",
      "FizzBuzz\n",
      "16\n",
      "17\n",
      "Fizz\n",
      "19\n",
      "Buzz\n"
     ]
    }
   ],
   "source": [
    "#FizzBuzz\n",
    "for i in range(1,21):\n",
    "    if i % 3 == 0 and i % 5 == 0:\n",
    "        print('FizzBuzz')\n",
    "    elif i % 3 == 0:\n",
    "        print('Fizz')\n",
    "    elif i % 5 == 0:\n",
    "        print('Buzz')\n",
    "    else:\n",
    "        print(i) "
   ]
  },
  {
   "cell_type": "code",
   "execution_count": 7,
   "metadata": {},
   "outputs": [
    {
     "name": "stdout",
     "output_type": "stream",
     "text": [
      "%^()02eeeca\n"
     ]
    }
   ],
   "source": [
    "'''Password Generator'''\n",
    "import random\n",
    "nums = ['0','1','2','3','4','5','6','7','8','9']\n",
    "special = ['!', '@', '#', '$', '%', '^', '&', '*', '()', ')', '-', '+']\n",
    "alpha = ['a', 'b', 'c', 'd', 'e']\n",
    "length = 10\n",
    "special_length = 3\n",
    "nums_length = 2\n",
    "alpha_length = 5\n",
    "password = ''\n",
    "for i in range(1, special_length+1):\n",
    "    password += random.choice(special)\n",
    "for i in range(1, nums_length+1):\n",
    "    password += random.choice(nums)\n",
    "for i in range (1, alpha_length+1):\n",
    "    password += random.choice(alpha)\n",
    "print(password)"
   ]
  },
  {
   "cell_type": "code",
   "execution_count": null,
   "metadata": {},
   "outputs": [
    {
     "name": "stdout",
     "output_type": "stream",
     "text": [
      "Sum of odds is 25\n"
     ]
    }
   ],
   "source": [
    "#adding only odds numbers\n",
    "nums = list(range(0,11))\n",
    "sum = 0\n",
    "for i in nums:\n",
    "    if i % 2 != 0:\n",
    "        sum += i\n",
    "print(f'Sum of odds is {sum}')"
   ]
  },
  {
   "cell_type": "code",
   "execution_count": null,
   "metadata": {},
   "outputs": [
    {
     "name": "stdout",
     "output_type": "stream",
     "text": [
      "The original string is:  Analytics Vidhya\n",
      "The reversed string is:  ayhdiV scitylanA\n"
     ]
    }
   ],
   "source": [
    "str1 = \"Analytics Vidhya\" \n",
    "str2 = \"\" \n",
    "for i in str1: \n",
    "    str2 = i + str2\n",
    "print(\"The original string is: \",str1) \n",
    "print(\"The reversed string is: \",str2)"
   ]
  },
  {
   "cell_type": "code",
   "execution_count": null,
   "metadata": {},
   "outputs": [
    {
     "name": "stdout",
     "output_type": "stream",
     "text": [
      "[1, 3, 5, 6, 9]\n"
     ]
    }
   ],
   "source": [
    "\n",
    "a = [1,3,9,5,6]\n",
    "a.sort()\n",
    "print(a)"
   ]
  },
  {
   "cell_type": "code",
   "execution_count": null,
   "metadata": {},
   "outputs": [
    {
     "data": {
      "text/plain": [
       "[['Hello', 'There']]"
      ]
     },
     "metadata": {},
     "output_type": "display_data"
    }
   ],
   "source": [
    "'''Convert a string into a list'''\n",
    "a = 'Hello There'\n",
    "al = [a.split()]\n",
    "al"
   ]
  },
  {
   "cell_type": "code",
   "execution_count": null,
   "metadata": {},
   "outputs": [],
   "source": [
    "# Open a file for writing (creates the file if it doesn't exist)\n",
    "with open('example.txt', 'w') as file:\n",
    "    file.write('Hello, World!\\n')  # Write a string to the file\n",
    "    file.write('This is a new line.')"
   ]
  },
  {
   "cell_type": "code",
   "execution_count": null,
   "metadata": {},
   "outputs": [],
   "source": [
    "#remove the file\n",
    "import os\n",
    "os.remove('example.txt')"
   ]
  },
  {
   "cell_type": "code",
   "execution_count": null,
   "metadata": {},
   "outputs": [],
   "source": [
    "## removing elements from a list\n",
    "list1 = [1, 2, 3, 4] \n",
    "list1.remove(2) \n",
    "print(list1)"
   ]
  },
  {
   "cell_type": "code",
   "execution_count": null,
   "metadata": {},
   "outputs": [
    {
     "data": {
      "text/plain": [
       "[]"
      ]
     },
     "execution_count": 11,
     "metadata": {},
     "output_type": "execute_result"
    }
   ],
   "source": [
    "#clear an entire list\n",
    "list1 = [1, 2, 3, 4] \n",
    "list1.clear()\n",
    "list1"
   ]
  },
  {
   "cell_type": "code",
   "execution_count": null,
   "metadata": {},
   "outputs": [
    {
     "name": "stdout",
     "output_type": "stream",
     "text": [
      "[4 3 2 1]\n"
     ]
    }
   ],
   "source": [
    "#reverse an array\n",
    "import numpy as np \n",
    "arr1=np.array([1, 2, 3, 4]) \n",
    "arr2=np.flip(arr1) \n",
    "print(arr2)"
   ]
  },
  {
   "cell_type": "code",
   "execution_count": null,
   "metadata": {},
   "outputs": [
    {
     "name": "stdout",
     "output_type": "stream",
     "text": [
      "120\n"
     ]
    }
   ],
   "source": [
    "'''Write a function to calculate the factorial of a number'''\n",
    "a = 5\n",
    "factorial = 1\n",
    "while a > 1:\n",
    "    factorial = factorial * a\n",
    "    a = a - 1\n",
    "print(factorial)"
   ]
  },
  {
   "cell_type": "code",
   "execution_count": null,
   "metadata": {},
   "outputs": [
    {
     "name": "stdout",
     "output_type": "stream",
     "text": [
      "The fibonacci sequence is [0, 1, 1, 2, 3]\n"
     ]
    }
   ],
   "source": [
    "'''Write a function to generate the Fibonacci sequence up to a given number of terms.'''\n",
    "def fibonacci(num):\n",
    "    fibo = [0,1]\n",
    "    while len(fibo) < num:\n",
    "        f = fibo[-2] + fibo[-1]\n",
    "        fibo.append(f)\n",
    "    print(f'The fibonacci sequence is {fibo}')\n",
    "fibonacci(5)"
   ]
  },
  {
   "cell_type": "code",
   "execution_count": null,
   "metadata": {},
   "outputs": [
    {
     "name": "stdout",
     "output_type": "stream",
     "text": [
      "Palindrome\n"
     ]
    }
   ],
   "source": [
    "'''Write a function to generate the Fibonacci sequence up to a given number of terms.'''\n",
    "def palindrome(a):\n",
    "    if a == a[::-1]:\n",
    "        print('Palindrome')\n",
    "    else:\n",
    "        print('No Palindrome')\n",
    "palindrome('radar')"
   ]
  },
  {
   "cell_type": "code",
   "execution_count": null,
   "metadata": {},
   "outputs": [
    {
     "name": "stdout",
     "output_type": "stream",
     "text": [
      "The sum of numbers is 6\n"
     ]
    }
   ],
   "source": [
    "'''Write a function to calculate the sum of the digits of a number.'''\n",
    "def sums(num):\n",
    "    original = num\n",
    "    result = 0\n",
    "    while num > 0:\n",
    "        digit = num % 10\n",
    "        result = result + digit \n",
    "        num = num // 10\n",
    "    print(f'The sum of numbers is {result}')\n",
    "sums(123)"
   ]
  },
  {
   "cell_type": "code",
   "execution_count": null,
   "metadata": {},
   "outputs": [
    {
     "name": "stdout",
     "output_type": "stream",
     "text": [
      "The largest element is 9\n"
     ]
    }
   ],
   "source": [
    "'''Write a function to find the largest element in an array.'''\n",
    "def largest(arr):\n",
    "    arrmax = max(arr)\n",
    "    print(f'The largest element is {arrmax}')\n",
    "largest(list(range(10)))"
   ]
  },
  {
   "cell_type": "code",
   "execution_count": null,
   "metadata": {},
   "outputs": [
    {
     "name": "stdout",
     "output_type": "stream",
     "text": [
      "count is 5\n"
     ]
    }
   ],
   "source": [
    "'''Write a function to count the number of vowels and consonants in a string.'''\n",
    "def countvc(mys):\n",
    "    v = ['a', 'e', 'i', 'o', 'u']\n",
    "    count = 0\n",
    "    for i in mys:\n",
    "        if i in mys:\n",
    "            count += 1\n",
    "    print(f'count is {count}')\n",
    "countvc('hello')"
   ]
  },
  {
   "cell_type": "code",
   "execution_count": null,
   "metadata": {},
   "outputs": [
    {
     "name": "stdout",
     "output_type": "stream",
     "text": [
      "['H', 'e', 'l', 'o']\n"
     ]
    }
   ],
   "source": [
    "'''Write a function to remove duplicates from a list.'''\n",
    "def rd(myl):\n",
    "    result = []\n",
    "    for i in myl:\n",
    "        if i not in result:\n",
    "            result.append(i)\n",
    "    print(result)\n",
    "rd('Hello')"
   ]
  },
  {
   "cell_type": "code",
   "execution_count": null,
   "metadata": {},
   "outputs": [
    {
     "name": "stdout",
     "output_type": "stream",
     "text": [
      "The missing number is: 3\n"
     ]
    }
   ],
   "source": [
    "'''Given a list of numbers from 1 to n with one number missing, find the missing number in the list. For example, \n",
    "given [1, 2, 4, 5], the missing number is 3.'''\n",
    "def find_missing_number(nums):\n",
    "    # Calculate the sum of numbers from 1 to n using the formula n * (n + 1) / 2\n",
    "    n = len(nums) + 1  # n is the original length of the list + 1\n",
    "    total_sum = n * (n + 1) // 2\n",
    "    \n",
    "    # Calculate the sum of the given list\n",
    "    list_sum = sum(nums)\n",
    "    \n",
    "    # The missing number is the difference between the total sum and the list sum\n",
    "    missing_number = total_sum - list_sum\n",
    "    \n",
    "    return missing_number\n",
    "\n",
    "# Example usage:\n",
    "input_list = [1, 2, 4, 5]\n",
    "missing_number = find_missing_number(input_list)\n",
    "print(\"The missing number is:\", missing_number)"
   ]
  },
  {
   "cell_type": "code",
   "execution_count": null,
   "metadata": {},
   "outputs": [
    {
     "name": "stdout",
     "output_type": "stream",
     "text": [
      "[[7, 2], [5, 4]]\n"
     ]
    }
   ],
   "source": [
    "'''write python code for a list of numbers such that it returns the numbers whose sum is equal to 9'''\n",
    "def find_pairs_with_sum(nums, target_sum):\n",
    "    # Create a dictionary to store seen elements\n",
    "    seen = {}\n",
    "    result = []\n",
    "\n",
    "    for num in nums:\n",
    "        complement = target_sum - num\n",
    "        if complement in seen:\n",
    "            result.append([num, complement])\n",
    "        seen[num] = True\n",
    "\n",
    "    return result\n",
    "\n",
    "# Test the function\n",
    "nums = [2, 7, 4, 5, 3]\n",
    "target_sum = 9\n",
    "pairs = find_pairs_with_sum(nums, target_sum)\n",
    "print(pairs)  # Output: [[2, 7], [4, 5]]\n"
   ]
  },
  {
   "cell_type": "code",
   "execution_count": 5,
   "metadata": {},
   "outputs": [
    {
     "name": "stdout",
     "output_type": "stream",
     "text": [
      "It requires 2 cans\n"
     ]
    }
   ],
   "source": [
    "'''cans of paint'''\n",
    "import math\n",
    "one_can = 5\n",
    "def cans(height, width):\n",
    "    area = height * width\n",
    "    nums = area / one_can\n",
    "    print(f'It requires {math.ceil(nums)} cans')\n",
    "cans(2,4)"
   ]
  },
  {
   "cell_type": "code",
   "execution_count": 5,
   "metadata": {},
   "outputs": [
    {
     "name": "stdout",
     "output_type": "stream",
     "text": [
      "It is a prime number\n"
     ]
    }
   ],
   "source": [
    "'''prime number checker'''\n",
    "def prime_checker(num):\n",
    "    is_prime = True\n",
    "    for i in range(2, num):\n",
    "        if (num % i) == 0:\n",
    "            is_prime = False\n",
    "    if is_prime == True:\n",
    "        print('It is a prime number')\n",
    "    else:\n",
    "            print('It is a prime number')\n",
    "prime_checker(7)\n",
    "    "
   ]
  },
  {
   "cell_type": "code",
   "execution_count": null,
   "metadata": {},
   "outputs": [],
   "source": [
    "'''Implement a program that prints all prime numbers in a given range using for loops.'''\n",
    "def is_prime(num):\n",
    "   for i in range(2,num):\n",
    "       if (num % i) == 0:\n",
    "           return False\n",
    "       else:\n",
    "            return True\n",
    "is_prime(7)"
   ]
  },
  {
   "cell_type": "code",
   "execution_count": 33,
   "metadata": {},
   "outputs": [
    {
     "name": "stdout",
     "output_type": "stream",
     "text": [
      "The decrypted text is hello!\n"
     ]
    }
   ],
   "source": [
    "'''Caeser Cipher: simple version'''\n",
    "alphabets = list(chr(ord('a') + i) for i in range(26))\n",
    "alphabets = alphabets + alphabets\n",
    "direction = input(\"Type 'encode' to encrypt and 'decode' to decrypt:\\n\")\n",
    "text = input('Type your message:\\n').lower()\n",
    "shift = int(input('Type your shift number:\\n'))\n",
    "#encrypt\n",
    "if direction == 'encode':\n",
    "    def encrypt(text_plain, shift_amount):\n",
    "        etext = ''\n",
    "        for letter in text_plain:\n",
    "            position = alphabets.index(letter)\n",
    "            new_position = position + shift_amount\n",
    "            new_letter = alphabets[new_position]\n",
    "            etext = etext + new_letter\n",
    "        print(f\"The encrypted text is {etext}!\")\n",
    "    encrypt(text, shift)\n",
    "#decrypt\n",
    "elif direction == 'decode':\n",
    "    def decrypt(text_plain, shift_amount):\n",
    "        dtext = ''\n",
    "        for letter in text_plain:\n",
    "            position = alphabets.index(letter)\n",
    "            new_position = position - shift_amount\n",
    "            new_letter = alphabets[new_position]\n",
    "            dtext = dtext + new_letter\n",
    "        print(f\"The decrypted text is {dtext}!\")\n",
    "    decrypt(text, shift)"
   ]
  },
  {
   "cell_type": "code",
   "execution_count": 34,
   "metadata": {},
   "outputs": [
    {
     "name": "stdout",
     "output_type": "stream",
     "text": [
      "The decrypted text is hello!\n"
     ]
    }
   ],
   "source": [
    "'''Caeser Cipher: better version'''\n",
    "alphabets = list(chr(ord('a') + i) for i in range(26))\n",
    "alphabets = alphabets + alphabets\n",
    "direction = input(\"Type 'encode' to encrypt and 'decode' to decrypt:\\n\")\n",
    "text = input('Type your message:\\n').lower()\n",
    "shift = int(input('Type your shift number:\\n'))\n",
    "def caeser(text_plain, shift_amount, to):\n",
    "    if to == 'encode':\n",
    "        etext = ''\n",
    "        for letter in text_plain:\n",
    "            position = alphabets.index(letter)\n",
    "            new_position = position + shift_amount\n",
    "            new_letter = alphabets[new_position]\n",
    "            etext = etext + new_letter\n",
    "        print(f\"The encrypted text is {etext}!\")\n",
    "    elif to == 'decode':\n",
    "        dtext = ''\n",
    "        for letter in text_plain:\n",
    "            position = alphabets.index(letter)\n",
    "            new_position = position - shift_amount\n",
    "            new_letter = alphabets[new_position]\n",
    "            dtext = dtext + new_letter\n",
    "        print(f\"The decrypted text is {dtext}!\")\n",
    "caeser(text, shift, direction)"
   ]
  },
  {
   "cell_type": "code",
   "execution_count": 43,
   "metadata": {},
   "outputs": [
    {
     "name": "stdout",
     "output_type": "stream",
     "text": [
      "15\n"
     ]
    }
   ],
   "source": [
    "def outer_function(a, b):\n",
    "    def inner_function(c, d):\n",
    "        return c + d\n",
    "    return inner_function(a, b)\n",
    " \n",
    "result = outer_function(5, 10)\n",
    "print(result)"
   ]
  },
  {
   "cell_type": "code",
   "execution_count": 17,
   "metadata": {},
   "outputs": [
    {
     "name": "stdout",
     "output_type": "stream",
     "text": [
      "Word: _ _ _ _ _ _ _ _ _ _\n",
      "Incorrect guesses: \n",
      "Attempts left: 6\n",
      "Word: _ _ _ _ _ _ _ _ _ _\n",
      "Incorrect guesses: a\n",
      "Attempts left: 5\n",
      "Word: e _ _ e _ _ e _ _ _\n",
      "Incorrect guesses: a\n",
      "Attempts left: 5\n",
      "Word: e _ _ e _ _ e _ _ _\n",
      "Incorrect guesses: a, i\n",
      "Attempts left: 4\n",
      "Word: e _ _ e _ _ e _ _ _\n",
      "Incorrect guesses: a, i, o\n",
      "Attempts left: 3\n",
      "Word: e _ _ e _ _ e _ _ _\n",
      "Incorrect guesses: a, i, o, u\n",
      "Attempts left: 2\n",
      "Word: e _ _ e r _ e r r _\n",
      "Incorrect guesses: a, i, o, u\n",
      "Attempts left: 2\n",
      "Word: e _ _ e r _ e r r _\n",
      "Incorrect guesses: a, i, o, u, s\n",
      "Attempts left: 1\n",
      "Word: e _ _ e r _ e r r _\n",
      "Incorrect guesses: a, i, o, u, s, p\n",
      "Attempts left: 0\n",
      "You've run out of attempts. The word was: elderberry\n"
     ]
    }
   ],
   "source": [
    "'''Hangman Game'''\n",
    "\n",
    "import random\n",
    "\n",
    "# List of words for the game\n",
    "words = [\"apple\", \"banana\", \"cherry\", \"date\", \"elderberry\", \"fig\", \"grape\", \"honeydew\"]\n",
    "\n",
    "# Function to choose a random word from the list\n",
    "def choose_word():\n",
    "    return random.choice(words)\n",
    "\n",
    "# Function to initialize the game\n",
    "def initialize(word):\n",
    "    display_word = [\"_\" for _ in word]\n",
    "    incorrect_guesses = []\n",
    "    attempts = 6\n",
    "    return display_word, incorrect_guesses, attempts\n",
    "\n",
    "# Function to display the current state of the game\n",
    "def display(display_word, incorrect_guesses, attempts):\n",
    "    print(\"Word: \" + \" \".join(display_word))\n",
    "    print(\"Incorrect guesses: \" + \", \".join(incorrect_guesses))\n",
    "    print(\"Attempts left: \" + str(attempts))\n",
    "\n",
    "# Function to play the game\n",
    "def play_hangman():\n",
    "    word = choose_word()\n",
    "    display_word, incorrect_guesses, attempts = initialize(word)\n",
    "\n",
    "    while True:\n",
    "        display(display_word, incorrect_guesses, attempts)\n",
    "        guess = input(\"Guess a letter: \").lower()\n",
    "\n",
    "        if guess in word:\n",
    "            for i in range(len(word)):\n",
    "                if word[i] == guess:\n",
    "                    display_word[i] = guess\n",
    "        else:\n",
    "            if guess not in incorrect_guesses:\n",
    "                incorrect_guesses.append(guess)\n",
    "                attempts -= 1\n",
    "\n",
    "        if \"_\" not in display_word:\n",
    "            display(display_word, incorrect_guesses, attempts)\n",
    "            print(\"Congratulations! You've guessed the word: \" + word)\n",
    "            break\n",
    "\n",
    "        if attempts == 0:\n",
    "            display(display_word, incorrect_guesses, attempts)\n",
    "            print(\"You've run out of attempts. The word was: \" + word)\n",
    "            break\n",
    "\n",
    "if __name__ == \"__main__\":\n",
    "    play_hangman()\n",
    "\n"
   ]
  },
  {
   "cell_type": "markdown",
   "metadata": {},
   "source": [
    "#### Everyday Challenges\n",
    "- 09/26/2023"
   ]
  },
  {
   "cell_type": "code",
   "execution_count": 3,
   "metadata": {},
   "outputs": [
    {
     "name": "stdout",
     "output_type": "stream",
     "text": [
      "madam is a palindrome\n"
     ]
    }
   ],
   "source": [
    "'''Palindrome Checker'''\n",
    "def pali(txt):\n",
    "    if txt == txt[::-1]:\n",
    "        print(f\"{txt} is a palindrome\")\n",
    "    else:\n",
    "        print(f\"It's not a palindrome!\")\n",
    "pali('madam')"
   ]
  },
  {
   "cell_type": "code",
   "execution_count": 13,
   "metadata": {},
   "outputs": [
    {
     "data": {
      "text/plain": [
       "[0, 1, 1, 2, 3, 5, 8, 13, 21, 34]"
      ]
     },
     "execution_count": 13,
     "metadata": {},
     "output_type": "execute_result"
    }
   ],
   "source": [
    "'''Fibonacci list'''\n",
    "def generate_fibonacci(n):\n",
    "    # Initialize the first two Fibonacci numbers\n",
    "    fib_sequence = [0, 1]\n",
    "\n",
    "    # Generate the sequence using a loop\n",
    "    while len(fib_sequence) < n:\n",
    "        next_number = fib_sequence[-1] + fib_sequence[-2]\n",
    "        fib_sequence.append(next_number)\n",
    "\n",
    "    return fib_sequence\n",
    "generate_fibonacci(10)"
   ]
  },
  {
   "cell_type": "code",
   "execution_count": 16,
   "metadata": {},
   "outputs": [
    {
     "data": {
      "text/plain": [
       "False"
      ]
     },
     "execution_count": 16,
     "metadata": {},
     "output_type": "execute_result"
    }
   ],
   "source": [
    "'''Prime checker'''\n",
    "def prime(num):\n",
    "    for i in range(2,num):\n",
    "        if num % i == 0:\n",
    "            return False\n",
    "        else:\n",
    "            return True\n",
    "prime(12)"
   ]
  },
  {
   "cell_type": "markdown",
   "metadata": {},
   "source": [
    "#### Recursive"
   ]
  },
  {
   "cell_type": "code",
   "execution_count": 1,
   "metadata": {},
   "outputs": [
    {
     "data": {
      "text/plain": [
       "120"
      ]
     },
     "execution_count": 1,
     "metadata": {},
     "output_type": "execute_result"
    }
   ],
   "source": [
    "'''Recusrvie calling'''\n",
    "'''Recursive calling in Python refers to a programming technique where a function calls itself in order \n",
    "to solve a problem. This is known as recursion, and it's a powerful and elegant way to solve certain \n",
    "types of problems, particularly those that can be broken down into smaller, similar subproblems.'''\n",
    "def factorial(n):\n",
    "    # Base case: factorial of 0 is 1\n",
    "    if n == 0:\n",
    "        return 1\n",
    "    # Recursive case: n! = n * (n-1)!\n",
    "    else:\n",
    "        return n * factorial(n - 1)\n",
    "factorial(5)\n",
    "\n"
   ]
  },
  {
   "cell_type": "code",
   "execution_count": 2,
   "metadata": {},
   "outputs": [
    {
     "name": "stdout",
     "output_type": "stream",
     "text": [
      "[0, 1, 1, 2, 3]\n"
     ]
    }
   ],
   "source": [
    "#Use recursiion to solve fibonacci problem\n",
    "def fibonacci(num):\n",
    "    f = [0,1]\n",
    "    while len(f) < num:\n",
    "        next = f[-2] + f[-1]\n",
    "        f.append(next)\n",
    "    print(f)\n",
    "fibonacci(5)\n",
    "\n",
    "def fibonacci(n):\n",
    "    if n <= 0:\n",
    "        return []\n",
    "    elif n == 1:\n",
    "        return [0]\n",
    "    elif n == 2:\n",
    "        return [0, 1]\n",
    "    else:\n",
    "        fib_list = fibonacci(n - 1)\n",
    "        fib_list.append(fib_list[-1] + fib_list[-2])\n",
    "        return fib_list\n",
    "\n",
    "# Example: Generate the first 10 Fibonacci numbers\n",
    "result = fibonacci(10)\n",
    "print(result)\n"
   ]
  },
  {
   "cell_type": "markdown",
   "metadata": {},
   "source": [
    "##### If, Else, Statements challenges"
   ]
  },
  {
   "cell_type": "code",
   "execution_count": null,
   "metadata": {},
   "outputs": [],
   "source": [
    "'''Write a Python program that takes an integer as input and prints whether it's even or odd.'''\n",
    "def oddeven(num):\n",
    "    if num % 2 == 0:\n",
    "        return 'Even'\n",
    "    else:\n",
    "        return 'Odd'"
   ]
  },
  {
   "cell_type": "code",
   "execution_count": null,
   "metadata": {},
   "outputs": [
    {
     "name": "stdout",
     "output_type": "stream",
     "text": [
      "Odd\n"
     ]
    }
   ],
   "source": [
    "num = 3\n",
    "if num % 2 == 0:\n",
    "    print('Even')\n",
    "else:\n",
    "    print('Odd')"
   ]
  },
  {
   "cell_type": "code",
   "execution_count": null,
   "metadata": {},
   "outputs": [
    {
     "data": {
      "text/plain": [
       "'Odd'"
      ]
     },
     "metadata": {},
     "output_type": "display_data"
    }
   ],
   "source": [
    "oddeven(5)"
   ]
  },
  {
   "cell_type": "code",
   "execution_count": null,
   "metadata": {},
   "outputs": [],
   "source": [
    "'''Write a program that takes a numerical score as input and prints the corresponding letter grade (A, B, C, D, or F) \n",
    "based on the following scale:\n",
    "\n",
    "    A: 90-100\n",
    "    B: 80-89\n",
    "    C: 70-79\n",
    "    D: 60-69\n",
    "    F: 0-59'''\n",
    "def grading(score):\n",
    "    if 89 < score < 101:\n",
    "        print('A')\n",
    "    if 79 < score < 90:\n",
    "        print('B')\n"
   ]
  },
  {
   "cell_type": "code",
   "execution_count": null,
   "metadata": {},
   "outputs": [
    {
     "name": "stdout",
     "output_type": "stream",
     "text": [
      "B\n"
     ]
    }
   ],
   "source": [
    "grading(89)"
   ]
  },
  {
   "cell_type": "code",
   "execution_count": null,
   "metadata": {},
   "outputs": [],
   "source": [
    "'''Write a program that checks whether a given year is a leap year. A leap year is either:\n",
    "Divisible by 4, but not divisible by 100, or\n",
    "Divisible by 400'''\n",
    "def check_leap(year):\n",
    "    if year % 4 == 0:\n",
    "        return 'Leap year'\n",
    "    else:\n",
    "        return 'No leap year'"
   ]
  },
  {
   "cell_type": "code",
   "execution_count": null,
   "metadata": {},
   "outputs": [
    {
     "name": "stdout",
     "output_type": "stream",
     "text": [
      "No leap\n"
     ]
    }
   ],
   "source": [
    "def ly(year):\n",
    "    if year % 4 == 0:\n",
    "        print('Leap')\n",
    "    else:\n",
    "        print('No leap')\n",
    "ly(2019)"
   ]
  },
  {
   "cell_type": "code",
   "execution_count": null,
   "metadata": {},
   "outputs": [
    {
     "data": {
      "text/plain": [
       "'Leap year'"
      ]
     },
     "metadata": {},
     "output_type": "display_data"
    }
   ],
   "source": [
    "check_leap(2024)"
   ]
  },
  {
   "cell_type": "code",
   "execution_count": null,
   "metadata": {},
   "outputs": [],
   "source": [
    "''' Write a program that takes three numbers as input and prints the maximum among them.'''\n",
    "def max_num(a,b,c):\n",
    "    lst = [a,b,c]\n",
    "    return max(lst)"
   ]
  },
  {
   "cell_type": "code",
   "execution_count": null,
   "metadata": {},
   "outputs": [
    {
     "data": {
      "text/plain": [
       "3"
      ]
     },
     "metadata": {},
     "output_type": "display_data"
    }
   ],
   "source": [
    "max_num(1,2,3)"
   ]
  },
  {
   "cell_type": "code",
   "execution_count": null,
   "metadata": {},
   "outputs": [],
   "source": [
    "'''Write a program that takes a number as input and prints whether it's positive, negative, or zero.'''\n",
    "def sign(num):\n",
    "    if num < 0:\n",
    "        return 'negative'\n",
    "    if num > 0:\n",
    "        return 'positive'\n",
    "    if num == 0:\n",
    "        return '0'"
   ]
  },
  {
   "cell_type": "code",
   "execution_count": null,
   "metadata": {},
   "outputs": [
    {
     "data": {
      "text/plain": [
       "'positive'"
      ]
     },
     "metadata": {},
     "output_type": "display_data"
    }
   ],
   "source": [
    "sign(5)"
   ]
  },
  {
   "cell_type": "code",
   "execution_count": null,
   "metadata": {},
   "outputs": [
    {
     "name": "stdout",
     "output_type": "stream",
     "text": [
      "The largest number is: 6.0\n"
     ]
    }
   ],
   "source": [
    "'''Write a program that takes three numbers as input and prints the largest number using nested if-else statements.'''\n",
    "# Input three numbers from the user\n",
    "num1 = float(input(\"Enter the first number: \"))\n",
    "num2 = float(input(\"Enter the second number: \"))\n",
    "num3 = float(input(\"Enter the third number: \"))\n",
    "\n",
    "# Compare the numbers to find the largest\n",
    "if num1 >= num2:\n",
    "    if num1 >= num3:\n",
    "        largest = num1\n",
    "    else:\n",
    "        largest = num3\n",
    "else:\n",
    "    if num2 >= num3:\n",
    "        largest = num2\n",
    "    else:\n",
    "        largest = num3\n",
    "\n",
    "# Print the largest number\n",
    "print(\"The largest number is:\", largest)\n",
    "\n"
   ]
  },
  {
   "cell_type": "code",
   "execution_count": null,
   "metadata": {},
   "outputs": [],
   "source": [
    "'''Write a program that takes a string as input and checks whether it's a palindrome \n",
    "(reads the same forwards and backwards).'''\n",
    "def palicheck(a:str):\n",
    "    a = a.replace(\" \", \"\").lower()\n",
    "    A = a.replace(\",\", \"\")\n",
    "    if a[::-1] == a:\n",
    "        print(\"The input string is a palindrome.\")\n",
    "    else:\n",
    "        print(\"The input string is not a palindrome.\")"
   ]
  },
  {
   "cell_type": "code",
   "execution_count": null,
   "metadata": {},
   "outputs": [
    {
     "name": "stdout",
     "output_type": "stream",
     "text": [
      "The input string is a palindrome.\n"
     ]
    }
   ],
   "source": [
    "c = 'radar '\n",
    "palicheck(c)"
   ]
  },
  {
   "cell_type": "code",
   "execution_count": null,
   "metadata": {},
   "outputs": [],
   "source": [
    "'''Write a program that takes the x and y coordinates of a point and determines in which quadrant it lies \n",
    "(Quadrant I, II, III, or IV).'''\n",
    "\n",
    "def quadrant(x,y):\n",
    "    if x > 0 and y > 0:\n",
    "        print('I')\n",
    "    if x > 0 and y < 0:\n",
    "        print('II') # just two examples"
   ]
  },
  {
   "cell_type": "code",
   "execution_count": null,
   "metadata": {},
   "outputs": [
    {
     "name": "stdout",
     "output_type": "stream",
     "text": [
      "I\n"
     ]
    }
   ],
   "source": [
    "quadrant(2,3)"
   ]
  },
  {
   "cell_type": "markdown",
   "metadata": {},
   "source": [
    "#### While Loops"
   ]
  },
  {
   "cell_type": "code",
   "execution_count": null,
   "metadata": {},
   "outputs": [],
   "source": [
    "'''Print that the number is decreasing from a given number'''\n",
    "def decreasing(num):\n",
    "    original = num #fix it as original\n",
    "    while num > 0: #changing\n",
    "        print(f'{original} is decreasing. Currently it is {num}')\n",
    "        num = num - 1"
   ]
  },
  {
   "cell_type": "code",
   "execution_count": null,
   "metadata": {},
   "outputs": [
    {
     "name": "stdout",
     "output_type": "stream",
     "text": [
      "5 is decreasing. Currently it is 5\n",
      "5 is decreasing. Currently it is 4\n",
      "5 is decreasing. Currently it is 3\n",
      "5 is decreasing. Currently it is 2\n",
      "5 is decreasing. Currently it is 1\n"
     ]
    }
   ],
   "source": [
    "decreasing(5)"
   ]
  },
  {
   "cell_type": "code",
   "execution_count": null,
   "metadata": {},
   "outputs": [
    {
     "name": "stdout",
     "output_type": "stream",
     "text": [
      "x is currently:  0\n",
      " x is still less than 10, adding 1 to x\n",
      "continuing...\n",
      "x is currently:  1\n",
      " x is still less than 10, adding 1 to x\n",
      "continuing...\n",
      "x is currently:  2\n",
      " x is still less than 10, adding 1 to x\n",
      "x==3\n",
      "x is currently:  3\n",
      " x is still less than 10, adding 1 to x\n",
      "continuing...\n"
     ]
    }
   ],
   "source": [
    "'''break, continue, pass\n",
    "break: Breaks out of the current closest enclosing loop.\n",
    "continue: Goes to the top of the closest enclosing loop.\n",
    "pass: Does nothing at all.'''\n",
    "\n",
    "\n",
    "x = 0\n",
    "\n",
    "while x < 4:\n",
    "    print('x is currently: ',x)\n",
    "    print(' x is still less than 10, adding 1 to x')\n",
    "    x+=1\n",
    "    if x==3:\n",
    "        print('x==3')\n",
    "    else:\n",
    "        print('continuing...')\n",
    "        continue"
   ]
  },
  {
   "cell_type": "code",
   "execution_count": null,
   "metadata": {},
   "outputs": [
    {
     "name": "stdout",
     "output_type": "stream",
     "text": [
      "x is currently:  0\n",
      " x is still less than 10, adding 1 to x\n",
      "continuing...\n",
      "x is currently:  1\n",
      " x is still less than 10, adding 1 to x\n",
      "continuing...\n",
      "x is currently:  2\n",
      " x is still less than 10, adding 1 to x\n",
      "Breaking because x==3\n"
     ]
    }
   ],
   "source": [
    "x = 0\n",
    "\n",
    "while x < 10:\n",
    "    print('x is currently: ',x)\n",
    "    print(' x is still less than 10, adding 1 to x')\n",
    "    x+=1\n",
    "    if x==3:\n",
    "        print('Breaking because x==3')\n",
    "        break\n",
    "    else:\n",
    "        print('continuing...')\n",
    "        continue"
   ]
  },
  {
   "cell_type": "code",
   "execution_count": null,
   "metadata": {},
   "outputs": [],
   "source": [
    "'''Write a program to calculate the factorial of a given number using a while loop.'''\n",
    "def factor(n):\n",
    "    # Initialize the result variable\n",
    "    \n",
    "    original = n\n",
    "    factorial = 1\n",
    "\n",
    "    # Check if n is negative\n",
    "    if n < 0:\n",
    "        print(\"Factorial is not defined for negative numbers.\")\n",
    "    elif n == 0:\n",
    "        print(\"The factorial of 0 is 1.\")\n",
    "    else:\n",
    "    # Calculate the factorial using a while loop\n",
    "        while n > 1:\n",
    "            factorial = factorial * n # or factorial *= n\n",
    "            n = n - 1 # or n -= 1\n",
    "        print(f\"The factorial of {original} is {factorial}\")"
   ]
  },
  {
   "cell_type": "code",
   "execution_count": null,
   "metadata": {},
   "outputs": [
    {
     "name": "stdout",
     "output_type": "stream",
     "text": [
      "The factorial of 6 is 720\n"
     ]
    }
   ],
   "source": [
    "factor(6)"
   ]
  },
  {
   "cell_type": "code",
   "execution_count": null,
   "metadata": {},
   "outputs": [
    {
     "name": "stdout",
     "output_type": "stream",
     "text": [
      "The sum of digits in 4 is 4\n"
     ]
    }
   ],
   "source": [
    "'''Write a program that takes an integer as input and calculates the sum of its digits using a while loop.'''\n",
    "num = int(input('Input a number'))\n",
    "result = 0\n",
    "original = num\n",
    "while num > 0:\n",
    "    digit = num % 10 # gets the last digit\n",
    "    result += digit # adds the digit to result\n",
    "    num //= 10 # removes the last integer\n",
    "print(f\"The sum of digits in {original} is {result}\")"
   ]
  },
  {
   "cell_type": "code",
   "execution_count": null,
   "metadata": {},
   "outputs": [
    {
     "name": "stdout",
     "output_type": "stream",
     "text": [
      "The reversed of 321 is 123\n"
     ]
    }
   ],
   "source": [
    "'''Write a program to reverse a given integer using a while loop.'''\n",
    "num = 321\n",
    "original = num\n",
    "result = 0\n",
    "while num > 0:\n",
    "    digit = num % 10\n",
    "    result = result * 10 + digit\n",
    "    num //= 10\n",
    "\n",
    "# Print the reversed integer\n",
    "print(f\"The reversed of {original} is {result}\")\n"
   ]
  },
  {
   "cell_type": "code",
   "execution_count": null,
   "metadata": {},
   "outputs": [
    {
     "name": "stdout",
     "output_type": "stream",
     "text": [
      "123\n"
     ]
    }
   ],
   "source": [
    "#easier way\n",
    "num = 321\n",
    "n = str(num)\n",
    "n = n[::-1]\n",
    "num = int(n)\n",
    "print(num)"
   ]
  },
  {
   "cell_type": "code",
   "execution_count": null,
   "metadata": {},
   "outputs": [
    {
     "name": "stdout",
     "output_type": "stream",
     "text": [
      "Welcome to the Number Guessing Game!\n",
      "I'm thinking of a number between 1 and 10.\n",
      "Too low! Try again.\n",
      "Too low! Try again.\n",
      "Too low! Try again.\n",
      "Too high! Try again.\n",
      "Too high! Try again.\n",
      "Sorry, you've reached the maximum number of tries. The secret number was 7.\n"
     ]
    }
   ],
   "source": [
    "'''Implement a number guessing game where the user has to guess a randomly generated number. \n",
    "Use a while loop to give the user multiple chances until they guess the correct number.'''\n",
    "import random\n",
    "\n",
    "# Generate a random number between 1 and 10 (inclusive)\n",
    "secret_number = random.randint(1, 10)\n",
    "\n",
    "# Set the number of maximum tries\n",
    "max_tries = 5\n",
    "tries = 0\n",
    "\n",
    "print(\"Welcome to the Number Guessing Game!\")\n",
    "print(\"I'm thinking of a number between 1 and 10.\")\n",
    "\n",
    "while tries < max_tries:\n",
    "    # Input user's guess\n",
    "    guess = int(input(\"Enter your guess: \"))\n",
    "    \n",
    "    # Increment the number of tries\n",
    "    tries += 1\n",
    "    \n",
    "    # Check if the guess is correct\n",
    "    if guess == secret_number:\n",
    "        print(f\"Congratulations! You guessed the correct number, which was {secret_number}.\")\n",
    "        break\n",
    "    elif guess < secret_number:\n",
    "        print(\"Too low! Try again.\")\n",
    "    else:\n",
    "        print(\"Too high! Try again.\")\n",
    "\n",
    "if tries == max_tries:\n",
    "    print(f\"Sorry, you've reached the maximum number of tries. The secret number was {secret_number}.\")\n",
    "\n"
   ]
  },
  {
   "cell_type": "code",
   "execution_count": null,
   "metadata": {},
   "outputs": [
    {
     "name": "stdout",
     "output_type": "stream",
     "text": [
      "Fibonacci sequence up to 6 terms: [0, 1, 1, 2, 3, 5]\n"
     ]
    }
   ],
   "source": [
    "'''Write a program to generate the first n terms of the Fibonacci sequence using a while loop.'''\n",
    "# Function to generate the Fibonacci sequence up to n terms using a loop\n",
    "def generate_fibonacci(n):\n",
    "    # Initialize the first two Fibonacci numbers\n",
    "    fib_sequence = [0, 1]\n",
    "\n",
    "    # Generate the sequence using a loop\n",
    "    while len(fib_sequence) < n:\n",
    "        next_number = fib_sequence[-1] + fib_sequence[-2]\n",
    "        fib_sequence.append(next_number)\n",
    "\n",
    "    return fib_sequence\n",
    "\n",
    "# Number of terms in the Fibonacci sequence to generate\n",
    "n = int(input(\"Enter the number of Fibonacci terms to generate: \"))\n",
    "\n",
    "# Call the function and print the Fibonacci sequence\n",
    "fibonacci_sequence = generate_fibonacci(n)\n",
    "print(f\"Fibonacci sequence up to {n} terms: {fibonacci_sequence}\")\n"
   ]
  },
  {
   "cell_type": "code",
   "execution_count": null,
   "metadata": {},
   "outputs": [
    {
     "name": "stdout",
     "output_type": "stream",
     "text": [
      "'6' is a palindrome.\n"
     ]
    }
   ],
   "source": [
    "''' Implement a program that checks if a given string is a palindrome \n",
    "(reads the same forwards and backwards) using a while loop.'''\n",
    "# Input a string from the user\n",
    "input_string = input(\"Enter a string: \")\n",
    "\n",
    "# Remove spaces and convert to lowercase for case-insensitive comparison\n",
    "cleaned_string = input_string.replace(\" \", \"\").lower()\n",
    "\n",
    "# Initialize variables for comparing characters\n",
    "left = 0\n",
    "right = len(cleaned_string) - 1\n",
    "is_palindrome = True\n",
    "\n",
    "# Use a while loop to check for palindrome\n",
    "while left < right:\n",
    "    if cleaned_string[left] != cleaned_string[right]:\n",
    "        is_palindrome = False\n",
    "        break\n",
    "    left += 1\n",
    "    right -= 1\n",
    "\n",
    "# Print the result\n",
    "if is_palindrome:\n",
    "    print(f\"'{input_string}' is a palindrome.\")\n",
    "else:\n",
    "    print(f\"'{input_string}' is not a palindrome.\")\n",
    "\n"
   ]
  },
  {
   "cell_type": "code",
   "execution_count": null,
   "metadata": {},
   "outputs": [
    {
     "name": "stdout",
     "output_type": "stream",
     "text": [
      "0 is not a prime number.\n"
     ]
    }
   ],
   "source": [
    "'''Write a program that checks if a given number is prime using a while loop.'''\n",
    "# Input a number from the user\n",
    "num = int(input(\"Enter a number: \"))\n",
    "\n",
    "# Initialize a variable to keep track of factors\n",
    "factor_count = 0\n",
    "\n",
    "# Initialize a variable to store whether the number is prime\n",
    "is_prime = True\n",
    "\n",
    "# Ensure the number is positive\n",
    "if num <= 1:\n",
    "    is_prime = False\n",
    "else:\n",
    "    # Use a while loop to check for factors\n",
    "    i = 2  # Start with the first possible factor, which is 2\n",
    "    while i <= num // 2:  # Factors can't be greater than num/2\n",
    "        if num % i == 0:\n",
    "            # If the number is divisible by i, it's not prime\n",
    "            is_prime = False\n",
    "            break\n",
    "        i += 1\n",
    "\n",
    "# Print the result\n",
    "if is_prime:\n",
    "    print(f\"{num} is a prime number.\")\n",
    "else:\n",
    "    print(f\"{num} is not a prime number.\")\n"
   ]
  },
  {
   "cell_type": "code",
   "execution_count": null,
   "metadata": {},
   "outputs": [],
   "source": [
    "'''Generate a multiplication table for a given number using a while loop.'''\n",
    "def multiplication(num):\n",
    "    i = 1\n",
    "    while i < 11:\n",
    "        print(f'{num} x {i} = {num * i}')\n",
    "        i = i + 1"
   ]
  },
  {
   "cell_type": "code",
   "execution_count": null,
   "metadata": {},
   "outputs": [
    {
     "name": "stdout",
     "output_type": "stream",
     "text": [
      "10 x 1 = 10\n",
      "10 x 2 = 20\n",
      "10 x 3 = 30\n",
      "10 x 4 = 40\n",
      "10 x 5 = 50\n",
      "10 x 6 = 60\n",
      "10 x 7 = 70\n",
      "10 x 8 = 80\n",
      "10 x 9 = 90\n",
      "10 x 10 = 100\n"
     ]
    }
   ],
   "source": [
    "multiplication(10)"
   ]
  },
  {
   "cell_type": "code",
   "execution_count": null,
   "metadata": {},
   "outputs": [
    {
     "name": "stdout",
     "output_type": "stream",
     "text": [
      "Collatz sequence: [1]\n"
     ]
    }
   ],
   "source": [
    "'''Implement the Collatz sequence for a given starting number. The sequence should continue until the number \n",
    "becomes 1 using a while loop.'''\n",
    "def collatz_sequence(n):\n",
    "    # Create an empty list to store the sequence\n",
    "    sequence = []\n",
    "\n",
    "    # Continue until n becomes 1\n",
    "    while n != 1:\n",
    "        sequence.append(n)  # Add the current value of n to the sequence\n",
    "\n",
    "        # Apply the Collatz rules\n",
    "        if n % 2 == 0:\n",
    "            n = n // 2  # If n is even, divide it by 2\n",
    "        else:\n",
    "            n = 3 * n + 1  # If n is odd, multiply it by 3 and add 1\n",
    "\n",
    "    sequence.append(1)  # Add the final value of 1 to the sequence\n",
    "    return sequence\n",
    "\n",
    "# Input a positive integer\n",
    "n = int(input(\"Enter a positive integer: \"))\n",
    "\n",
    "# Generate and list the Collatz sequence\n",
    "result_sequence = collatz_sequence(n)\n",
    "print(\"Collatz sequence:\", result_sequence)\n"
   ]
  },
  {
   "cell_type": "code",
   "execution_count": null,
   "metadata": {},
   "outputs": [
    {
     "name": "stdout",
     "output_type": "stream",
     "text": [
      "2 is an Armstrong number.\n"
     ]
    }
   ],
   "source": [
    "'''Write a program that checks if a given number is an Armstrong number using a while loop.'''\n",
    "def is_armstrong_number(number):\n",
    "    # Initialize variables\n",
    "    original_number = number\n",
    "    num_digits = 0\n",
    "    armstrong_sum = 0\n",
    "    \n",
    "    # Count the number of digits in the number\n",
    "    while number > 0:\n",
    "        num_digits += 1\n",
    "        number //= 10  # Remove the last digit\n",
    "    \n",
    "    # Reset the number to its original value\n",
    "    number = original_number\n",
    "    \n",
    "    # Calculate the sum of digits each raised to the power of num_digits\n",
    "    while number > 0:\n",
    "        digit = number % 10\n",
    "        armstrong_sum += digit ** num_digits\n",
    "        number //= 10  # Remove the last digit\n",
    "    \n",
    "    # Check if the sum is equal to the original number\n",
    "    return armstrong_sum == original_number\n",
    "\n",
    "# Input a number from the user\n",
    "number = int(input(\"Enter a number: \"))\n",
    "\n",
    "# Check if it's an Armstrong number and print the result\n",
    "if is_armstrong_number(number):\n",
    "    print(f\"{number} is an Armstrong number.\")\n",
    "else:\n",
    "    print(f\"{number} is not an Armstrong number.\")\n",
    "\n"
   ]
  },
  {
   "cell_type": "markdown",
   "metadata": {},
   "source": [
    "#### For Loops"
   ]
  },
  {
   "cell_type": "code",
   "execution_count": null,
   "metadata": {},
   "outputs": [
    {
     "name": "stdout",
     "output_type": "stream",
     "text": [
      "1 is the number\n",
      "2 is the number\n",
      "3 is the number\n",
      "4 is the number\n",
      "5 is the number\n",
      "6 is the number\n",
      "7 is the number\n",
      "8 is the number\n",
      "9 is the number\n",
      "10 is the number\n"
     ]
    }
   ],
   "source": [
    "'''Basics First'''\n",
    "list1 = [1,2,3,4,5,6,7,8,9,10]\n",
    "for i in list1:\n",
    "    print(f'{i} is the number')"
   ]
  },
  {
   "cell_type": "code",
   "execution_count": null,
   "metadata": {},
   "outputs": [
    {
     "name": "stdout",
     "output_type": "stream",
     "text": [
      "Odd\n",
      "Even\n",
      "Odd\n",
      "Even\n",
      "Odd\n",
      "Even\n",
      "Odd\n",
      "Even\n",
      "Odd\n",
      "Even\n"
     ]
    }
   ],
   "source": [
    "list1 = [1,2,3,4,5,6,7,8,9,10]\n",
    "for items in list1:\n",
    "    if items % 2 == 0:\n",
    "        print('Even')\n",
    "    else:\n",
    "        print('Odd')"
   ]
  },
  {
   "cell_type": "code",
   "execution_count": null,
   "metadata": {},
   "outputs": [
    {
     "name": "stdout",
     "output_type": "stream",
     "text": [
      "55\n"
     ]
    }
   ],
   "source": [
    "'''let's create a for loop that sums up the list:'''\n",
    "list1 = [1,2,3,4,5,6,7,8,9,10]\n",
    "for item in list1:\n",
    "    total = sum(list1)\n",
    "print(total)"
   ]
  },
  {
   "cell_type": "code",
   "execution_count": null,
   "metadata": {},
   "outputs": [
    {
     "name": "stdout",
     "output_type": "stream",
     "text": [
      "H is the letter\n",
      "e is the letter\n",
      "l is the letter\n",
      "l is the letter\n",
      "o is the letter\n"
     ]
    }
   ],
   "source": [
    "a = 'Hello'\n",
    "for i in a:\n",
    "    print(f'{i} is the letter')"
   ]
  },
  {
   "cell_type": "code",
   "execution_count": null,
   "metadata": {},
   "outputs": [
    {
     "name": "stdout",
     "output_type": "stream",
     "text": [
      "(2, 4)\n",
      "(6, 8)\n",
      "(10, 12)\n"
     ]
    }
   ],
   "source": [
    "'''tuple unpack'''\n",
    "list2 = [(2,4),(6,8),(10,12)]\n",
    "for tup in list2:\n",
    "    print(tup)"
   ]
  },
  {
   "cell_type": "code",
   "execution_count": null,
   "metadata": {},
   "outputs": [
    {
     "name": "stdout",
     "output_type": "stream",
     "text": [
      "dict_items([('k1', 1), ('k2', 2), ('k3', 3)])\n",
      "dict_items([('k1', 1), ('k2', 2), ('k3', 3)])\n",
      "dict_items([('k1', 1), ('k2', 2), ('k3', 3)])\n"
     ]
    }
   ],
   "source": [
    "'''Dictionary'''\n",
    "d = {'k1':1,'k2':2,'k3':3}\n",
    "for dic in d:\n",
    "    print(d.items())"
   ]
  },
  {
   "cell_type": "code",
   "execution_count": null,
   "metadata": {},
   "outputs": [
    {
     "name": "stdout",
     "output_type": "stream",
     "text": [
      "1\n",
      "2\n",
      "3\n",
      "4\n",
      "5\n",
      "6\n",
      "7\n",
      "8\n",
      "9\n",
      "10\n"
     ]
    }
   ],
   "source": [
    "'''Print Numbers from 1 to 10: Write a for loop that prints numbers from 1 to 10.'''\n",
    "for i in range(1,11):\n",
    "    print(i)\n"
   ]
  },
  {
   "cell_type": "code",
   "execution_count": null,
   "metadata": {},
   "outputs": [
    {
     "name": "stdout",
     "output_type": "stream",
     "text": [
      "The sum is 110\n"
     ]
    }
   ],
   "source": [
    "'''Sum of Even Numbers: Calculate and print the sum of all even numbers from 1 to 20 using a for loop.'''\n",
    "result = 0\n",
    "for i in list(range(1,21)): #this includes 1 and not 5\n",
    "    if i % 2 == 0:\n",
    "        result = result + i \n",
    "print(f'The sum is {result}')"
   ]
  },
  {
   "cell_type": "code",
   "execution_count": null,
   "metadata": {},
   "outputs": [
    {
     "name": "stdout",
     "output_type": "stream",
     "text": [
      "Number of vowels is 2\n"
     ]
    }
   ],
   "source": [
    "''' Write a program that takes a string as input and uses a for loop to count the number of vowels \n",
    "(a, e, i, o, u) in the string.'''\n",
    "vowels = ['a', 'e', 'i', 'o', 'u']\n",
    "count = 0\n",
    "s = 'Hello'\n",
    "for i in s:\n",
    "    if i in vowels:\n",
    "        count = count + 1\n",
    "print(f'Number of vowels is {count}')"
   ]
  },
  {
   "cell_type": "code",
   "execution_count": null,
   "metadata": {},
   "outputs": [
    {
     "name": "stdout",
     "output_type": "stream",
     "text": [
      "*\n",
      "**\n",
      "***\n",
      "****\n",
      "*****\n"
     ]
    }
   ],
   "source": [
    "'''Use nested for loops to print a pattern like the following stars'''\n",
    "pattern = '*'\n",
    "for i in range(1,6):\n",
    "    print(i * pattern) "
   ]
  },
  {
   "cell_type": "code",
   "execution_count": null,
   "metadata": {},
   "outputs": [
    {
     "name": "stdout",
     "output_type": "stream",
     "text": [
      "The factorial of 5 is 120\n"
     ]
    }
   ],
   "source": [
    "'''Write a program that calculates the factorial of a given number using a for loop.'''\n",
    "def fact(num):\n",
    "    factorial = 1\n",
    "    original = num\n",
    "    for i in range(1, num):\n",
    "        factorial = num * factorial\n",
    "        num = num - 1\n",
    "    print(f'The factorial of {original} is {factorial}')\n",
    "fact(5)\n"
   ]
  },
  {
   "cell_type": "code",
   "execution_count": null,
   "metadata": {},
   "outputs": [
    {
     "name": "stdout",
     "output_type": "stream",
     "text": [
      "1 X 10 = 10\n",
      "2 X 10 = 20\n",
      "3 X 10 = 30\n",
      "4 X 10 = 40\n",
      "5 X 10 = 50\n",
      "6 X 10 = 60\n",
      "7 X 10 = 70\n",
      "8 X 10 = 80\n",
      "9 X 10 = 90\n",
      "10 X 10 = 100\n"
     ]
    }
   ],
   "source": [
    "'''Write a program that takes an integer as input and prints its multiplication table using a for loop. \n",
    "For example, if the input is 5, the program should print the table for 5 \n",
    "(1x5, 2x5, 3x5, ...).'''\n",
    "def table(num):\n",
    "    for i in range(1, 11):\n",
    "        print(f'{i} X {num} = {i * num}')\n",
    "table(10)"
   ]
  },
  {
   "cell_type": "code",
   "execution_count": null,
   "metadata": {},
   "outputs": [
    {
     "name": "stdout",
     "output_type": "stream",
     "text": [
      "Reversed string: 3\n"
     ]
    }
   ],
   "source": [
    "'''Write a program that takes a string as input and uses a for loop to print the \n",
    "characters of the string in reverse order.'''\n",
    "# Get a string input from the user\n",
    "input_string = input(\"Enter a string: \")\n",
    "\n",
    "# Initialize an empty string to store the reversed string\n",
    "reversed_string = \"\"\n",
    "\n",
    "# Use a for loop to iterate through the characters of the input string in reverse order\n",
    "for char in reversed(input_string):\n",
    "    reversed_string += char\n",
    "\n",
    "# Print the reversed string\n",
    "print(\"Reversed string:\", reversed_string)\n"
   ]
  },
  {
   "cell_type": "code",
   "execution_count": null,
   "metadata": {},
   "outputs": [
    {
     "name": "stdout",
     "output_type": "stream",
     "text": [
      "The count of odds from 1 to 5 is 2!\n"
     ]
    }
   ],
   "source": [
    "'''Calculate and print the count of all odd numbers from 10 to 30 using a for loop.'''\n",
    "def odds(num1, num2):\n",
    "    count = 0\n",
    "    for i in range(num1, num2):\n",
    "        if i % 2 != 0:\n",
    "            count = count + 1\n",
    "    print(f'The count of odds from {num1} to {num2} is {count}!')\n",
    "odds(1,5)"
   ]
  },
  {
   "cell_type": "code",
   "execution_count": null,
   "metadata": {},
   "outputs": [
    {
     "name": "stdout",
     "output_type": "stream",
     "text": [
      "90 is the max\n"
     ]
    }
   ],
   "source": [
    "'''Write a program that finds and prints the maximum number in a list of integers using a for loop.'''\n",
    "a = [1,2,4,6,90,4,5,6]\n",
    "for i in a:\n",
    "    if i == max(a):\n",
    "        print(f'{i} is the max')\n",
    "    else:\n",
    "        continue"
   ]
  },
  {
   "cell_type": "code",
   "execution_count": null,
   "metadata": {},
   "outputs": [
    {
     "name": "stdout",
     "output_type": "stream",
     "text": [
      "fibonacci sequence is [0, 1, 1, 2]\n"
     ]
    }
   ],
   "source": [
    "'''Generate and print the first 10 numbers in the Fibonacci sequence (starting with 0 and 1) using a for loop.'''\n",
    "def fibonac(num):\n",
    "    f = [0,1]\n",
    "    for i in range(3,num):\n",
    "        digit = f[-2] + f[-1]\n",
    "        f.append(digit)\n",
    "    print(f'fibonacci sequence is {f}')\n",
    "fibonac(5)"
   ]
  },
  {
   "cell_type": "code",
   "execution_count": null,
   "metadata": {},
   "outputs": [
    {
     "name": "stdout",
     "output_type": "stream",
     "text": [
      "Pattern 1: Asterisks\n",
      "* \n",
      "* * \n",
      "* * * \n",
      "* * * * \n",
      "* * * * * \n",
      "\n",
      "Pattern 2: Numbers\n",
      "1 \n",
      "1 2 \n",
      "1 2 3 \n",
      "1 2 3 4 \n",
      "1 2 3 4 5 \n",
      "\n",
      "Pattern 3: Custom Character (#)\n",
      "# \n",
      "# # \n",
      "# # # \n",
      "# # # # \n",
      "# # # # # \n"
     ]
    }
   ],
   "source": [
    "'''Write a program to print a pattern of asterisks, numbers, or any other character using nested for loops.'''\n",
    "# Define the number of rows for the pattern\n",
    "num_rows = 5\n",
    "\n",
    "# Pattern 1: Asterisks (*)\n",
    "print(\"Pattern 1: Asterisks\")\n",
    "for i in range(num_rows):\n",
    "    for j in range(i + 1):\n",
    "        print(\"*\", end=\" \")\n",
    "    print()  # Move to the next line\n",
    "\n",
    "# Pattern 2: Numbers (1, 2, 3, ...)\n",
    "print(\"\\nPattern 2: Numbers\")\n",
    "for i in range(num_rows):\n",
    "    for j in range(1, i + 2):\n",
    "        print(j, end=\" \")\n",
    "    print()  # Move to the next line\n",
    "\n",
    "# Pattern 3: Custom Character (e.g., #)\n",
    "custom_char = \"#\"\n",
    "print(f\"\\nPattern 3: Custom Character ({custom_char})\")\n",
    "for i in range(num_rows):\n",
    "    for j in range(i + 1):\n",
    "        print(custom_char, end=\" \")\n",
    "    print()  # Move to the next line\n",
    "\n"
   ]
  },
  {
   "cell_type": "code",
   "execution_count": null,
   "metadata": {},
   "outputs": [
    {
     "name": "stdout",
     "output_type": "stream",
     "text": [
      "The factors of 4 are:\n",
      "1\n",
      "2\n",
      "4\n"
     ]
    }
   ],
   "source": [
    "'''Write a program that finds and prints the factors of a given number using a for loop.'''\n",
    "# Input a number from the user\n",
    "num = int(input(\"Enter a positive integer: \"))\n",
    "\n",
    "# Initialize a list to store the factors\n",
    "factors = []\n",
    "\n",
    "# Find and store the factors using a for loop\n",
    "for i in range(1, num + 1):\n",
    "    if num % i == 0:\n",
    "        factors.append(i)\n",
    "\n",
    "# Print the factors\n",
    "print(f\"The factors of {num} are:\")\n",
    "for factor in factors:\n",
    "    print(factor)\n",
    "\n"
   ]
  },
  {
   "cell_type": "code",
   "execution_count": null,
   "metadata": {},
   "outputs": [
    {
     "name": "stdout",
     "output_type": "stream",
     "text": [
      "It is a prime number\n"
     ]
    }
   ],
   "source": [
    "'''prime number checker'''\n",
    "def prime_checker(num):\n",
    "    is_prime = True\n",
    "    for i in range(2, num):\n",
    "        if (num % i) == 0:\n",
    "            is_prime = False\n",
    "    if is_prime == True:\n",
    "        print('It is a prime number')\n",
    "    else:\n",
    "            print('It is a prime number')\n",
    "prime_checker(7)\n",
    "    "
   ]
  },
  {
   "cell_type": "code",
   "execution_count": null,
   "metadata": {},
   "outputs": [
    {
     "data": {
      "text/plain": [
       "True"
      ]
     },
     "metadata": {},
     "output_type": "display_data"
    }
   ],
   "source": [
    "'''Implement a program that prints all prime numbers in a given range using for loops.'''\n",
    "def is_prime(num):\n",
    "   for i in range(2,num):\n",
    "       if (num % i) == 0:\n",
    "           return False\n",
    "       else:\n",
    "            return True\n",
    "is_prime(7)"
   ]
  },
  {
   "cell_type": "code",
   "execution_count": null,
   "metadata": {},
   "outputs": [],
   "source": []
  }
 ],
 "metadata": {
  "kernelspec": {
   "display_name": "Python 3",
   "language": "python",
   "name": "python3"
  },
  "language_info": {
   "codemirror_mode": {
    "name": "ipython",
    "version": 3
   },
   "file_extension": ".py",
   "mimetype": "text/x-python",
   "name": "python",
   "nbconvert_exporter": "python",
   "pygments_lexer": "ipython3",
   "version": "3.10.11"
  },
  "orig_nbformat": 4
 },
 "nbformat": 4,
 "nbformat_minor": 2
}
