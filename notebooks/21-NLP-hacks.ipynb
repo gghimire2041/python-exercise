{
 "cells": [
  {
   "cell_type": "markdown",
   "metadata": {},
   "source": [
    "## Case when a corpus has mixed words without spaces"
   ]
  },
  {
   "cell_type": "code",
   "execution_count": 12,
   "metadata": {},
   "outputs": [
    {
     "name": "stdout",
     "output_type": "stream",
     "text": [
      "                     cleaned_text\n",
      "0        This is a mixed sentence\n",
      "1        Separate words like this\n",
      "2  Another example without spaces\n"
     ]
    }
   ],
   "source": [
    "import pandas as pd\n",
    "import wordninja\n",
    "\n",
    "# Sample data\n",
    "data = {'text_column': [\"Thisisamixedsentence\", \"Separatewordslikethis\", \"Anotherexamplewithoutspaces\"]}\n",
    "\n",
    "# Create a DataFrame\n",
    "df = pd.DataFrame(data)\n",
    "\n",
    "# Custom function to separate mixed words\n",
    "def separate_mixed_words(text):\n",
    "    separated_words = wordninja.split(text)\n",
    "    return ' '.join(separated_words)\n",
    "\n",
    "# Apply the custom function to the 'text_column'\n",
    "df['cleaned_text'] = df['text_column'].apply(separate_mixed_words)\n",
    "\n",
    "# Output the cleaned DataFrame\n",
    "print(df[['cleaned_text']])"
   ]
  },
  {
   "cell_type": "code",
   "execution_count": null,
   "metadata": {},
   "outputs": [],
   "source": []
  }
 ],
 "metadata": {
  "kernelspec": {
   "display_name": "venv-pe",
   "language": "python",
   "name": "python3"
  },
  "language_info": {
   "codemirror_mode": {
    "name": "ipython",
    "version": 3
   },
   "file_extension": ".py",
   "mimetype": "text/x-python",
   "name": "python",
   "nbconvert_exporter": "python",
   "pygments_lexer": "ipython3",
   "version": "3.10.11"
  }
 },
 "nbformat": 4,
 "nbformat_minor": 2
}
