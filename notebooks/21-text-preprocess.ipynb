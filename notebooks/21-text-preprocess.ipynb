{
 "cells": [
  {
   "cell_type": "code",
   "execution_count": null,
   "metadata": {},
   "outputs": [],
   "source": [
    "# Preprocess the 'comment' column\n",
    "def preprocess_comment(comment):\n",
    "    # Remove unwanted information\n",
    "    comment = re.sub(r'subnote date: \\d{4}-\\d{2}-\\d{2}-\\d{2}\\.\\d{2}\\.\\d{2}\\.\\d{6}', '', comment)\n",
    "    comment = re.sub(r'subnote user: /.*? ', '', comment)\n",
    "    \n",
    "    # Handle email addresses\n",
    "    comment = re.sub(r'\\S+@\\S+', ' ', comment)\n",
    "    \n",
    "    return comment.strip()\n",
    "\n",
    "df['preprocessed_comment'] = df['comment'].apply(preprocess_comment)\n",
    "\n",
    "# Display the preprocessed DataFrame\n",
    "print(df[['comment', 'preprocessed_comment']])"
   ]
  }
 ],
 "metadata": {
  "language_info": {
   "name": "python"
  }
 },
 "nbformat": 4,
 "nbformat_minor": 2
}
