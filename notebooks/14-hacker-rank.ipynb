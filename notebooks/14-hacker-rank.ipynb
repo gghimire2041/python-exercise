{
 "cells": [
  {
   "cell_type": "code",
   "execution_count": 1,
   "metadata": {},
   "outputs": [
    {
     "name": "stdout",
     "output_type": "stream",
     "text": [
      "Weird\n"
     ]
    }
   ],
   "source": [
    "import math\n",
    "import os\n",
    "import random\n",
    "import re\n",
    "import sys\n",
    "\n",
    "if __name__ == '__main__':\n",
    "    n = int(input().strip())\n",
    "if n % 2 != 0:\n",
    "    print(\"Weird\")\n",
    "elif n % 2 == 0 and n >= 2 and n <= 5:\n",
    "    print(\"Not Weird\")\n",
    "elif n % 2 == 0 and n >= 6 and n <= 20:\n",
    "    print(\"Weird\")\n",
    "elif  n % 2 == 0 and n > 20:\n",
    "    print(\"Not Weird\")"
   ]
  },
  {
   "cell_type": "code",
   "execution_count": 1,
   "metadata": {},
   "outputs": [
    {
     "name": "stdout",
     "output_type": "stream",
     "text": [
      "16\n",
      "-2\n",
      "63\n"
     ]
    }
   ],
   "source": [
    "if __name__ == '__main__':\n",
    "    a = int(input())\n",
    "    b = int(input())\n",
    "\n",
    "print(a + b)\n",
    "print(a - b)\n",
    "print(a * b)"
   ]
  },
  {
   "cell_type": "code",
   "execution_count": 2,
   "metadata": {},
   "outputs": [
    {
     "name": "stdout",
     "output_type": "stream",
     "text": [
      "0\n",
      "0.75\n"
     ]
    }
   ],
   "source": [
    "if __name__ == '__main__':\n",
    "    a = int(input())\n",
    "    b = int(input())\n",
    "    print(a // b)\n",
    "    print(a / b)"
   ]
  },
  {
   "cell_type": "code",
   "execution_count": 4,
   "metadata": {},
   "outputs": [
    {
     "name": "stdout",
     "output_type": "stream",
     "text": [
      "0\n",
      "1\n",
      "4\n",
      "9\n",
      "16\n",
      "25\n"
     ]
    }
   ],
   "source": [
    "if __name__ == '__main__':\n",
    "    n = int(input())\n",
    "    nl = [a**2 for a in range(0,n)]\n",
    "    print(*nl, sep='\\n')"
   ]
  },
  {
   "cell_type": "code",
   "execution_count": 3,
   "metadata": {},
   "outputs": [
    {
     "data": {
      "text/plain": [
       "True"
      ]
     },
     "execution_count": 3,
     "metadata": {},
     "output_type": "execute_result"
    }
   ],
   "source": [
    "'''Given a year, determine whether it is a leap year. If it is a leap year, return the Boolean True, \n",
    "otherwise return False.Note that the code stub provided reads from STDIN and passes arguments to the \n",
    "is_leap function. It is only necessary to complete the is_leap function. '''\n",
    "\n",
    "def is_leap(year):\n",
    "    leap = False  # Initialize leap as False by default\n",
    "\n",
    "    # Check if the year is divisible by 4\n",
    "    if year % 4 == 0:\n",
    "        # If divisible by 4, check for further conditions\n",
    "        if year % 100 == 0:\n",
    "            # If divisible by 100, check for divisibility by 400\n",
    "            if year % 400 == 0:\n",
    "                # If divisible by 400, it's a leap year\n",
    "                leap = True\n",
    "            else:\n",
    "                # If not divisible by 400, it's not a leap year\n",
    "                leap = False\n",
    "        else:\n",
    "            # If not divisible by 100, it's a leap year\n",
    "            leap = True\n",
    "    else:\n",
    "        # If not divisible by 4, it's not a leap year\n",
    "        leap = False\n",
    "\n",
    "    return leap\n",
    "is_leap(2024)\n"
   ]
  },
  {
   "cell_type": "code",
   "execution_count": 4,
   "metadata": {},
   "outputs": [
    {
     "name": "stdout",
     "output_type": "stream",
     "text": [
      "1,2,3,4,5"
     ]
    }
   ],
   "source": [
    "'''The included code stub will read an integer,, from STDIN.\n",
    "Without using any string methods, try to print the following:\n",
    "Note that \"\" represents the consecutive values in between.\n",
    "Example\n",
    "Print the string.'''\n",
    "if __name__ == '__main__':\n",
    "    n = int(input())\n",
    "for i in range(1, n + 1):\n",
    "        print(i, end=\"\")\n",
    "        if i != n:  # To print the commas between numbers except for the last one\n",
    "            print(\",\", end=\"\")"
   ]
  },
  {
   "cell_type": "code",
   "execution_count": null,
   "metadata": {},
   "outputs": [],
   "source": []
  }
 ],
 "metadata": {
  "kernelspec": {
   "display_name": "venv-pe",
   "language": "python",
   "name": "python3"
  },
  "language_info": {
   "codemirror_mode": {
    "name": "ipython",
    "version": 3
   },
   "file_extension": ".py",
   "mimetype": "text/x-python",
   "name": "python",
   "nbconvert_exporter": "python",
   "pygments_lexer": "ipython3",
   "version": "3.10.11"
  }
 },
 "nbformat": 4,
 "nbformat_minor": 2
}
