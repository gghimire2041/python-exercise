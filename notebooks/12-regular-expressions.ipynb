{
 "cells": [
  {
   "cell_type": "markdown",
   "metadata": {},
   "source": [
    "#### A method designed for searching patterns in a string/text\n",
    "- Regex for short\n",
    "- ^ and $ describe the position\n",
    "- '\\W' and \"[a-t]\" describe a set of characters\n",
    "- +, *, and {9} specify a quantifier (number of character occurrences)\n",
    "#### Some patterns\n",
    "- Minne ------ Minnesota or Tom Minneso\n",
    "- ^Minne ------ Minnesota [specifies the location, here in the beginning]\n",
    "- i$ (meaning i is the end) ------- Resham Firiri\n",
    "- \\d matches a numerical digit\n",
    "- \\d\\d matches a two consecutive digit\n",
    "- \\s matches a white space\n",
    "- \\w would match lower or upper case, digit, or an underscore\n",
    "- ^\\w\\w\\w\\w\\s would match Mike Salamanca\n",
    "- [aeiou]{2} would look for two consecutive vowels\n",
    "- ^\\w{7}$ would match a 7 charactered string like 'Rascals'\n",
    "- \\w{7} would look for any string with 7 consecutive word characters "
   ]
  },
  {
   "cell_type": "code",
   "execution_count": 2,
   "metadata": {},
   "outputs": [],
   "source": [
    "import re"
   ]
  },
  {
   "cell_type": "code",
   "execution_count": 4,
   "metadata": {},
   "outputs": [],
   "source": [
    "names = ['Ram Budathoki',\n",
    "         'Alexander Dumas',\n",
    "         'Drew Barrymore',\n",
    "         'Inigo Montaya',\n",
    "         'Jack Dawson',\n",
    "         'Rock'\n",
    "        ]"
   ]
  },
  {
   "cell_type": "code",
   "execution_count": 5,
   "metadata": {},
   "outputs": [
    {
     "name": "stdout",
     "output_type": "stream",
     "text": [
      "Ram Budathoki\n",
      "Alexander Dumas\n",
      "Drew Barrymore\n",
      "Inigo Montaya\n",
      "Jack Dawson\n"
     ]
    }
   ],
   "source": [
    "# Find names with first and last names\n",
    "regex = '^\\w+ \\w+$'\n",
    "for name in names:\n",
    "    result = re.search(regex, name)\n",
    "    if result:\n",
    "        print(name)"
   ]
  },
  {
   "cell_type": "code",
   "execution_count": 22,
   "metadata": {},
   "outputs": [
    {
     "name": "stdout",
     "output_type": "stream",
     "text": [
      "Alexander Dumas\n",
      "Inigo Montaya\n"
     ]
    }
   ],
   "source": [
    "# What if there were multiple spaces between the two names?\n",
    "namess = ['Ram  Budathoki',\n",
    "         'Alexander Dumas',\n",
    "         'Drew   Barrymore',\n",
    "         'Inigo Montaya',\n",
    "         'Jack!',\n",
    "         'Rock'\n",
    "        ]\n",
    "regex = '^\\w+ \\w+$'\n",
    "for name in namess:\n",
    "    result = re.search(regex, name)\n",
    "    if result:\n",
    "        print(name)"
   ]
  },
  {
   "cell_type": "code",
   "execution_count": 14,
   "metadata": {},
   "outputs": [
    {
     "name": "stdout",
     "output_type": "stream",
     "text": [
      "Ram  Budathoki\n",
      "Alexander Dumas\n",
      "Drew   Barrymore\n",
      "Inigo Montaya\n"
     ]
    }
   ],
   "source": [
    "# Solution\n",
    "regex = '^\\w+\\s+\\w+$'\n",
    "for name in namess:\n",
    "    result = re.search(regex, name)\n",
    "    if result:\n",
    "        print(name)"
   ]
  },
  {
   "cell_type": "code",
   "execution_count": 8,
   "metadata": {},
   "outputs": [
    {
     "name": "stdout",
     "output_type": "stream",
     "text": [
      "<re.Match object; span=(0, 14), match='Ram  Budathoki'>\n",
      "<re.Match object; span=(0, 15), match='Alexander Dumas'>\n",
      "<re.Match object; span=(0, 16), match='Drew   Barrymore'>\n",
      "<re.Match object; span=(0, 13), match='Inigo Montaya'>\n",
      "<re.Match object; span=(0, 11), match='Jack Dawson'>\n"
     ]
    }
   ],
   "source": [
    "# So far we're only returning the searched object\n",
    "regex = '^\\w+\\s+\\w+$'\n",
    "for name in namess:\n",
    "    result = re.search(regex, name)\n",
    "    if result:\n",
    "        print(result)"
   ]
  },
  {
   "cell_type": "code",
   "execution_count": 12,
   "metadata": {},
   "outputs": [
    {
     "name": "stdout",
     "output_type": "stream",
     "text": [
      "Alexander Dumas\n",
      "0\n",
      "9\n",
      "(0, 9)\n",
      "Alexander\n"
     ]
    }
   ],
   "source": [
    "# Search for names with starting A\n",
    "regex = 'A\\w*'\n",
    "for name in namess:\n",
    "    match = re.search(regex, name)\n",
    "    if match:\n",
    "        print(name)\n",
    "        print(match.start())\n",
    "        print(match.end())\n",
    "        print(match.span())\n",
    "        print(match.group())"
   ]
  },
  {
   "cell_type": "code",
   "execution_count": 18,
   "metadata": {},
   "outputs": [
    {
     "name": "stdout",
     "output_type": "stream",
     "text": [
      "Ram  Budathoki\n",
      "Ram\n",
      "Budathoki\n",
      "Alexander Dumas\n",
      "Alexander\n",
      "Dumas\n",
      "Drew   Barrymore\n",
      "Drew\n",
      "Barrymore\n",
      "Inigo Montaya\n",
      "Inigo\n",
      "Montaya\n"
     ]
    }
   ],
   "source": [
    "# Test for first and last name\n",
    "regex = '(^\\w+)\\s+(\\w+)$'\n",
    "for name in namess:\n",
    "    match = re.search(regex, name)\n",
    "    if match:\n",
    "        print(name)\n",
    "        print(match.group(1))\n",
    "        print(match.group(2))"
   ]
  },
  {
   "cell_type": "code",
   "execution_count": 20,
   "metadata": {},
   "outputs": [
    {
     "name": "stdout",
     "output_type": "stream",
     "text": [
      "Ram\n",
      "Alexander\n",
      "Drew\n",
      "Inigo\n"
     ]
    }
   ],
   "source": [
    "# Test for first and last name\n",
    "regex = '(?P<fn>^\\w+)\\s+(?P<ln>\\w+)$'\n",
    "for name in namess:\n",
    "    match = re.search(regex, name)\n",
    "    if match:\n",
    "        print(match.group('fn'))"
   ]
  },
  {
   "cell_type": "code",
   "execution_count": 23,
   "metadata": {},
   "outputs": [
    {
     "name": "stdout",
     "output_type": "stream",
     "text": [
      "Jack!\n",
      "Rock\n"
     ]
    }
   ],
   "source": [
    "# Did you notice Jack! Dawson has always been avoided?\n",
    "regex = '^[a-zA-Z!]+$'\n",
    "for name in namess:\n",
    "    if re.search(regex, name):\n",
    "        print(name)"
   ]
  },
  {
   "cell_type": "code",
   "execution_count": 24,
   "metadata": {},
   "outputs": [
    {
     "name": "stdout",
     "output_type": "stream",
     "text": [
      "['am', 'udathoki']\n",
      "['lexander', 'umas']\n",
      "['rew', 'arrymore']\n",
      "['nigo', 'ontaya']\n",
      "['ack', 'awson']\n",
      "['ock']\n"
     ]
    }
   ],
   "source": [
    "# Scan for blocks of lower case letters\n",
    "regex = '[a-z]+'\n",
    "for name in names:\n",
    "    matches = re.findall(regex, name)\n",
    "    if matches:\n",
    "        print(matches)"
   ]
  },
  {
   "cell_type": "code",
   "execution_count": null,
   "metadata": {},
   "outputs": [],
   "source": []
  }
 ],
 "metadata": {
  "kernelspec": {
   "display_name": "venv-pe",
   "language": "python",
   "name": "python3"
  },
  "language_info": {
   "codemirror_mode": {
    "name": "ipython",
    "version": 3
   },
   "file_extension": ".py",
   "mimetype": "text/x-python",
   "name": "python",
   "nbconvert_exporter": "python",
   "pygments_lexer": "ipython3",
   "version": "3.10.11"
  }
 },
 "nbformat": 4,
 "nbformat_minor": 2
}
