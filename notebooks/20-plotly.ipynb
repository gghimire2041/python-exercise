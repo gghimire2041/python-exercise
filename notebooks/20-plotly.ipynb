{
 "cells": [
  {
   "cell_type": "code",
   "execution_count": null,
   "metadata": {},
   "outputs": [],
   "source": [
    "import seaborn as sns\n",
    "import matplotlib.pyplot as plt\n",
    "\n",
    "# Assuming your DataFrame is named df\n",
    "# Use the seaborn countplot to visualize counts by age group with color differentiation for severity and gender\n",
    "plt.figure(figsize=(12, 8))\n",
    "sns.countplot(x='Age_group', hue='severity', data=df, palette={'L': 'blue', 'H': 'red'}, hue_order=['L', 'H'], dodge=True, alpha=0.7)\n",
    "sns.countplot(x='Age_group', hue='gender', data=df, palette='pastel', dodge=True, alpha=0.7)\n",
    "\n",
    "# Add labels and title\n",
    "plt.title('Counts by Age Group with Color Differentiation for Severity and Gender')\n",
    "plt.xlabel('Age Group')\n",
    "plt.ylabel('Count')\n",
    "plt.legend(title='Severity', loc='upper right')\n",
    "\n",
    "# Show the plot\n",
    "plt.show()\n"
   ]
  }
 ],
 "metadata": {
  "language_info": {
   "name": "python"
  }
 },
 "nbformat": 4,
 "nbformat_minor": 2
}
