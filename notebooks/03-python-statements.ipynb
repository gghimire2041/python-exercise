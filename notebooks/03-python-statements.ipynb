{
 "cells": [
  {
   "cell_type": "markdown",
   "metadata": {},
   "source": [
    "### Python Statements\n",
    "\n",
    "In Python, statements are individual instructions that the interpreter can execute. They form the building blocks of Python programs, allowing you to perform operations, control the flow of execution, define structures, and manipulate data. Here are some key types of statements in Python:\n"
   ]
  },
  {
   "cell_type": "markdown",
   "metadata": {},
   "source": [
    "#### Assignment Statements"
   ]
  },
  {
   "cell_type": "code",
   "execution_count": 1,
   "metadata": {},
   "outputs": [],
   "source": [
    "x = 5\n",
    "name = \"Alice\""
   ]
  },
  {
   "cell_type": "markdown",
   "metadata": {},
   "source": [
    "#### Expression Statements"
   ]
  },
  {
   "cell_type": "code",
   "execution_count": 2,
   "metadata": {},
   "outputs": [],
   "source": [
    "result = 3 * (4 + 5)"
   ]
  },
  {
   "cell_type": "markdown",
   "metadata": {},
   "source": [
    "#### Conditional Statements (if, elif, else):"
   ]
  },
  {
   "cell_type": "code",
   "execution_count": 3,
   "metadata": {},
   "outputs": [
    {
     "name": "stdout",
     "output_type": "stream",
     "text": [
      "x is less than 10\n"
     ]
    }
   ],
   "source": [
    "if x > 10:\n",
    "    print(\"x is greater than 10\")\n",
    "elif x == 10:\n",
    "    print(\"x is equal to 10\")\n",
    "else:\n",
    "    print(\"x is less than 10\")\n"
   ]
  },
  {
   "cell_type": "code",
   "execution_count": 4,
   "metadata": {},
   "outputs": [
    {
     "name": "stdout",
     "output_type": "stream",
     "text": [
      "Woe\n"
     ]
    }
   ],
   "source": [
    "disaster = True\n",
    "if disaster:\n",
    "    print('Woe')\n",
    "else:\n",
    "    print('Whee')"
   ]
  },
  {
   "cell_type": "code",
   "execution_count": 5,
   "metadata": {},
   "outputs": [
    {
     "name": "stdout",
     "output_type": "stream",
     "text": [
      "It's a yeti\n"
     ]
    }
   ],
   "source": [
    "furry = True\n",
    "large = True\n",
    "if furry:\n",
    "    if large:\n",
    "        print(\"It's a yeti\")\n",
    "else: \n",
    "    if large:\n",
    "        print(\"It's a whale\")\n",
    "    else:\n",
    "        print(\"It's a human\")"
   ]
  },
  {
   "cell_type": "code",
   "execution_count": 6,
   "metadata": {},
   "outputs": [
    {
     "name": "stdout",
     "output_type": "stream",
     "text": [
      "Vowel\n"
     ]
    }
   ],
   "source": [
    "# Beginner's way\n",
    "letter = 'o'\n",
    "if letter == 'o' or letter == 'e' or letter == 'a' or letter == 'i' \\\n",
    "    or letter == 'u':\n",
    "    print('Vowel')\n",
    "else:\n",
    "    print('Not a vowel')"
   ]
  },
  {
   "cell_type": "code",
   "execution_count": 7,
   "metadata": {},
   "outputs": [
    {
     "name": "stdout",
     "output_type": "stream",
     "text": [
      "Consonants\n"
     ]
    }
   ],
   "source": [
    "# More pythonic way\n",
    "vowels = 'aeiou'\n",
    "cons = 'abcdfghjklmnpqrstvwxyz'\n",
    "letter = 'b'\n",
    "if letter in vowels:\n",
    "    print('Vowel')\n",
    "\n",
    "elif letter in cons:\n",
    "    print('Consonants')\n",
    "else:\n",
    "    print('Something else')"
   ]
  },
  {
   "cell_type": "code",
   "execution_count": 8,
   "metadata": {},
   "outputs": [
    {
     "name": "stdout",
     "output_type": "stream",
     "text": [
      "Nothing\n"
     ]
    }
   ],
   "source": [
    "some_list = []\n",
    "if some_list: # Python checks the truthiness of the variable\n",
    "    print('There is something here')\n",
    "else:\n",
    "    print('Nothing')"
   ]
  },
  {
   "cell_type": "code",
   "execution_count": 9,
   "metadata": {},
   "outputs": [
    {
     "name": "stdout",
     "output_type": "stream",
     "text": [
      "Fitting tweet\n"
     ]
    }
   ],
   "source": [
    "# Walrus operator\n",
    "tweet_limit = 290\n",
    "tweet_string = 'Blah' * 30\n",
    "if diff := tweet_limit - len(tweet_string) >= 0:\n",
    "    print('Fitting tweet')\n",
    "else:\n",
    "    print(\"Went over by\", abs(diff))"
   ]
  },
  {
   "cell_type": "code",
   "execution_count": 10,
   "metadata": {},
   "outputs": [
    {
     "name": "stdout",
     "output_type": "stream",
     "text": [
      "Too low\n"
     ]
    }
   ],
   "source": [
    "secret = 4\n",
    "guess = 3\n",
    "if guess < secret:\n",
    "    print('Too low')\n",
    "elif guess > secret:\n",
    "    print('Too high')\n",
    "else:\n",
    "    print('Just right')"
   ]
  },
  {
   "cell_type": "markdown",
   "metadata": {},
   "source": [
    "#### Loop Statements (for, while):"
   ]
  },
  {
   "cell_type": "code",
   "execution_count": 11,
   "metadata": {},
   "outputs": [
    {
     "name": "stdout",
     "output_type": "stream",
     "text": [
      "0\n",
      "1\n",
      "2\n",
      "3\n",
      "4\n"
     ]
    }
   ],
   "source": [
    "for i in range(5):\n",
    "    print(i)"
   ]
  },
  {
   "cell_type": "code",
   "execution_count": 12,
   "metadata": {},
   "outputs": [
    {
     "name": "stdout",
     "output_type": "stream",
     "text": [
      "5\n",
      "6\n",
      "7\n",
      "8\n",
      "9\n"
     ]
    }
   ],
   "source": [
    "while x < 10:\n",
    "    print(x)\n",
    "    x += 1"
   ]
  },
  {
   "cell_type": "markdown",
   "metadata": {},
   "source": [
    "#### Control Flow Statements:\n",
    "**These statements control the flow of execution in a Python program.**\n",
    "\n",
    "    Break: Terminates the loop it's currently in.\n",
    "    Continue: Skips the rest of the code in a loop for the current iteration and continues to the next iteration.\n",
    "    Pass: Does nothing. It's used when a statement is syntactically needed but no action is required."
   ]
  },
  {
   "cell_type": "markdown",
   "metadata": {},
   "source": [
    "#### Import Statements:"
   ]
  },
  {
   "cell_type": "code",
   "execution_count": 13,
   "metadata": {},
   "outputs": [],
   "source": [
    "import math\n",
    "from random import randint"
   ]
  },
  {
   "cell_type": "markdown",
   "metadata": {},
   "source": [
    "#### Exception Handling (try, except, finally):"
   ]
  },
  {
   "cell_type": "code",
   "execution_count": 14,
   "metadata": {},
   "outputs": [
    {
     "name": "stdout",
     "output_type": "stream",
     "text": [
      "Cannot divide by zero\n",
      "Execution completed\n"
     ]
    }
   ],
   "source": [
    "try:\n",
    "    result = 10 / 0\n",
    "except ZeroDivisionError:\n",
    "    print(\"Cannot divide by zero\")\n",
    "finally:\n",
    "    print(\"Execution completed\")"
   ]
  },
  {
   "cell_type": "markdown",
   "metadata": {},
   "source": [
    "### The End"
   ]
  }
 ],
 "metadata": {
  "kernelspec": {
   "display_name": "venv-pe",
   "language": "python",
   "name": "python3"
  },
  "language_info": {
   "codemirror_mode": {
    "name": "ipython",
    "version": 3
   },
   "file_extension": ".py",
   "mimetype": "text/x-python",
   "name": "python",
   "nbconvert_exporter": "python",
   "pygments_lexer": "ipython3",
   "version": "3.10.11"
  }
 },
 "nbformat": 4,
 "nbformat_minor": 2
}
