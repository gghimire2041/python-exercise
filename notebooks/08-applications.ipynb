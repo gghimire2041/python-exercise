{
 "cells": [
  {
   "cell_type": "code",
   "execution_count": 2,
   "metadata": {},
   "outputs": [
    {
     "data": {
      "text/html": [
       "<div style='display: flex;'><div style='margin-right: 20px;'>Itta<br><img src='Itta.png' style='width:100px;'></div><div style='margin-right: 20px;'>Paan<br><img src='Paan.png' style='width:100px;'></div><div style='margin-right: 20px;'>Hukum<br><img src='Hukum.png' style='width:100px;'></div></div><div style='display: flex;'><div style='margin-right: 20px;'>Hukum<br><img src='Hukum.png' style='width:100px;'></div><div style='margin-right: 20px;'>Burja<br><img src='Burja.png' style='width:100px;'></div><div style='margin-right: 20px;'>Burja<br><img src='Burja.png' style='width:100px;'></div></div><div style='display: flex;'></div>"
      ],
      "text/plain": [
       "<IPython.core.display.HTML object>"
      ]
     },
     "metadata": {},
     "output_type": "display_data"
    },
    {
     "name": "stdout",
     "output_type": "stream",
     "text": [
      "Outcome of the throw: ['Itta', 'Hukum', 'Hukum', 'Burja', 'Burja', 'Paan']\n"
     ]
    }
   ],
   "source": [
    "import random\n",
    "from IPython.display import display, Image, HTML\n",
    "\n",
    "# Define dice sides and their respective image file paths\n",
    "dice_sides = ['Itta', 'Paan', 'Hukum', 'Chidi', 'Jhandi', 'Burja']\n",
    "image_paths = {\n",
    "    'Itta': 'Itta.png',\n",
    "    'Paan': 'Paan.png',\n",
    "    'Hukum': 'Hukum.png',\n",
    "    'Chidi': 'Chidi.png',\n",
    "    'Jhandi': 'Jhandi.png',\n",
    "    'Burja': 'Burja.png'\n",
    "}\n",
    "\n",
    "# Function to simulate throwing six dice\n",
    "def throw_six_dice():\n",
    "    return [random.choice(dice_sides) for _ in range(6)]\n",
    "\n",
    "# Function to count occurrences of each side\n",
    "def count_occurrences(dice_results):\n",
    "    counts = {side: dice_results.count(side) for side in dice_sides}\n",
    "    return counts\n",
    "\n",
    "# Function to display images for each side in two stacks\n",
    "def display_side_images_stacked(counts):\n",
    "    html = \"<div style='display: flex;'>\"\n",
    "    count = 0\n",
    "    for side, path in image_paths.items():\n",
    "        side_count = counts.get(side, 0)\n",
    "        for _ in range(side_count):\n",
    "            html += f\"<div style='margin-right: 20px;'>{side}<br><img src='{path}' style='width:100px;'></div>\"\n",
    "            count += 1\n",
    "            if count % 3 == 0:\n",
    "                html += \"</div><div style='display: flex;'>\"\n",
    "    html += \"</div>\"\n",
    "    display(HTML(html))\n",
    "\n",
    "# Simulate throwing six dice\n",
    "results = throw_six_dice()\n",
    "\n",
    "# Count occurrences of each side\n",
    "occurrences = count_occurrences(results)\n",
    "\n",
    "# Display images for each side in two stacks based on the outcome\n",
    "display_side_images_stacked(occurrences)\n",
    "\n",
    "# Display results\n",
    "print(\"Outcome of the throw:\", results)\n"
   ]
  },
  {
   "cell_type": "code",
   "execution_count": null,
   "metadata": {},
   "outputs": [],
   "source": []
  },
  {
   "cell_type": "markdown",
   "metadata": {},
   "source": [
    "## For xcode"
   ]
  },
  {
   "cell_type": "code",
   "execution_count": null,
   "metadata": {},
   "outputs": [],
   "source": [
    "import UIKit\n",
    "import WebKit\n",
    "\n",
    "class ViewController: UIViewController, WKNavigationDelegate {\n",
    "    \n",
    "    let diceSides = [\"Itta\", \"Paan\", \"Hukum\", \"Chidi\", \"Jhandi\", \"Burja\"]\n",
    "    let imagePaths = [\n",
    "        \"Itta\": \"Itta.png\",\n",
    "        \"Paan\": \"Paan.png\",\n",
    "        \"Hukum\": \"Hukum.png\",\n",
    "        \"Chidi\": \"Chidi.png\",\n",
    "        \"Jhandi\": \"Jhandi.png\",\n",
    "        \"Burja\": \"Burja.png\"\n",
    "    ]\n",
    "    \n",
    "    func throwSixDice() -> [String] {\n",
    "        var results = [String]()\n",
    "        for _ in 0..<6 {\n",
    "            results.append(diceSides.randomElement()!)\n",
    "        }\n",
    "        return results\n",
    "    }\n",
    "    \n",
    "    func countOccurrences(of diceResults: [String]) -> [String: Int] {\n",
    "        var counts = [String: Int]()\n",
    "        for side in diceSides {\n",
    "            counts[side] = diceResults.filter { $0 == side }.count\n",
    "        }\n",
    "        return counts\n",
    "    }\n",
    "    \n",
    "    func displaySideImagesStacked(_ counts: [String: Int]) {\n",
    "        var htmlString = \"<html><body><div style='display: flex;'>\"\n",
    "        var count = 0\n",
    "        for (side, path) in imagePaths {\n",
    "            let sideCount = counts[side, default: 0]\n",
    "            for _ in 0..<sideCount {\n",
    "                htmlString += \"<div style='margin-right: 20px;'>\\(side)<br><img src='\\(path)' style='width:100px;'></div>\"\n",
    "                count += 1\n",
    "                if count % 3 == 0 {\n",
    "                    htmlString += \"</div><div style='display: flex;'>\"\n",
    "                }\n",
    "            }\n",
    "        }\n",
    "        htmlString += \"</div></body></html>\"\n",
    "        \n",
    "        let webView = WKWebView(frame: view.bounds)\n",
    "        webView.navigationDelegate = self\n",
    "        view.addSubview(webView)\n",
    "        \n",
    "        webView.loadHTMLString(htmlString, baseURL: nil)\n",
    "    }\n",
    "    \n",
    "    override func viewDidLoad() {\n",
    "        super.viewDidLoad()\n",
    "        \n",
    "        let results = throwSixDice()\n",
    "        let occurrences = countOccurrences(of: results)\n",
    "        displaySideImagesStacked(occurrences)\n",
    "        \n",
    "        print(\"Outcome of the throw: \\(results)\")\n",
    "    }\n",
    "}\n"
   ]
  }
 ],
 "metadata": {
  "kernelspec": {
   "display_name": "venv-pe",
   "language": "python",
   "name": "python3"
  },
  "language_info": {
   "codemirror_mode": {
    "name": "ipython",
    "version": 3
   },
   "file_extension": ".py",
   "mimetype": "text/x-python",
   "name": "python",
   "nbconvert_exporter": "python",
   "pygments_lexer": "ipython3",
   "version": "3.10.11"
  }
 },
 "nbformat": 4,
 "nbformat_minor": 2
}
