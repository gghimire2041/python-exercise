{
 "cells": [
  {
   "cell_type": "markdown",
   "metadata": {},
   "source": [
    "### Stack Overflow "
   ]
  },
  {
   "cell_type": "markdown",
   "metadata": {},
   "source": [
    "After installing howdoi using'pip install howdoi', you can use it in the terminal. For example:\n",
    "\n",
    "howdoi write a file in python"
   ]
  },
  {
   "cell_type": "code",
   "execution_count": 11,
   "metadata": {},
   "outputs": [],
   "source": [
    "# PWD shown by terminal might differ from what jupyter notebook thinks\n",
    "import os\n",
    "os.chdir('D:\\Github Projects\\python-exercise')"
   ]
  },
  {
   "cell_type": "code",
   "execution_count": 12,
   "metadata": {},
   "outputs": [
    {
     "name": "stdout",
     "output_type": "stream",
     "text": [
      "D:\\Github Projects\\python-exercise\n"
     ]
    }
   ],
   "source": [
    "# Check the current working directory\n",
    "print(os.getcwd())"
   ]
  },
  {
   "cell_type": "code",
   "execution_count": 10,
   "metadata": {},
   "outputs": [
    {
     "name": "stdout",
     "output_type": "stream",
     "text": [
      "ÿþa\u0000p\u0000p\u0000d\u0000i\u0000r\u0000s\u0000=\u0000=\u00001\u0000.\u00004\u0000.\u00004\u0000\n",
      "\u0000\n",
      "\u0000a\u0000s\u0000t\u0000t\u0000o\u0000k\u0000e\u0000n\u0000s\u0000=\u0000=\u00002\u0000.\u00004\u0000.\u00001\u0000\n",
      "\u0000\n",
      "\u0000b\u0000l\u0000i\u0000n\u0000k\u0000e\u0000r\u0000=\u0000=\u00001\u0000.\u00007\u0000.\u00000\u0000\n",
      "\u0000\n",
      "\u0000c\u0000a\u0000c\u0000h\u0000e\u0000l\u0000i\u0000b\u0000=\u0000=\u00000\u0000.\u00001\u00000\u0000.\u00002\u0000\n",
      "\u0000\n",
      "\u0000c\u0000e\u0000r\u0000t\u0000i\u0000f\u0000i\u0000=\u0000=\u00002\u00000\u00002\u00003\u0000.\u00001\u00001\u0000.\u00001\u00007\u0000\n",
      "\u0000\n",
      "\u0000c\u0000f\u0000f\u0000i\u0000=\u0000=\u00001\u0000.\u00001\u00006\u0000.\u00000\u0000\n",
      "\u0000\n",
      "\u0000c\u0000h\u0000a\u0000r\u0000s\u0000e\u0000t\u0000-\u0000n\u0000o\u0000r\u0000m\u0000a\u0000l\u0000i\u0000z\u0000e\u0000r\u0000=\u0000=\u00003\u0000.\u00003\u0000.\u00002\u0000\n",
      "\u0000\n",
      "\u0000c\u0000l\u0000i\u0000c\u0000k\u0000=\u0000=\u00008\u0000.\u00001\u0000.\u00007\u0000\n",
      "\u0000\n",
      "\u0000c\u0000o\u0000l\u0000o\u0000r\u0000a\u0000m\u0000a\u0000=\u0000=\u00000\u0000.\u00004\u0000.\u00006\u0000\n",
      "\u0000\n",
      "\u0000c\u0000o\u0000m\u0000m\u0000=\u0000=\u00000\u0000.\u00002\u0000.\u00000\u0000\n",
      "\u0000\n",
      "\u0000c\u0000r\u0000y\u0000p\u0000t\u0000o\u0000g\u0000r\u0000a\u0000p\u0000h\u0000y\u0000=\u0000=\u00004\u00001\u0000.\u00000\u0000.\u00007\u0000\n",
      "\u0000\n",
      "\u0000c\u0000s\u0000s\u0000s\u0000e\u0000l\u0000e\u0000c\u0000t\u0000=\u0000=\u00001\u0000.\u00002\u0000.\u00000\u0000\n",
      "\u0000\n",
      "\u0000d\u0000e\u0000b\u0000u\u0000g\u0000p\u0000y\u0000=\u0000=\u00001\u0000.\u00008\u0000.\u00000\u0000\n",
      "\u0000\n",
      "\u0000d\u0000e\u0000c\u0000o\u0000r\u0000a\u0000t\u0000o\u0000r\u0000=\u0000=\u00005\u0000.\u00001\u0000.\u00001\u0000\n",
      "\u0000\n",
      "\u0000D\u0000e\u0000p\u0000r\u0000e\u0000c\u0000a\u0000t\u0000e\u0000d\u0000=\u0000=\u00001\u0000.\u00002\u0000.\u00001\u00004\u0000\n",
      "\u0000\n",
      "\u0000e\u0000x\u0000c\u0000e\u0000p\u0000t\u0000i\u0000o\u0000n\u0000g\u0000r\u0000o\u0000u\u0000p\u0000=\u0000=\u00001\u0000.\u00002\u0000.\u00000\u0000\n",
      "\u0000\n",
      "\u0000e\u0000x\u0000e\u0000c\u0000u\u0000t\u0000i\u0000n\u0000g\u0000=\u0000=\u00002\u0000.\u00000\u0000.\u00001\u0000\n",
      "\u0000\n",
      "\u0000F\u0000l\u0000a\u0000s\u0000k\u0000=\u0000=\u00003\u0000.\u00000\u0000.\u00000\u0000\n",
      "\u0000\n",
      "\u0000h\u0000o\u0000w\u0000d\u0000o\u0000i\u0000=\u0000=\u00002\u0000.\u00000\u0000.\u00002\u00000\u0000\n",
      "\u0000\n",
      "\u0000i\u0000d\u0000n\u0000a\u0000=\u0000=\u00003\u0000.\u00006\u0000\n",
      "\u0000\n",
      "\u0000i\u0000p\u0000y\u0000k\u0000e\u0000r\u0000n\u0000e\u0000l\u0000=\u0000=\u00006\u0000.\u00002\u00007\u0000.\u00001\u0000\n",
      "\u0000\n",
      "\u0000i\u0000p\u0000y\u0000t\u0000h\u0000o\u0000n\u0000=\u0000=\u00008\u0000.\u00001\u00009\u0000.\u00000\u0000\n",
      "\u0000\n",
      "\u0000i\u0000t\u0000s\u0000d\u0000a\u0000n\u0000g\u0000e\u0000r\u0000o\u0000u\u0000s\u0000=\u0000=\u00002\u0000.\u00001\u0000.\u00002\u0000\n",
      "\u0000\n",
      "\u0000j\u0000e\u0000d\u0000i\u0000=\u0000=\u00000\u0000.\u00001\u00009\u0000.\u00001\u0000\n",
      "\u0000\n",
      "\u0000J\u0000i\u0000n\u0000j\u0000a\u00002\u0000=\u0000=\u00003\u0000.\u00001\u0000.\u00002\u0000\n",
      "\u0000\n",
      "\u0000j\u0000o\u0000b\u0000l\u0000i\u0000b\u0000=\u0000=\u00001\u0000.\u00003\u0000.\u00002\u0000\n",
      "\u0000\n",
      "\u0000j\u0000u\u0000p\u0000y\u0000t\u0000e\u0000r\u0000_\u0000c\u0000l\u0000i\u0000e\u0000n\u0000t\u0000=\u0000=\u00008\u0000.\u00006\u0000.\u00000\u0000\n",
      "\u0000\n",
      "\u0000j\u0000u\u0000p\u0000y\u0000t\u0000e\u0000r\u0000_\u0000c\u0000o\u0000r\u0000e\u0000=\u0000=\u00005\u0000.\u00005\u0000.\u00001\u0000\n",
      "\u0000\n",
      "\u0000k\u0000e\u0000e\u0000p\u0000=\u0000=\u00002\u0000.\u00001\u00000\u0000.\u00001\u0000\n",
      "\u0000\n",
      "\u0000l\u0000x\u0000m\u0000l\u0000=\u0000=\u00005\u0000.\u00000\u0000.\u00000\u0000\n",
      "\u0000\n",
      "\u0000m\u0000a\u0000r\u0000k\u0000d\u0000o\u0000w\u0000n\u0000-\u0000i\u0000t\u0000-\u0000p\u0000y\u0000=\u0000=\u00003\u0000.\u00000\u0000.\u00000\u0000\n",
      "\u0000\n",
      "\u0000M\u0000a\u0000r\u0000k\u0000u\u0000p\u0000S\u0000a\u0000f\u0000e\u0000=\u0000=\u00002\u0000.\u00001\u0000.\u00003\u0000\n",
      "\u0000\n",
      "\u0000m\u0000a\u0000t\u0000p\u0000l\u0000o\u0000t\u0000l\u0000i\u0000b\u0000-\u0000i\u0000n\u0000l\u0000i\u0000n\u0000e\u0000=\u0000=\u00000\u0000.\u00001\u0000.\u00006\u0000\n",
      "\u0000\n",
      "\u0000m\u0000d\u0000u\u0000r\u0000l\u0000=\u0000=\u00000\u0000.\u00001\u0000.\u00002\u0000\n",
      "\u0000\n",
      "\u0000n\u0000e\u0000s\u0000t\u0000-\u0000a\u0000s\u0000y\u0000n\u0000c\u0000i\u0000o\u0000=\u0000=\u00001\u0000.\u00005\u0000.\u00008\u0000\n",
      "\u0000\n",
      "\u0000n\u0000u\u0000m\u0000p\u0000y\u0000=\u0000=\u00001\u0000.\u00002\u00006\u0000.\u00002\u0000\n",
      "\u0000\n",
      "\u0000p\u0000a\u0000c\u0000k\u0000a\u0000g\u0000i\u0000n\u0000g\u0000=\u0000=\u00002\u00003\u0000.\u00002\u0000\n",
      "\u0000\n",
      "\u0000p\u0000a\u0000n\u0000d\u0000a\u0000s\u0000=\u0000=\u00002\u0000.\u00001\u0000.\u00004\u0000\n",
      "\u0000\n",
      "\u0000p\u0000a\u0000r\u0000s\u0000o\u0000=\u0000=\u00000\u0000.\u00008\u0000.\u00003\u0000\n",
      "\u0000\n",
      "\u0000p\u0000l\u0000a\u0000t\u0000f\u0000o\u0000r\u0000m\u0000d\u0000i\u0000r\u0000s\u0000=\u0000=\u00004\u0000.\u00001\u0000.\u00000\u0000\n",
      "\u0000\n",
      "\u0000p\u0000r\u0000o\u0000m\u0000p\u0000t\u0000-\u0000t\u0000o\u0000o\u0000l\u0000k\u0000i\u0000t\u0000=\u0000=\u00003\u0000.\u00000\u0000.\u00004\u00003\u0000\n",
      "\u0000\n",
      "\u0000p\u0000s\u0000u\u0000t\u0000i\u0000l\u0000=\u0000=\u00005\u0000.\u00009\u0000.\u00007\u0000\n",
      "\u0000\n",
      "\u0000p\u0000u\u0000r\u0000e\u0000-\u0000e\u0000v\u0000a\u0000l\u0000=\u0000=\u00000\u0000.\u00002\u0000.\u00002\u0000\n",
      "\u0000\n",
      "\u0000p\u0000y\u0000c\u0000p\u0000a\u0000r\u0000s\u0000e\u0000r\u0000=\u0000=\u00002\u0000.\u00002\u00001\u0000\n",
      "\u0000\n",
      "\u0000P\u0000y\u0000G\u0000i\u0000t\u0000h\u0000u\u0000b\u0000=\u0000=\u00002\u0000.\u00001\u0000.\u00001\u0000\n",
      "\u0000\n",
      "\u0000P\u0000y\u0000g\u0000m\u0000e\u0000n\u0000t\u0000s\u0000=\u0000=\u00002\u0000.\u00001\u00007\u0000.\u00002\u0000\n",
      "\u0000\n",
      "\u0000P\u0000y\u0000J\u0000W\u0000T\u0000=\u0000=\u00002\u0000.\u00008\u0000.\u00000\u0000\n",
      "\u0000\n",
      "\u0000P\u0000y\u0000N\u0000a\u0000C\u0000l\u0000=\u0000=\u00001\u0000.\u00005\u0000.\u00000\u0000\n",
      "\u0000\n",
      "\u0000p\u0000y\u0000q\u0000u\u0000e\u0000r\u0000y\u0000=\u0000=\u00002\u0000.\u00000\u0000.\u00000\u0000\n",
      "\u0000\n",
      "\u0000p\u0000y\u0000t\u0000h\u0000o\u0000n\u0000-\u0000d\u0000a\u0000t\u0000e\u0000u\u0000t\u0000i\u0000l\u0000=\u0000=\u00002\u0000.\u00008\u0000.\u00002\u0000\n",
      "\u0000\n",
      "\u0000p\u0000y\u0000t\u0000z\u0000=\u0000=\u00002\u00000\u00002\u00003\u0000.\u00003\u0000.\u0000p\u0000o\u0000s\u0000t\u00001\u0000\n",
      "\u0000\n",
      "\u0000p\u0000y\u0000w\u0000i\u0000n\u00003\u00002\u0000=\u0000=\u00003\u00000\u00006\u0000\n",
      "\u0000\n",
      "\u0000p\u0000y\u0000z\u0000m\u0000q\u0000=\u0000=\u00002\u00005\u0000.\u00001\u0000.\u00002\u0000\n",
      "\u0000\n",
      "\u0000r\u0000e\u0000q\u0000u\u0000e\u0000s\u0000t\u0000s\u0000=\u0000=\u00002\u0000.\u00003\u00001\u0000.\u00000\u0000\n",
      "\u0000\n",
      "\u0000r\u0000i\u0000c\u0000h\u0000=\u0000=\u00001\u00003\u0000.\u00007\u0000.\u00000\u0000\n",
      "\u0000\n",
      "\u0000s\u0000c\u0000i\u0000k\u0000i\u0000t\u0000-\u0000l\u0000e\u0000a\u0000r\u0000n\u0000=\u0000=\u00001\u0000.\u00003\u0000.\u00002\u0000\n",
      "\u0000\n",
      "\u0000s\u0000c\u0000i\u0000p\u0000y\u0000=\u0000=\u00001\u0000.\u00001\u00001\u0000.\u00004\u0000\n",
      "\u0000\n",
      "\u0000s\u0000i\u0000x\u0000=\u0000=\u00001\u0000.\u00001\u00006\u0000.\u00000\u0000\n",
      "\u0000\n",
      "\u0000s\u0000t\u0000a\u0000c\u0000k\u0000-\u0000d\u0000a\u0000t\u0000a\u0000=\u0000=\u00000\u0000.\u00006\u0000.\u00003\u0000\n",
      "\u0000\n",
      "\u0000t\u0000e\u0000r\u0000m\u0000i\u0000n\u0000a\u0000l\u0000t\u0000a\u0000b\u0000l\u0000e\u0000s\u0000=\u0000=\u00003\u0000.\u00001\u0000.\u00001\u00000\u0000\n",
      "\u0000\n",
      "\u0000t\u0000h\u0000r\u0000e\u0000a\u0000d\u0000p\u0000o\u0000o\u0000l\u0000c\u0000t\u0000l\u0000=\u0000=\u00003\u0000.\u00002\u0000.\u00000\u0000\n",
      "\u0000\n",
      "\u0000t\u0000o\u0000r\u0000n\u0000a\u0000d\u0000o\u0000=\u0000=\u00006\u0000.\u00004\u0000\n",
      "\u0000\n",
      "\u0000t\u0000r\u0000a\u0000i\u0000t\u0000l\u0000e\u0000t\u0000s\u0000=\u0000=\u00005\u0000.\u00001\u00004\u0000.\u00000\u0000\n",
      "\u0000\n",
      "\u0000t\u0000y\u0000p\u0000i\u0000n\u0000g\u0000_\u0000e\u0000x\u0000t\u0000e\u0000n\u0000s\u0000i\u0000o\u0000n\u0000s\u0000=\u0000=\u00004\u0000.\u00009\u0000.\u00000\u0000\n",
      "\u0000\n",
      "\u0000t\u0000z\u0000d\u0000a\u0000t\u0000a\u0000=\u0000=\u00002\u00000\u00002\u00003\u0000.\u00003\u0000\n",
      "\u0000\n",
      "\u0000u\u0000r\u0000l\u0000l\u0000i\u0000b\u00003\u0000=\u0000=\u00002\u0000.\u00001\u0000.\u00000\u0000\n",
      "\u0000\n",
      "\u0000w\u0000c\u0000w\u0000i\u0000d\u0000t\u0000h\u0000=\u0000=\u00000\u0000.\u00002\u0000.\u00001\u00002\u0000\n",
      "\u0000\n",
      "\u0000W\u0000e\u0000r\u0000k\u0000z\u0000e\u0000u\u0000g\u0000=\u0000=\u00003\u0000.\u00000\u0000.\u00001\u0000\n",
      "\u0000\n",
      "\u0000w\u0000r\u0000a\u0000p\u0000t\u0000=\u0000=\u00001\u0000.\u00001\u00006\u0000.\u00000\u0000\n",
      "\u0000\n",
      "\u0000\n"
     ]
    }
   ],
   "source": [
    "with open('requirements.txt') as f:\n",
    "    s = f.read()\n",
    "print(s)"
   ]
  },
  {
   "cell_type": "markdown",
   "metadata": {},
   "source": [
    "### Avoid too many loops"
   ]
  },
  {
   "cell_type": "code",
   "execution_count": 1,
   "metadata": {},
   "outputs": [
    {
     "name": "stdout",
     "output_type": "stream",
     "text": [
      "70 2000 7\n"
     ]
    }
   ],
   "source": [
    "# Avoid this\n",
    "list_a = [1, 2020, 70]\n",
    "list_b = [2, 4, 7, 2000]\n",
    "list_c = [3, 70, 7]\n",
    "\n",
    "for a in list_a:\n",
    "    for b in list_b:\n",
    "        for c in list_c:\n",
    "            if a + b + c == 2077:\n",
    "                print(a, b, c)"
   ]
  },
  {
   "cell_type": "code",
   "execution_count": 2,
   "metadata": {},
   "outputs": [
    {
     "name": "stdout",
     "output_type": "stream",
     "text": [
      "70 2000 7\n"
     ]
    }
   ],
   "source": [
    "# Do this\n",
    "from itertools import product\n",
    "\n",
    "list_a = [1, 2020, 70]\n",
    "list_b = [2, 4, 7, 2000]\n",
    "list_c = [3, 70, 7]\n",
    "\n",
    "for a, b, c in product(list_a, list_b, list_c):\n",
    "    if a + b + c == 2077:\n",
    "        print(a, b, c)"
   ]
  },
  {
   "cell_type": "markdown",
   "metadata": {},
   "source": [
    "### Walrus Operator"
   ]
  },
  {
   "cell_type": "code",
   "execution_count": 4,
   "metadata": {},
   "outputs": [
    {
     "name": "stdout",
     "output_type": "stream",
     "text": [
      "Jose\n"
     ]
    }
   ],
   "source": [
    "author = \"Jose\"\n",
    "print(author)"
   ]
  },
  {
   "cell_type": "code",
   "execution_count": 5,
   "metadata": {},
   "outputs": [
    {
     "ename": "TypeError",
     "evalue": "'author' is an invalid keyword argument for print()",
     "output_type": "error",
     "traceback": [
      "\u001b[1;31m---------------------------------------------------------------------------\u001b[0m",
      "\u001b[1;31mTypeError\u001b[0m                                 Traceback (most recent call last)",
      "Cell \u001b[1;32mIn[5], line 1\u001b[0m\n\u001b[1;32m----> 1\u001b[0m \u001b[38;5;28;43mprint\u001b[39;49m\u001b[43m(\u001b[49m\u001b[43mauthor\u001b[49m\u001b[38;5;241;43m=\u001b[39;49m\u001b[38;5;124;43m\"\u001b[39;49m\u001b[38;5;124;43mJose\u001b[39;49m\u001b[38;5;124;43m\"\u001b[39;49m\u001b[43m)\u001b[49m\n\u001b[0;32m      2\u001b[0m \u001b[38;5;66;03m# TypeError: 'author' is an invalid keyword argument for print()\u001b[39;00m\n",
      "\u001b[1;31mTypeError\u001b[0m: 'author' is an invalid keyword argument for print()"
     ]
    }
   ],
   "source": [
    "# throws error\n",
    "print(author=\"Jose\")"
   ]
  },
  {
   "cell_type": "code",
   "execution_count": 6,
   "metadata": {},
   "outputs": [
    {
     "name": "stdout",
     "output_type": "stream",
     "text": [
      "Jose\n"
     ]
    }
   ],
   "source": [
    "# solution\n",
    "print(author:=\"Jose\")"
   ]
  },
  {
   "cell_type": "markdown",
   "metadata": {},
   "source": [
    "### Writing a Simple If-Else Structure in One Line"
   ]
  },
  {
   "cell_type": "code",
   "execution_count": 10,
   "metadata": {},
   "outputs": [],
   "source": [
    "# Not that great\n",
    "if a<b:\n",
    "  min = a\n",
    "else:\n",
    "  min = b"
   ]
  },
  {
   "cell_type": "code",
   "execution_count": 11,
   "metadata": {},
   "outputs": [],
   "source": [
    "# Better\n",
    "min = a if a < b else b"
   ]
  },
  {
   "cell_type": "markdown",
   "metadata": {},
   "source": [
    "### Lambda Functions To Define Simple Functions"
   ]
  },
  {
   "cell_type": "code",
   "execution_count": 9,
   "metadata": {},
   "outputs": [
    {
     "data": {
      "text/plain": [
       "55"
      ]
     },
     "execution_count": 9,
     "metadata": {},
     "output_type": "execute_result"
    }
   ],
   "source": [
    "# Fibonacci sum\n",
    "def fib(x):\n",
    "    if x<=1:\n",
    "        return x\n",
    "    else:\n",
    "        return fib(x-1) + fib(x-2)\n",
    "fib(10)"
   ]
  },
  {
   "cell_type": "code",
   "execution_count": 12,
   "metadata": {},
   "outputs": [
    {
     "data": {
      "text/plain": [
       "55"
      ]
     },
     "execution_count": 12,
     "metadata": {},
     "output_type": "execute_result"
    }
   ],
   "source": [
    "# Better\n",
    "fib = lambda x: x if x <= 1 else fib(x - 1) + fib(x - 2)\n",
    "fib(10)"
   ]
  },
  {
   "cell_type": "markdown",
   "metadata": {},
   "source": [
    "### List Comprehension"
   ]
  },
  {
   "cell_type": "code",
   "execution_count": 15,
   "metadata": {},
   "outputs": [
    {
     "name": "stdout",
     "output_type": "stream",
     "text": [
      "['Not Genius', 'Not Genius', 'Not Genius', 'Einstein']\n"
     ]
    }
   ],
   "source": [
    "Genius = [\"Jerry\", \"Jack\", \"tom\", \"Einstein\"]\n",
    "L1 = [name if name.startswith('E') else 'Not Genius' for name in Genius]\n",
    "print(L1)"
   ]
  },
  {
   "cell_type": "markdown",
   "metadata": {},
   "source": [
    "### Higher-Order Functions in Python"
   ]
  },
  {
   "cell_type": "code",
   "execution_count": 17,
   "metadata": {},
   "outputs": [
    {
     "name": "stdout",
     "output_type": "stream",
     "text": [
      "['Yang', 'Mask', 'Thomas', 'Lisa']\n"
     ]
    }
   ],
   "source": [
    "names = ['yAnG', 'MASk', 'thoMas', 'LISA']\n",
    "names = map(str.capitalize, names)\n",
    "print(list(names))"
   ]
  },
  {
   "cell_type": "code",
   "execution_count": 18,
   "metadata": {},
   "outputs": [
    {
     "name": "stdout",
     "output_type": "stream",
     "text": [
      "London2020\n"
     ]
    }
   ],
   "source": [
    "from functools import reduce\n",
    "\n",
    "city = ['L', 'o', 'n', 'd', 'o', 'n', 2, 0, 2, 0]\n",
    "city_to_str = reduce(lambda x, y: str(x) + str(y), city)\n",
    "print(city_to_str)"
   ]
  },
  {
   "cell_type": "markdown",
   "metadata": {},
   "source": [
    "### Union Operators"
   ]
  },
  {
   "cell_type": "code",
   "execution_count": 20,
   "metadata": {},
   "outputs": [
    {
     "name": "stdout",
     "output_type": "stream",
     "text": [
      "{'New York City': 'US', 'Los Angeles': 'US', 'London': 'UK', 'Birmingham': 'UK'}\n"
     ]
    }
   ],
   "source": [
    "cities_us = {'New York City': 'US', 'Los Angeles': 'US'}\n",
    "cities_uk = {'London': 'UK', 'Birmingham': 'UK'}\n",
    "\n",
    "cities = cities_us|cities_uk\n",
    "print(cities)"
   ]
  },
  {
   "cell_type": "markdown",
   "metadata": {},
   "source": [
    " ### F-strings"
   ]
  },
  {
   "cell_type": "code",
   "execution_count": 22,
   "metadata": {},
   "outputs": [
    {
     "name": "stdout",
     "output_type": "stream",
     "text": [
      "Pi is approximately equal to 3.14\n"
     ]
    }
   ],
   "source": [
    "pi = 3.1415926\n",
    "print(f'Pi is approximately equal to {pi:.2f}')"
   ]
  },
  {
   "cell_type": "code",
   "execution_count": 23,
   "metadata": {},
   "outputs": [
    {
     "name": "stdout",
     "output_type": "stream",
     "text": [
      "Today is 2023-12-31 06:18:16.097396\n"
     ]
    }
   ],
   "source": [
    "from datetime import datetime\n",
    "\n",
    "print(f\"Today is {datetime.today()}\")"
   ]
  },
  {
   "cell_type": "markdown",
   "metadata": {},
   "source": [
    "### Unpacking Iterables and Destructuring Assignments"
   ]
  },
  {
   "cell_type": "code",
   "execution_count": 25,
   "metadata": {},
   "outputs": [
    {
     "name": "stdout",
     "output_type": "stream",
     "text": [
      "[1, 2, 3, 4, 5, 6, 8, 9, 7]\n"
     ]
    }
   ],
   "source": [
    "A = [1, 2, 3]\n",
    "B = (4, 5, 6)\n",
    "C = {7, 8, 9}\n",
    "L = [*A, *B, *C]\n",
    "print(L)"
   ]
  },
  {
   "cell_type": "code",
   "execution_count": null,
   "metadata": {},
   "outputs": [],
   "source": []
  }
 ],
 "metadata": {
  "kernelspec": {
   "display_name": "venv-pe",
   "language": "python",
   "name": "python3"
  },
  "language_info": {
   "codemirror_mode": {
    "name": "ipython",
    "version": 3
   },
   "file_extension": ".py",
   "mimetype": "text/x-python",
   "name": "python",
   "nbconvert_exporter": "python",
   "pygments_lexer": "ipython3",
   "version": "3.10.11"
  }
 },
 "nbformat": 4,
 "nbformat_minor": 2
}
