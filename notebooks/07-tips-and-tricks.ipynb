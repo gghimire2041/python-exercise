{
 "cells": [
  {
   "cell_type": "markdown",
   "metadata": {},
   "source": [
    "### Stack Overflow "
   ]
  },
  {
   "cell_type": "markdown",
   "metadata": {},
   "source": [
    "After installing howdoi using'pip install howdoi', you can use it in the terminal. For example:\n",
    "\n",
    "howdoi write a file in python"
   ]
  },
  {
   "cell_type": "code",
   "execution_count": 11,
   "metadata": {},
   "outputs": [],
   "source": [
    "# PWD shown by terminal might differ from what jupyter notebook thinks\n",
    "import os\n",
    "os.chdir('D:\\Github Projects\\python-exercise')"
   ]
  },
  {
   "cell_type": "code",
   "execution_count": 12,
   "metadata": {},
   "outputs": [
    {
     "name": "stdout",
     "output_type": "stream",
     "text": [
      "D:\\Github Projects\\python-exercise\n"
     ]
    }
   ],
   "source": [
    "# Check the current working directory\n",
    "print(os.getcwd())"
   ]
  },
  {
   "cell_type": "code",
   "execution_count": 10,
   "metadata": {},
   "outputs": [
    {
     "name": "stdout",
     "output_type": "stream",
     "text": [
      "ÿþa\u0000p\u0000p\u0000d\u0000i\u0000r\u0000s\u0000=\u0000=\u00001\u0000.\u00004\u0000.\u00004\u0000\n",
      "\u0000\n",
      "\u0000a\u0000s\u0000t\u0000t\u0000o\u0000k\u0000e\u0000n\u0000s\u0000=\u0000=\u00002\u0000.\u00004\u0000.\u00001\u0000\n",
      "\u0000\n",
      "\u0000b\u0000l\u0000i\u0000n\u0000k\u0000e\u0000r\u0000=\u0000=\u00001\u0000.\u00007\u0000.\u00000\u0000\n",
      "\u0000\n",
      "\u0000c\u0000a\u0000c\u0000h\u0000e\u0000l\u0000i\u0000b\u0000=\u0000=\u00000\u0000.\u00001\u00000\u0000.\u00002\u0000\n",
      "\u0000\n",
      "\u0000c\u0000e\u0000r\u0000t\u0000i\u0000f\u0000i\u0000=\u0000=\u00002\u00000\u00002\u00003\u0000.\u00001\u00001\u0000.\u00001\u00007\u0000\n",
      "\u0000\n",
      "\u0000c\u0000f\u0000f\u0000i\u0000=\u0000=\u00001\u0000.\u00001\u00006\u0000.\u00000\u0000\n",
      "\u0000\n",
      "\u0000c\u0000h\u0000a\u0000r\u0000s\u0000e\u0000t\u0000-\u0000n\u0000o\u0000r\u0000m\u0000a\u0000l\u0000i\u0000z\u0000e\u0000r\u0000=\u0000=\u00003\u0000.\u00003\u0000.\u00002\u0000\n",
      "\u0000\n",
      "\u0000c\u0000l\u0000i\u0000c\u0000k\u0000=\u0000=\u00008\u0000.\u00001\u0000.\u00007\u0000\n",
      "\u0000\n",
      "\u0000c\u0000o\u0000l\u0000o\u0000r\u0000a\u0000m\u0000a\u0000=\u0000=\u00000\u0000.\u00004\u0000.\u00006\u0000\n",
      "\u0000\n",
      "\u0000c\u0000o\u0000m\u0000m\u0000=\u0000=\u00000\u0000.\u00002\u0000.\u00000\u0000\n",
      "\u0000\n",
      "\u0000c\u0000r\u0000y\u0000p\u0000t\u0000o\u0000g\u0000r\u0000a\u0000p\u0000h\u0000y\u0000=\u0000=\u00004\u00001\u0000.\u00000\u0000.\u00007\u0000\n",
      "\u0000\n",
      "\u0000c\u0000s\u0000s\u0000s\u0000e\u0000l\u0000e\u0000c\u0000t\u0000=\u0000=\u00001\u0000.\u00002\u0000.\u00000\u0000\n",
      "\u0000\n",
      "\u0000d\u0000e\u0000b\u0000u\u0000g\u0000p\u0000y\u0000=\u0000=\u00001\u0000.\u00008\u0000.\u00000\u0000\n",
      "\u0000\n",
      "\u0000d\u0000e\u0000c\u0000o\u0000r\u0000a\u0000t\u0000o\u0000r\u0000=\u0000=\u00005\u0000.\u00001\u0000.\u00001\u0000\n",
      "\u0000\n",
      "\u0000D\u0000e\u0000p\u0000r\u0000e\u0000c\u0000a\u0000t\u0000e\u0000d\u0000=\u0000=\u00001\u0000.\u00002\u0000.\u00001\u00004\u0000\n",
      "\u0000\n",
      "\u0000e\u0000x\u0000c\u0000e\u0000p\u0000t\u0000i\u0000o\u0000n\u0000g\u0000r\u0000o\u0000u\u0000p\u0000=\u0000=\u00001\u0000.\u00002\u0000.\u00000\u0000\n",
      "\u0000\n",
      "\u0000e\u0000x\u0000e\u0000c\u0000u\u0000t\u0000i\u0000n\u0000g\u0000=\u0000=\u00002\u0000.\u00000\u0000.\u00001\u0000\n",
      "\u0000\n",
      "\u0000F\u0000l\u0000a\u0000s\u0000k\u0000=\u0000=\u00003\u0000.\u00000\u0000.\u00000\u0000\n",
      "\u0000\n",
      "\u0000h\u0000o\u0000w\u0000d\u0000o\u0000i\u0000=\u0000=\u00002\u0000.\u00000\u0000.\u00002\u00000\u0000\n",
      "\u0000\n",
      "\u0000i\u0000d\u0000n\u0000a\u0000=\u0000=\u00003\u0000.\u00006\u0000\n",
      "\u0000\n",
      "\u0000i\u0000p\u0000y\u0000k\u0000e\u0000r\u0000n\u0000e\u0000l\u0000=\u0000=\u00006\u0000.\u00002\u00007\u0000.\u00001\u0000\n",
      "\u0000\n",
      "\u0000i\u0000p\u0000y\u0000t\u0000h\u0000o\u0000n\u0000=\u0000=\u00008\u0000.\u00001\u00009\u0000.\u00000\u0000\n",
      "\u0000\n",
      "\u0000i\u0000t\u0000s\u0000d\u0000a\u0000n\u0000g\u0000e\u0000r\u0000o\u0000u\u0000s\u0000=\u0000=\u00002\u0000.\u00001\u0000.\u00002\u0000\n",
      "\u0000\n",
      "\u0000j\u0000e\u0000d\u0000i\u0000=\u0000=\u00000\u0000.\u00001\u00009\u0000.\u00001\u0000\n",
      "\u0000\n",
      "\u0000J\u0000i\u0000n\u0000j\u0000a\u00002\u0000=\u0000=\u00003\u0000.\u00001\u0000.\u00002\u0000\n",
      "\u0000\n",
      "\u0000j\u0000o\u0000b\u0000l\u0000i\u0000b\u0000=\u0000=\u00001\u0000.\u00003\u0000.\u00002\u0000\n",
      "\u0000\n",
      "\u0000j\u0000u\u0000p\u0000y\u0000t\u0000e\u0000r\u0000_\u0000c\u0000l\u0000i\u0000e\u0000n\u0000t\u0000=\u0000=\u00008\u0000.\u00006\u0000.\u00000\u0000\n",
      "\u0000\n",
      "\u0000j\u0000u\u0000p\u0000y\u0000t\u0000e\u0000r\u0000_\u0000c\u0000o\u0000r\u0000e\u0000=\u0000=\u00005\u0000.\u00005\u0000.\u00001\u0000\n",
      "\u0000\n",
      "\u0000k\u0000e\u0000e\u0000p\u0000=\u0000=\u00002\u0000.\u00001\u00000\u0000.\u00001\u0000\n",
      "\u0000\n",
      "\u0000l\u0000x\u0000m\u0000l\u0000=\u0000=\u00005\u0000.\u00000\u0000.\u00000\u0000\n",
      "\u0000\n",
      "\u0000m\u0000a\u0000r\u0000k\u0000d\u0000o\u0000w\u0000n\u0000-\u0000i\u0000t\u0000-\u0000p\u0000y\u0000=\u0000=\u00003\u0000.\u00000\u0000.\u00000\u0000\n",
      "\u0000\n",
      "\u0000M\u0000a\u0000r\u0000k\u0000u\u0000p\u0000S\u0000a\u0000f\u0000e\u0000=\u0000=\u00002\u0000.\u00001\u0000.\u00003\u0000\n",
      "\u0000\n",
      "\u0000m\u0000a\u0000t\u0000p\u0000l\u0000o\u0000t\u0000l\u0000i\u0000b\u0000-\u0000i\u0000n\u0000l\u0000i\u0000n\u0000e\u0000=\u0000=\u00000\u0000.\u00001\u0000.\u00006\u0000\n",
      "\u0000\n",
      "\u0000m\u0000d\u0000u\u0000r\u0000l\u0000=\u0000=\u00000\u0000.\u00001\u0000.\u00002\u0000\n",
      "\u0000\n",
      "\u0000n\u0000e\u0000s\u0000t\u0000-\u0000a\u0000s\u0000y\u0000n\u0000c\u0000i\u0000o\u0000=\u0000=\u00001\u0000.\u00005\u0000.\u00008\u0000\n",
      "\u0000\n",
      "\u0000n\u0000u\u0000m\u0000p\u0000y\u0000=\u0000=\u00001\u0000.\u00002\u00006\u0000.\u00002\u0000\n",
      "\u0000\n",
      "\u0000p\u0000a\u0000c\u0000k\u0000a\u0000g\u0000i\u0000n\u0000g\u0000=\u0000=\u00002\u00003\u0000.\u00002\u0000\n",
      "\u0000\n",
      "\u0000p\u0000a\u0000n\u0000d\u0000a\u0000s\u0000=\u0000=\u00002\u0000.\u00001\u0000.\u00004\u0000\n",
      "\u0000\n",
      "\u0000p\u0000a\u0000r\u0000s\u0000o\u0000=\u0000=\u00000\u0000.\u00008\u0000.\u00003\u0000\n",
      "\u0000\n",
      "\u0000p\u0000l\u0000a\u0000t\u0000f\u0000o\u0000r\u0000m\u0000d\u0000i\u0000r\u0000s\u0000=\u0000=\u00004\u0000.\u00001\u0000.\u00000\u0000\n",
      "\u0000\n",
      "\u0000p\u0000r\u0000o\u0000m\u0000p\u0000t\u0000-\u0000t\u0000o\u0000o\u0000l\u0000k\u0000i\u0000t\u0000=\u0000=\u00003\u0000.\u00000\u0000.\u00004\u00003\u0000\n",
      "\u0000\n",
      "\u0000p\u0000s\u0000u\u0000t\u0000i\u0000l\u0000=\u0000=\u00005\u0000.\u00009\u0000.\u00007\u0000\n",
      "\u0000\n",
      "\u0000p\u0000u\u0000r\u0000e\u0000-\u0000e\u0000v\u0000a\u0000l\u0000=\u0000=\u00000\u0000.\u00002\u0000.\u00002\u0000\n",
      "\u0000\n",
      "\u0000p\u0000y\u0000c\u0000p\u0000a\u0000r\u0000s\u0000e\u0000r\u0000=\u0000=\u00002\u0000.\u00002\u00001\u0000\n",
      "\u0000\n",
      "\u0000P\u0000y\u0000G\u0000i\u0000t\u0000h\u0000u\u0000b\u0000=\u0000=\u00002\u0000.\u00001\u0000.\u00001\u0000\n",
      "\u0000\n",
      "\u0000P\u0000y\u0000g\u0000m\u0000e\u0000n\u0000t\u0000s\u0000=\u0000=\u00002\u0000.\u00001\u00007\u0000.\u00002\u0000\n",
      "\u0000\n",
      "\u0000P\u0000y\u0000J\u0000W\u0000T\u0000=\u0000=\u00002\u0000.\u00008\u0000.\u00000\u0000\n",
      "\u0000\n",
      "\u0000P\u0000y\u0000N\u0000a\u0000C\u0000l\u0000=\u0000=\u00001\u0000.\u00005\u0000.\u00000\u0000\n",
      "\u0000\n",
      "\u0000p\u0000y\u0000q\u0000u\u0000e\u0000r\u0000y\u0000=\u0000=\u00002\u0000.\u00000\u0000.\u00000\u0000\n",
      "\u0000\n",
      "\u0000p\u0000y\u0000t\u0000h\u0000o\u0000n\u0000-\u0000d\u0000a\u0000t\u0000e\u0000u\u0000t\u0000i\u0000l\u0000=\u0000=\u00002\u0000.\u00008\u0000.\u00002\u0000\n",
      "\u0000\n",
      "\u0000p\u0000y\u0000t\u0000z\u0000=\u0000=\u00002\u00000\u00002\u00003\u0000.\u00003\u0000.\u0000p\u0000o\u0000s\u0000t\u00001\u0000\n",
      "\u0000\n",
      "\u0000p\u0000y\u0000w\u0000i\u0000n\u00003\u00002\u0000=\u0000=\u00003\u00000\u00006\u0000\n",
      "\u0000\n",
      "\u0000p\u0000y\u0000z\u0000m\u0000q\u0000=\u0000=\u00002\u00005\u0000.\u00001\u0000.\u00002\u0000\n",
      "\u0000\n",
      "\u0000r\u0000e\u0000q\u0000u\u0000e\u0000s\u0000t\u0000s\u0000=\u0000=\u00002\u0000.\u00003\u00001\u0000.\u00000\u0000\n",
      "\u0000\n",
      "\u0000r\u0000i\u0000c\u0000h\u0000=\u0000=\u00001\u00003\u0000.\u00007\u0000.\u00000\u0000\n",
      "\u0000\n",
      "\u0000s\u0000c\u0000i\u0000k\u0000i\u0000t\u0000-\u0000l\u0000e\u0000a\u0000r\u0000n\u0000=\u0000=\u00001\u0000.\u00003\u0000.\u00002\u0000\n",
      "\u0000\n",
      "\u0000s\u0000c\u0000i\u0000p\u0000y\u0000=\u0000=\u00001\u0000.\u00001\u00001\u0000.\u00004\u0000\n",
      "\u0000\n",
      "\u0000s\u0000i\u0000x\u0000=\u0000=\u00001\u0000.\u00001\u00006\u0000.\u00000\u0000\n",
      "\u0000\n",
      "\u0000s\u0000t\u0000a\u0000c\u0000k\u0000-\u0000d\u0000a\u0000t\u0000a\u0000=\u0000=\u00000\u0000.\u00006\u0000.\u00003\u0000\n",
      "\u0000\n",
      "\u0000t\u0000e\u0000r\u0000m\u0000i\u0000n\u0000a\u0000l\u0000t\u0000a\u0000b\u0000l\u0000e\u0000s\u0000=\u0000=\u00003\u0000.\u00001\u0000.\u00001\u00000\u0000\n",
      "\u0000\n",
      "\u0000t\u0000h\u0000r\u0000e\u0000a\u0000d\u0000p\u0000o\u0000o\u0000l\u0000c\u0000t\u0000l\u0000=\u0000=\u00003\u0000.\u00002\u0000.\u00000\u0000\n",
      "\u0000\n",
      "\u0000t\u0000o\u0000r\u0000n\u0000a\u0000d\u0000o\u0000=\u0000=\u00006\u0000.\u00004\u0000\n",
      "\u0000\n",
      "\u0000t\u0000r\u0000a\u0000i\u0000t\u0000l\u0000e\u0000t\u0000s\u0000=\u0000=\u00005\u0000.\u00001\u00004\u0000.\u00000\u0000\n",
      "\u0000\n",
      "\u0000t\u0000y\u0000p\u0000i\u0000n\u0000g\u0000_\u0000e\u0000x\u0000t\u0000e\u0000n\u0000s\u0000i\u0000o\u0000n\u0000s\u0000=\u0000=\u00004\u0000.\u00009\u0000.\u00000\u0000\n",
      "\u0000\n",
      "\u0000t\u0000z\u0000d\u0000a\u0000t\u0000a\u0000=\u0000=\u00002\u00000\u00002\u00003\u0000.\u00003\u0000\n",
      "\u0000\n",
      "\u0000u\u0000r\u0000l\u0000l\u0000i\u0000b\u00003\u0000=\u0000=\u00002\u0000.\u00001\u0000.\u00000\u0000\n",
      "\u0000\n",
      "\u0000w\u0000c\u0000w\u0000i\u0000d\u0000t\u0000h\u0000=\u0000=\u00000\u0000.\u00002\u0000.\u00001\u00002\u0000\n",
      "\u0000\n",
      "\u0000W\u0000e\u0000r\u0000k\u0000z\u0000e\u0000u\u0000g\u0000=\u0000=\u00003\u0000.\u00000\u0000.\u00001\u0000\n",
      "\u0000\n",
      "\u0000w\u0000r\u0000a\u0000p\u0000t\u0000=\u0000=\u00001\u0000.\u00001\u00006\u0000.\u00000\u0000\n",
      "\u0000\n",
      "\u0000\n"
     ]
    }
   ],
   "source": [
    "with open('requirements.txt') as f:\n",
    "    s = f.read()\n",
    "print(s)"
   ]
  },
  {
   "cell_type": "markdown",
   "metadata": {},
   "source": [
    "### Avoid too many loops"
   ]
  },
  {
   "cell_type": "code",
   "execution_count": 1,
   "metadata": {},
   "outputs": [
    {
     "name": "stdout",
     "output_type": "stream",
     "text": [
      "70 2000 7\n"
     ]
    }
   ],
   "source": [
    "# Avoid this\n",
    "list_a = [1, 2020, 70]\n",
    "list_b = [2, 4, 7, 2000]\n",
    "list_c = [3, 70, 7]\n",
    "\n",
    "for a in list_a:\n",
    "    for b in list_b:\n",
    "        for c in list_c:\n",
    "            if a + b + c == 2077:\n",
    "                print(a, b, c)"
   ]
  },
  {
   "cell_type": "code",
   "execution_count": 2,
   "metadata": {},
   "outputs": [
    {
     "name": "stdout",
     "output_type": "stream",
     "text": [
      "70 2000 7\n"
     ]
    }
   ],
   "source": [
    "# Do this\n",
    "from itertools import product\n",
    "\n",
    "list_a = [1, 2020, 70]\n",
    "list_b = [2, 4, 7, 2000]\n",
    "list_c = [3, 70, 7]\n",
    "\n",
    "for a, b, c in product(list_a, list_b, list_c):\n",
    "    if a + b + c == 2077:\n",
    "        print(a, b, c)"
   ]
  },
  {
   "cell_type": "markdown",
   "metadata": {},
   "source": [
    "### Walrus Operator"
   ]
  },
  {
   "cell_type": "code",
   "execution_count": 4,
   "metadata": {},
   "outputs": [
    {
     "name": "stdout",
     "output_type": "stream",
     "text": [
      "Jose\n"
     ]
    }
   ],
   "source": [
    "author = \"Jose\"\n",
    "print(author)"
   ]
  },
  {
   "cell_type": "code",
   "execution_count": 5,
   "metadata": {},
   "outputs": [
    {
     "ename": "TypeError",
     "evalue": "'author' is an invalid keyword argument for print()",
     "output_type": "error",
     "traceback": [
      "\u001b[1;31m---------------------------------------------------------------------------\u001b[0m",
      "\u001b[1;31mTypeError\u001b[0m                                 Traceback (most recent call last)",
      "Cell \u001b[1;32mIn[5], line 1\u001b[0m\n\u001b[1;32m----> 1\u001b[0m \u001b[38;5;28;43mprint\u001b[39;49m\u001b[43m(\u001b[49m\u001b[43mauthor\u001b[49m\u001b[38;5;241;43m=\u001b[39;49m\u001b[38;5;124;43m\"\u001b[39;49m\u001b[38;5;124;43mJose\u001b[39;49m\u001b[38;5;124;43m\"\u001b[39;49m\u001b[43m)\u001b[49m\n\u001b[0;32m      2\u001b[0m \u001b[38;5;66;03m# TypeError: 'author' is an invalid keyword argument for print()\u001b[39;00m\n",
      "\u001b[1;31mTypeError\u001b[0m: 'author' is an invalid keyword argument for print()"
     ]
    }
   ],
   "source": [
    "# throws error\n",
    "print(author=\"Jose\")"
   ]
  },
  {
   "cell_type": "code",
   "execution_count": 6,
   "metadata": {},
   "outputs": [
    {
     "name": "stdout",
     "output_type": "stream",
     "text": [
      "Jose\n"
     ]
    }
   ],
   "source": [
    "# solution\n",
    "print(author:=\"Jose\")"
   ]
  },
  {
   "cell_type": "markdown",
   "metadata": {},
   "source": [
    "### Writing a Simple If-Else Structure in One Line"
   ]
  },
  {
   "cell_type": "code",
   "execution_count": 10,
   "metadata": {},
   "outputs": [],
   "source": [
    "# Not that great\n",
    "if a<b:\n",
    "  min = a\n",
    "else:\n",
    "  min = b"
   ]
  },
  {
   "cell_type": "code",
   "execution_count": 11,
   "metadata": {},
   "outputs": [],
   "source": [
    "# Better\n",
    "min = a if a < b else b"
   ]
  },
  {
   "cell_type": "markdown",
   "metadata": {},
   "source": [
    "### Lambda Functions To Define Simple Functions"
   ]
  },
  {
   "cell_type": "code",
   "execution_count": 9,
   "metadata": {},
   "outputs": [
    {
     "data": {
      "text/plain": [
       "55"
      ]
     },
     "execution_count": 9,
     "metadata": {},
     "output_type": "execute_result"
    }
   ],
   "source": [
    "# Fibonacci sum\n",
    "def fib(x):\n",
    "    if x<=1:\n",
    "        return x\n",
    "    else:\n",
    "        return fib(x-1) + fib(x-2)\n",
    "fib(10)"
   ]
  },
  {
   "cell_type": "code",
   "execution_count": 12,
   "metadata": {},
   "outputs": [
    {
     "data": {
      "text/plain": [
       "55"
      ]
     },
     "execution_count": 12,
     "metadata": {},
     "output_type": "execute_result"
    }
   ],
   "source": [
    "# Better\n",
    "fib = lambda x: x if x <= 1 else fib(x - 1) + fib(x - 2)\n",
    "fib(10)"
   ]
  },
  {
   "cell_type": "markdown",
   "metadata": {},
   "source": [
    "### List Comprehension"
   ]
  },
  {
   "cell_type": "code",
   "execution_count": 15,
   "metadata": {},
   "outputs": [
    {
     "name": "stdout",
     "output_type": "stream",
     "text": [
      "['Not Genius', 'Not Genius', 'Not Genius', 'Einstein']\n"
     ]
    }
   ],
   "source": [
    "Genius = [\"Jerry\", \"Jack\", \"tom\", \"Einstein\"]\n",
    "L1 = [name if name.startswith('E') else 'Not Genius' for name in Genius]\n",
    "print(L1)"
   ]
  },
  {
   "cell_type": "markdown",
   "metadata": {},
   "source": [
    "### Higher-Order Functions in Python"
   ]
  },
  {
   "cell_type": "code",
   "execution_count": 17,
   "metadata": {},
   "outputs": [
    {
     "name": "stdout",
     "output_type": "stream",
     "text": [
      "['Yang', 'Mask', 'Thomas', 'Lisa']\n"
     ]
    }
   ],
   "source": [
    "names = ['yAnG', 'MASk', 'thoMas', 'LISA']\n",
    "names = map(str.capitalize, names)\n",
    "print(list(names))"
   ]
  },
  {
   "cell_type": "code",
   "execution_count": 18,
   "metadata": {},
   "outputs": [
    {
     "name": "stdout",
     "output_type": "stream",
     "text": [
      "London2020\n"
     ]
    }
   ],
   "source": [
    "from functools import reduce\n",
    "\n",
    "city = ['L', 'o', 'n', 'd', 'o', 'n', 2, 0, 2, 0]\n",
    "city_to_str = reduce(lambda x, y: str(x) + str(y), city)\n",
    "print(city_to_str)"
   ]
  },
  {
   "cell_type": "markdown",
   "metadata": {},
   "source": [
    "### Union Operators"
   ]
  },
  {
   "cell_type": "code",
   "execution_count": 20,
   "metadata": {},
   "outputs": [
    {
     "name": "stdout",
     "output_type": "stream",
     "text": [
      "{'New York City': 'US', 'Los Angeles': 'US', 'London': 'UK', 'Birmingham': 'UK'}\n"
     ]
    }
   ],
   "source": [
    "cities_us = {'New York City': 'US', 'Los Angeles': 'US'}\n",
    "cities_uk = {'London': 'UK', 'Birmingham': 'UK'}\n",
    "\n",
    "cities = cities_us|cities_uk\n",
    "print(cities)"
   ]
  },
  {
   "cell_type": "markdown",
   "metadata": {},
   "source": [
    " ### F-strings"
   ]
  },
  {
   "cell_type": "code",
   "execution_count": 22,
   "metadata": {},
   "outputs": [
    {
     "name": "stdout",
     "output_type": "stream",
     "text": [
      "Pi is approximately equal to 3.14\n"
     ]
    }
   ],
   "source": [
    "pi = 3.1415926\n",
    "print(f'Pi is approximately equal to {pi:.2f}')"
   ]
  },
  {
   "cell_type": "code",
   "execution_count": 23,
   "metadata": {},
   "outputs": [
    {
     "name": "stdout",
     "output_type": "stream",
     "text": [
      "Today is 2023-12-31 06:18:16.097396\n"
     ]
    }
   ],
   "source": [
    "from datetime import datetime\n",
    "\n",
    "print(f\"Today is {datetime.today()}\")"
   ]
  },
  {
   "cell_type": "markdown",
   "metadata": {},
   "source": [
    "### Unpacking Iterables and Destructuring Assignments"
   ]
  },
  {
   "cell_type": "code",
   "execution_count": 25,
   "metadata": {},
   "outputs": [
    {
     "name": "stdout",
     "output_type": "stream",
     "text": [
      "[1, 2, 3, 4, 5, 6, 8, 9, 7]\n"
     ]
    }
   ],
   "source": [
    "A = [1, 2, 3]\n",
    "B = (4, 5, 6)\n",
    "C = {7, 8, 9}\n",
    "L = [*A, *B, *C]\n",
    "print(L)"
   ]
  },
  {
   "cell_type": "markdown",
   "metadata": {},
   "source": [
    "### Goodbye to loops"
   ]
  },
  {
   "cell_type": "markdown",
   "metadata": {},
   "source": [
    "#### For loops"
   ]
  },
  {
   "cell_type": "code",
   "execution_count": 2,
   "metadata": {},
   "outputs": [
    {
     "name": "stdout",
     "output_type": "stream",
     "text": [
      "Total is 4999999950000000!\n",
      "Total time taken for the loop is 7.475844860076904!\n"
     ]
    }
   ],
   "source": [
    "# With for loop\n",
    "\n",
    "import time\n",
    "\n",
    "start = time.time()\n",
    "sum = 0\n",
    "for item in range(1,100000000):\n",
    "    sum = sum + item \n",
    "print(f\"Total is {str(sum)}!\")\n",
    "end = time.time()\n",
    "print(f\"Total time taken for the loop is {end - start}!\")"
   ]
  },
  {
   "cell_type": "code",
   "execution_count": 3,
   "metadata": {},
   "outputs": [
    {
     "name": "stdout",
     "output_type": "stream",
     "text": [
      "Total sum is 887459712!\n",
      "Total time taken is 0.3916816711425781\n"
     ]
    }
   ],
   "source": [
    "# Using vectorization\n",
    "\n",
    "import numpy as np\n",
    "start = time.time()\n",
    "sum = np.sum(np.arange(1, 100000000))\n",
    "end = time.time()\n",
    "\n",
    "print(f\"Total sum is {sum}!\")\n",
    "print(f\"Total time taken is {end - start}\")"
   ]
  },
  {
   "cell_type": "markdown",
   "metadata": {},
   "source": [
    "#### If-else "
   ]
  },
  {
   "cell_type": "code",
   "execution_count": 5,
   "metadata": {},
   "outputs": [
    {
     "data": {
      "text/html": [
       "<div>\n",
       "<style scoped>\n",
       "    .dataframe tbody tr th:only-of-type {\n",
       "        vertical-align: middle;\n",
       "    }\n",
       "\n",
       "    .dataframe tbody tr th {\n",
       "        vertical-align: top;\n",
       "    }\n",
       "\n",
       "    .dataframe thead th {\n",
       "        text-align: right;\n",
       "    }\n",
       "</style>\n",
       "<table border=\"1\" class=\"dataframe\">\n",
       "  <thead>\n",
       "    <tr style=\"text-align: right;\">\n",
       "      <th></th>\n",
       "      <th>a</th>\n",
       "      <th>b</th>\n",
       "      <th>c</th>\n",
       "      <th>d</th>\n",
       "    </tr>\n",
       "  </thead>\n",
       "  <tbody>\n",
       "    <tr>\n",
       "      <th>0</th>\n",
       "      <td>8</td>\n",
       "      <td>4</td>\n",
       "      <td>1</td>\n",
       "      <td>30</td>\n",
       "    </tr>\n",
       "    <tr>\n",
       "      <th>1</th>\n",
       "      <td>27</td>\n",
       "      <td>47</td>\n",
       "      <td>7</td>\n",
       "      <td>44</td>\n",
       "    </tr>\n",
       "    <tr>\n",
       "      <th>2</th>\n",
       "      <td>3</td>\n",
       "      <td>19</td>\n",
       "      <td>34</td>\n",
       "      <td>32</td>\n",
       "    </tr>\n",
       "    <tr>\n",
       "      <th>3</th>\n",
       "      <td>11</td>\n",
       "      <td>49</td>\n",
       "      <td>27</td>\n",
       "      <td>30</td>\n",
       "    </tr>\n",
       "    <tr>\n",
       "      <th>4</th>\n",
       "      <td>10</td>\n",
       "      <td>4</td>\n",
       "      <td>33</td>\n",
       "      <td>38</td>\n",
       "    </tr>\n",
       "  </tbody>\n",
       "</table>\n",
       "</div>"
      ],
      "text/plain": [
       "    a   b   c   d\n",
       "0   8   4   1  30\n",
       "1  27  47   7  44\n",
       "2   3  19  34  32\n",
       "3  11  49  27  30\n",
       "4  10   4  33  38"
      ]
     },
     "execution_count": 5,
     "metadata": {},
     "output_type": "execute_result"
    }
   ],
   "source": [
    "import numpy as np\n",
    "import pandas as pd\n",
    "df = pd.DataFrame(np.random.randint(0, 50, size=(50000, 4)), columns=('a','b','c','d'))\n",
    "df.shape\n",
    "# (5000000, 5)\n",
    "df.head()"
   ]
  },
  {
   "cell_type": "code",
   "execution_count": 6,
   "metadata": {},
   "outputs": [
    {
     "name": "stdout",
     "output_type": "stream",
     "text": [
      "3.692699670791626\n"
     ]
    }
   ],
   "source": [
    "# Using if-else statements\n",
    "import time \n",
    "start = time.time()\n",
    "\n",
    "# Iterating through DataFrame using iterrows\n",
    "for idx, row in df.iterrows():\n",
    "    if row.a == 0:\n",
    "        df.at[idx,'e'] = row.d    \n",
    "    elif (row.a <= 25) & (row.a > 0):\n",
    "        df.at[idx,'e'] = (row.b)-(row.c)    \n",
    "    else:\n",
    "        df.at[idx,'e'] = row.b + row.c\n",
    "end = time.time()\n",
    "print(end - start)"
   ]
  },
  {
   "cell_type": "code",
   "execution_count": 7,
   "metadata": {},
   "outputs": [
    {
     "name": "stdout",
     "output_type": "stream",
     "text": [
      "0.010634183883666992\n"
     ]
    }
   ],
   "source": [
    "# using numpy vectorization\n",
    "start = time.time()\n",
    "df['e'] = df['b'] + df['c']\n",
    "df.loc[df['a'] <= 25, 'e'] = df['b'] -df['c']\n",
    "df.loc[df['a']==0, 'e'] = df['d']\n",
    "end = time.time()\n",
    "print(end - start)"
   ]
  },
  {
   "cell_type": "markdown",
   "metadata": {},
   "source": [
    "#### Solving Machine Learning/Deep Learning Networks"
   ]
  },
  {
   "cell_type": "code",
   "execution_count": 8,
   "metadata": {},
   "outputs": [],
   "source": [
    "import numpy as np\n",
    "# setting initial values of m \n",
    "m = np.random.rand(1,5)\n",
    "\n",
    "# input values for 5 million rows\n",
    "x = np.random.rand(5000000,5)"
   ]
  },
  {
   "cell_type": "code",
   "execution_count": 9,
   "metadata": {},
   "outputs": [
    {
     "name": "stdout",
     "output_type": "stream",
     "text": [
      "Computation time = 10.71875seconds\n"
     ]
    }
   ],
   "source": [
    "import numpy as np\n",
    "m = np.random.rand(1,5)\n",
    "x = np.random.rand(5000000,5)\n",
    "\n",
    "total = 0\n",
    "tic = time.process_time()\n",
    "for i in range(0,5000000):\n",
    "    total = 0\n",
    "    for j in range(0,5):\n",
    "        total = total + x[i][j]*m[0][j] \n",
    "toc = time.process_time()\n",
    "print (\"Computation time = \" + str((toc - tic)) + \"seconds\")"
   ]
  },
  {
   "cell_type": "code",
   "execution_count": 10,
   "metadata": {},
   "outputs": [
    {
     "name": "stdout",
     "output_type": "stream",
     "text": [
      "Computation time = 0.015625seconds\n"
     ]
    }
   ],
   "source": [
    "tic = time.process_time()\n",
    "\n",
    "#dot product \n",
    "np.dot(x,m.T) \n",
    "toc = time.process_time()\n",
    "print (\"Computation time = \" + str((toc - tic)) + \"seconds\")"
   ]
  },
  {
   "cell_type": "markdown",
   "metadata": {},
   "source": [
    "#### Enumerate and itertools"
   ]
  },
  {
   "cell_type": "markdown",
   "metadata": {},
   "source": [
    "The enumerate() function in Python is used to iterate over a sequence (list, tuple, string, etc.) while also keeping track of the index or position of each item during iteration."
   ]
  },
  {
   "cell_type": "code",
   "execution_count": 2,
   "metadata": {},
   "outputs": [
    {
     "name": "stdout",
     "output_type": "stream",
     "text": [
      "Index: 0, Value: apple\n",
      "Index: 1, Value: banana\n",
      "Index: 2, Value: orange\n"
     ]
    }
   ],
   "source": [
    "my_list = ['apple', 'banana', 'orange']\n",
    "\n",
    "for index, value in enumerate(my_list):\n",
    "    print(f\"Index: {index}, Value: {value}\")\n"
   ]
  },
  {
   "cell_type": "code",
   "execution_count": 3,
   "metadata": {},
   "outputs": [
    {
     "name": "stdout",
     "output_type": "stream",
     "text": [
      "Index: 1, Value: apple\n",
      "Index: 2, Value: banana\n",
      "Index: 3, Value: orange\n"
     ]
    }
   ],
   "source": [
    "my_list = ['apple', 'banana', 'orange']\n",
    "\n",
    "for index, value in enumerate(my_list, start=1):\n",
    "    print(f\"Index: {index}, Value: {value}\")\n"
   ]
  },
  {
   "cell_type": "code",
   "execution_count": 4,
   "metadata": {},
   "outputs": [
    {
     "name": "stdout",
     "output_type": "stream",
     "text": [
      "Index: 0, Character: H\n",
      "Index: 1, Character: e\n",
      "Index: 2, Character: l\n",
      "Index: 3, Character: l\n",
      "Index: 4, Character: o\n"
     ]
    }
   ],
   "source": [
    "my_string = \"Hello\"\n",
    "\n",
    "for index, char in enumerate(my_string):\n",
    "    print(f\"Index: {index}, Character: {char}\")"
   ]
  },
  {
   "cell_type": "code",
   "execution_count": 5,
   "metadata": {},
   "outputs": [
    {
     "name": "stdout",
     "output_type": "stream",
     "text": [
      "Index: 0, Key: a, Value: 1\n",
      "Index: 1, Key: b, Value: 2\n",
      "Index: 2, Key: c, Value: 3\n"
     ]
    }
   ],
   "source": [
    "my_dict = {'a': 1, 'b': 2, 'c': 3}\n",
    "\n",
    "for index, (key, value) in enumerate(my_dict.items()):\n",
    "    print(f\"Index: {index}, Key: {key}, Value: {value}\")\n"
   ]
  },
  {
   "cell_type": "markdown",
   "metadata": {},
   "source": [
    "itertools is a powerful module in Python that provides various tools for handling iterators and creating iterators efficiently. It offers functions to create iterators for efficient looping, combining, and operating on data iteratively."
   ]
  },
  {
   "cell_type": "code",
   "execution_count": 6,
   "metadata": {},
   "outputs": [
    {
     "name": "stdout",
     "output_type": "stream",
     "text": [
      "1\n",
      "3\n",
      "5\n",
      "7\n",
      "9\n",
      "11\n"
     ]
    }
   ],
   "source": [
    "import itertools\n",
    "\n",
    "for i in itertools.count(start=1, step=2):\n",
    "    print(i)\n",
    "    if i > 10:\n",
    "        break"
   ]
  },
  {
   "cell_type": "code",
   "execution_count": 7,
   "metadata": {},
   "outputs": [
    {
     "name": "stdout",
     "output_type": "stream",
     "text": [
      "a\n",
      "b\n",
      "c\n",
      "a\n",
      "b\n",
      "c\n",
      "a\n"
     ]
    }
   ],
   "source": [
    "import itertools\n",
    "\n",
    "count = 0\n",
    "for i in itertools.cycle(['a', 'b', 'c']):\n",
    "    print(i)\n",
    "    count += 1\n",
    "    if count > 6:\n",
    "        break\n"
   ]
  },
  {
   "cell_type": "code",
   "execution_count": 9,
   "metadata": {},
   "outputs": [
    {
     "name": "stdout",
     "output_type": "stream",
     "text": [
      "1\n",
      "2\n",
      "3\n",
      "a\n",
      "b\n",
      "c\n"
     ]
    }
   ],
   "source": [
    "import itertools\n",
    "\n",
    "list1 = [1, 2, 3]\n",
    "list2 = ['a', 'b', 'c']\n",
    "combined = itertools.chain(list1, list2)\n",
    "\n",
    "for i in combined:\n",
    "    print(i)"
   ]
  },
  {
   "cell_type": "code",
   "execution_count": 12,
   "metadata": {},
   "outputs": [
    {
     "name": "stdout",
     "output_type": "stream",
     "text": [
      "('A', 'B')\n",
      "('A', 'C')\n",
      "('B', 'A')\n",
      "('B', 'C')\n",
      "('C', 'A')\n",
      "('C', 'B')\n"
     ]
    }
   ],
   "source": [
    "# Permutations and combinations\n",
    "import itertools\n",
    "\n",
    "perms = itertools.permutations('ABC', 2)\n",
    "for perm in perms:\n",
    "    print(perm)"
   ]
  },
  {
   "cell_type": "code",
   "execution_count": 13,
   "metadata": {},
   "outputs": [
    {
     "name": "stdout",
     "output_type": "stream",
     "text": [
      "('X', 'Y')\n",
      "('X', 'Z')\n",
      "('Y', 'Z')\n"
     ]
    }
   ],
   "source": [
    "import itertools\n",
    "\n",
    "combs = itertools.combinations('XYZ', 2)\n",
    "for comb in combs:\n",
    "    print(comb)\n"
   ]
  },
  {
   "cell_type": "code",
   "execution_count": null,
   "metadata": {},
   "outputs": [],
   "source": []
  }
 ],
 "metadata": {
  "kernelspec": {
   "display_name": "venv-pe",
   "language": "python",
   "name": "python3"
  },
  "language_info": {
   "codemirror_mode": {
    "name": "ipython",
    "version": 3
   },
   "file_extension": ".py",
   "mimetype": "text/x-python",
   "name": "python",
   "nbconvert_exporter": "python",
   "pygments_lexer": "ipython3",
   "version": "3.10.11"
  }
 },
 "nbformat": 4,
 "nbformat_minor": 2
}
